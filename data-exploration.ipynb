{
 "cells": [
  {
   "cell_type": "code",
   "id": "initial_id",
   "metadata": {
    "collapsed": true,
    "ExecuteTime": {
     "end_time": "2025-05-19T10:49:36.705017Z",
     "start_time": "2025-05-19T10:49:36.697885Z"
    }
   },
   "source": [
    "import numpy as np\n",
    "import pandas as pd\n",
    "import os"
   ],
   "outputs": [],
   "execution_count": 10
  },
  {
   "metadata": {},
   "cell_type": "markdown",
   "source": "### Data Preparation",
   "id": "27e7d378a346aee2"
  },
  {
   "metadata": {
    "ExecuteTime": {
     "end_time": "2025-05-19T11:40:33.530278Z",
     "start_time": "2025-05-19T11:40:33.525262Z"
    }
   },
   "cell_type": "code",
   "source": [
    "# Find absolute path of ./data/train\n",
    "# root_path = os.path.abspath(os.path.dirname(__file__))\n",
    "root_path = os.path.abspath(os.getcwd())\n",
    "train_path = os.path.join(root_path, \"data/train\")"
   ],
   "id": "f6a206ada56f4586",
   "outputs": [],
   "execution_count": 30
  },
  {
   "metadata": {
    "ExecuteTime": {
     "end_time": "2025-05-19T11:49:45.430403Z",
     "start_time": "2025-05-19T11:49:36.329320Z"
    }
   },
   "cell_type": "code",
   "source": [
    "file_ids = ['1', '2', '3', '4', '6', '7', '8', '9', '10', '51', '52', '53', '54', '55', '56', '57', '58', '59', '60']\n",
    "for file_id in file_ids:\n",
    "    globals()[f'run_data_{file_id}'] = pd.read_parquet(os.path.join(train_path, f\"run_data_{file_id}.parquet\"))\n",
    "    globals()[f'incoming_run_data_{file_id}'] = pd.read_parquet(os.path.join(train_path, f\"incoming_run_data_{file_id}.parquet\"))\n",
    "    globals()[f'metrology_data_{file_id}'] = pd.read_parquet(os.path.join(train_path, f\"metrology_data{file_id}.parquet\"))"
   ],
   "id": "e006cecf2ccc774d",
   "outputs": [],
   "execution_count": 43
  },
  {
   "metadata": {},
   "cell_type": "markdown",
   "source": "### Basic Properties",
   "id": "e5e1eaf673f0a10d"
  },
  {
   "metadata": {},
   "cell_type": "markdown",
   "source": [
    "#### Tool ID\n",
    "* A single and unique Tool ID for each run/incoming run file\n",
    "* Corresponding run/incoming run files share the same Tool ID"
   ],
   "id": "830eab8eb7635e79"
  },
  {
   "metadata": {
    "ExecuteTime": {
     "end_time": "2025-05-19T12:09:34.896835Z",
     "start_time": "2025-05-19T12:09:30.552739Z"
    }
   },
   "cell_type": "code",
   "source": [
    "unique_tools = set()\n",
    "for file_id in file_ids:\n",
    "    unique_tool_run = globals()[f'run_data_{file_id}']['Tool ID'].unique()\n",
    "    unique_tool_incoming_run = globals()[f'incoming_run_data_{file_id}']['Tool ID'].unique()\n",
    "    print(unique_tool_run == unique_tool_incoming_run)"
   ],
   "id": "1c9554bc9a0e9083",
   "outputs": [
    {
     "name": "stdout",
     "output_type": "stream",
     "text": [
      "[ True]\n",
      "[ True]\n",
      "[ True]\n",
      "[ True]\n",
      "[ True]\n",
      "[ True]\n",
      "[ True]\n",
      "[ True]\n",
      "[ True]\n",
      "[ True]\n",
      "[ True]\n",
      "[ True]\n",
      "[ True]\n",
      "[ True]\n",
      "[ True]\n",
      "[ True]\n",
      "[ True]\n",
      "[ True]\n",
      "[ True]\n"
     ]
    }
   ],
   "execution_count": 45
  },
  {
   "metadata": {},
   "cell_type": "markdown",
   "source": "#### Run IDs\n",
   "id": "ee38dafa7f39d7c4"
  },
  {
   "metadata": {
    "ExecuteTime": {
     "end_time": "2025-05-19T13:01:08.488448Z",
     "start_time": "2025-05-19T13:01:03.979476Z"
    }
   },
   "cell_type": "code",
   "source": [
    "for file_id in file_ids:\n",
    "    run_data = globals()[f'run_data_{file_id}']\n",
    "    incoming_run_data = globals()[f'incoming_run_data_{file_id}']\n",
    "    run_ids_run = run_data['Run ID']\n",
    "    unique_run_ids_run = set(run_ids_run.unique())\n",
    "    run_ids_incoming_run = incoming_run_data['Run ID']\n",
    "    unique_run_ids_incoming = set(run_ids_incoming_run.unique())\n",
    "    metrology_data = globals()[f'metrology_data_{file_id}']\n",
    "    run_ids_metrology = metrology_data['Run ID']\n",
    "    unique_run_ids_metrology = set(run_ids_metrology.unique())\n",
    "\n",
    "    print(file_id)\n",
    "    print(len(unique_run_ids_run))\n",
    "    print(len(run_ids_run))\n",
    "    print(len(run_ids_incoming_run))\n",
    "    print(len(run_ids_metrology))\n",
    "    print(unique_run_ids_run == unique_run_ids_incoming == unique_run_ids_metrology)\n",
    "    print()"
   ],
   "id": "444606a34e58695",
   "outputs": [
    {
     "name": "stdout",
     "output_type": "stream",
     "text": [
      "1\n",
      "225\n",
      "2235645\n",
      "4469164\n",
      "11025\n",
      "True\n",
      "\n",
      "2\n",
      "225\n",
      "2231955\n",
      "4402908\n",
      "11025\n",
      "True\n",
      "\n",
      "3\n",
      "225\n",
      "2235450\n",
      "4616887\n",
      "11025\n",
      "True\n",
      "\n",
      "4\n",
      "225\n",
      "2241630\n",
      "4477282\n",
      "11025\n",
      "True\n",
      "\n",
      "6\n",
      "225\n",
      "2224380\n",
      "4663135\n",
      "11025\n",
      "True\n",
      "\n",
      "7\n",
      "225\n",
      "2248140\n",
      "4440628\n",
      "11025\n",
      "True\n",
      "\n",
      "8\n",
      "225\n",
      "2244840\n",
      "4557355\n",
      "11025\n",
      "True\n",
      "\n",
      "9\n",
      "225\n",
      "2253105\n",
      "4500365\n",
      "11025\n",
      "True\n",
      "\n",
      "10\n",
      "180\n",
      "1798890\n",
      "3664211\n",
      "8820\n",
      "True\n",
      "\n",
      "51\n",
      "225\n",
      "2233815\n",
      "4565186\n",
      "11025\n",
      "True\n",
      "\n",
      "52\n",
      "225\n",
      "2251365\n",
      "4599790\n",
      "11025\n",
      "True\n",
      "\n",
      "53\n",
      "225\n",
      "2241630\n",
      "4456946\n",
      "11025\n",
      "True\n",
      "\n",
      "54\n",
      "225\n",
      "2232780\n",
      "4528655\n",
      "11025\n",
      "True\n",
      "\n",
      "55\n",
      "180\n",
      "1795215\n",
      "3607508\n",
      "8820\n",
      "True\n",
      "\n",
      "56\n",
      "225\n",
      "2219490\n",
      "4528286\n",
      "11025\n",
      "True\n",
      "\n",
      "57\n",
      "225\n",
      "2244480\n",
      "4318858\n",
      "11025\n",
      "True\n",
      "\n",
      "58\n",
      "225\n",
      "2246790\n",
      "4489500\n",
      "11025\n",
      "True\n",
      "\n",
      "59\n",
      "225\n",
      "2249430\n",
      "4422014\n",
      "11025\n",
      "True\n",
      "\n",
      "60\n",
      "180\n",
      "1791720\n",
      "3587828\n",
      "8820\n",
      "True\n",
      "\n"
     ]
    }
   ],
   "execution_count": 57
  },
  {
   "metadata": {},
   "cell_type": "markdown",
   "source": "#### Sensor Names",
   "id": "1882b5373010e504"
  },
  {
   "metadata": {
    "ExecuteTime": {
     "end_time": "2025-05-19T13:11:49.883136Z",
     "start_time": "2025-05-19T13:11:48.435109Z"
    }
   },
   "cell_type": "code",
   "source": [
    "print(run_data_1['Sensor Name'].unique())\n",
    "for file_id in file_ids:\n",
    "    run_data = globals()[f'run_data_{file_id}']\n",
    "    print(run_data['Sensor Name'].unique() == run_data_1['Sensor Name'].unique())"
   ],
   "id": "e4235567d9dd0349",
   "outputs": [
    {
     "name": "stdout",
     "output_type": "stream",
     "text": [
      "['Sensor_A' 'Sensor_B' 'Sensor_C' 'Sensor_D' 'Sensor_E' 'Sensor_F'\n",
      " 'Sensor_G' 'Sensor_H' 'Sensor_I' 'Sensor_J' 'Sensor_K' 'Sensor_L'\n",
      " 'Sensor_M' 'Sensor_N' 'Sensor_O']\n",
      "[ True  True  True  True  True  True  True  True  True  True  True  True\n",
      "  True  True  True]\n",
      "[ True  True  True  True  True  True  True  True  True  True  True  True\n",
      "  True  True  True]\n",
      "[ True  True  True  True  True  True  True  True  True  True  True  True\n",
      "  True  True  True]\n",
      "[ True  True  True  True  True  True  True  True  True  True  True  True\n",
      "  True  True  True]\n",
      "[ True  True  True  True  True  True  True  True  True  True  True  True\n",
      "  True  True  True]\n",
      "[ True  True  True  True  True  True  True  True  True  True  True  True\n",
      "  True  True  True]\n",
      "[ True  True  True  True  True  True  True  True  True  True  True  True\n",
      "  True  True  True]\n",
      "[ True  True  True  True  True  True  True  True  True  True  True  True\n",
      "  True  True  True]\n",
      "[ True  True  True  True  True  True  True  True  True  True  True  True\n",
      "  True  True  True]\n",
      "[ True  True  True  True  True  True  True  True  True  True  True  True\n",
      "  True  True  True]\n",
      "[ True  True  True  True  True  True  True  True  True  True  True  True\n",
      "  True  True  True]\n",
      "[ True  True  True  True  True  True  True  True  True  True  True  True\n",
      "  True  True  True]\n",
      "[ True  True  True  True  True  True  True  True  True  True  True  True\n",
      "  True  True  True]\n",
      "[ True  True  True  True  True  True  True  True  True  True  True  True\n",
      "  True  True  True]\n",
      "[ True  True  True  True  True  True  True  True  True  True  True  True\n",
      "  True  True  True]\n",
      "[ True  True  True  True  True  True  True  True  True  True  True  True\n",
      "  True  True  True]\n",
      "[ True  True  True  True  True  True  True  True  True  True  True  True\n",
      "  True  True  True]\n",
      "[ True  True  True  True  True  True  True  True  True  True  True  True\n",
      "  True  True  True]\n",
      "[ True  True  True  True  True  True  True  True  True  True  True  True\n",
      "  True  True  True]\n"
     ]
    }
   ],
   "execution_count": 64
  },
  {
   "metadata": {
    "ExecuteTime": {
     "end_time": "2025-05-19T13:13:25.637181Z",
     "start_time": "2025-05-19T13:13:22.360592Z"
    }
   },
   "cell_type": "code",
   "source": [
    "print(incoming_run_data_1['Sensor Name'].unique())\n",
    "for file_id in file_ids:\n",
    "    incoming_run_data = globals()[f'incoming_run_data_{file_id}']\n",
    "    print(incoming_run_data['Sensor Name'].unique() == incoming_run_data_1['Sensor Name'].unique())"
   ],
   "id": "3435d360fe4757d4",
   "outputs": [
    {
     "name": "stdout",
     "output_type": "stream",
     "text": [
      "['Sensor_1' 'Sensor_10' 'Sensor_11' 'Sensor_12' 'Sensor_13' 'Sensor_14'\n",
      " 'Sensor_15' 'Sensor_16' 'Sensor_17' 'Sensor_18' 'Sensor_19' 'Sensor_2'\n",
      " 'Sensor_20' 'Sensor_21' 'Sensor_22' 'Sensor_23' 'Sensor_24' 'Sensor_25'\n",
      " 'Sensor_26' 'Sensor_27' 'Sensor_28' 'Sensor_29' 'Sensor_3' 'Sensor_30'\n",
      " 'Sensor_31' 'Sensor_32' 'Sensor_33' 'Sensor_34' 'Sensor_35' 'Sensor_36'\n",
      " 'Sensor_37' 'Sensor_38' 'Sensor_39' 'Sensor_4' 'Sensor_40' 'Sensor_41'\n",
      " 'Sensor_5' 'Sensor_6' 'Sensor_7' 'Sensor_8' 'Sensor_9']\n",
      "[ True  True  True  True  True  True  True  True  True  True  True  True\n",
      "  True  True  True  True  True  True  True  True  True  True  True  True\n",
      "  True  True  True  True  True  True  True  True  True  True  True  True\n",
      "  True  True  True  True  True]\n",
      "[ True  True  True  True  True  True  True  True  True  True  True  True\n",
      "  True  True  True  True  True  True  True  True  True  True  True  True\n",
      "  True  True  True  True  True  True  True  True  True  True  True  True\n",
      "  True  True  True  True  True]\n",
      "[ True  True  True  True  True  True  True  True  True  True  True  True\n",
      "  True  True  True  True  True  True  True  True  True  True  True  True\n",
      "  True  True  True  True  True  True  True  True  True  True  True  True\n",
      "  True  True  True  True  True]\n",
      "[ True  True  True  True  True  True  True  True  True  True  True  True\n",
      "  True  True  True  True  True  True  True  True  True  True  True  True\n",
      "  True  True  True  True  True  True  True  True  True  True  True  True\n",
      "  True  True  True  True  True]\n",
      "[ True  True  True  True  True  True  True  True  True  True  True  True\n",
      "  True  True  True  True  True  True  True  True  True  True  True  True\n",
      "  True  True  True  True  True  True  True  True  True  True  True  True\n",
      "  True  True  True  True  True]\n",
      "[ True  True  True  True  True  True  True  True  True  True  True  True\n",
      "  True  True  True  True  True  True  True  True  True  True  True  True\n",
      "  True  True  True  True  True  True  True  True  True  True  True  True\n",
      "  True  True  True  True  True]\n",
      "[ True  True  True  True  True  True  True  True  True  True  True  True\n",
      "  True  True  True  True  True  True  True  True  True  True  True  True\n",
      "  True  True  True  True  True  True  True  True  True  True  True  True\n",
      "  True  True  True  True  True]\n",
      "[ True  True  True  True  True  True  True  True  True  True  True  True\n",
      "  True  True  True  True  True  True  True  True  True  True  True  True\n",
      "  True  True  True  True  True  True  True  True  True  True  True  True\n",
      "  True  True  True  True  True]\n",
      "[ True  True  True  True  True  True  True  True  True  True  True  True\n",
      "  True  True  True  True  True  True  True  True  True  True  True  True\n",
      "  True  True  True  True  True  True  True  True  True  True  True  True\n",
      "  True  True  True  True  True]\n",
      "[ True  True  True  True  True  True  True  True  True  True  True  True\n",
      "  True  True  True  True  True  True  True  True  True  True  True  True\n",
      "  True  True  True  True  True  True  True  True  True  True  True  True\n",
      "  True  True  True  True  True]\n",
      "[ True  True  True  True  True  True  True  True  True  True  True  True\n",
      "  True  True  True  True  True  True  True  True  True  True  True  True\n",
      "  True  True  True  True  True  True  True  True  True  True  True  True\n",
      "  True  True  True  True  True]\n",
      "[ True  True  True  True  True  True  True  True  True  True  True  True\n",
      "  True  True  True  True  True  True  True  True  True  True  True  True\n",
      "  True  True  True  True  True  True  True  True  True  True  True  True\n",
      "  True  True  True  True  True]\n",
      "[ True  True  True  True  True  True  True  True  True  True  True  True\n",
      "  True  True  True  True  True  True  True  True  True  True  True  True\n",
      "  True  True  True  True  True  True  True  True  True  True  True  True\n",
      "  True  True  True  True  True]\n",
      "[ True  True  True  True  True  True  True  True  True  True  True  True\n",
      "  True  True  True  True  True  True  True  True  True  True  True  True\n",
      "  True  True  True  True  True  True  True  True  True  True  True  True\n",
      "  True  True  True  True  True]\n",
      "[ True  True  True  True  True  True  True  True  True  True  True  True\n",
      "  True  True  True  True  True  True  True  True  True  True  True  True\n",
      "  True  True  True  True  True  True  True  True  True  True  True  True\n",
      "  True  True  True  True  True]\n",
      "[ True  True  True  True  True  True  True  True  True  True  True  True\n",
      "  True  True  True  True  True  True  True  True  True  True  True  True\n",
      "  True  True  True  True  True  True  True  True  True  True  True  True\n",
      "  True  True  True  True  True]\n",
      "[ True  True  True  True  True  True  True  True  True  True  True  True\n",
      "  True  True  True  True  True  True  True  True  True  True  True  True\n",
      "  True  True  True  True  True  True  True  True  True  True  True  True\n",
      "  True  True  True  True  True]\n",
      "[ True  True  True  True  True  True  True  True  True  True  True  True\n",
      "  True  True  True  True  True  True  True  True  True  True  True  True\n",
      "  True  True  True  True  True  True  True  True  True  True  True  True\n",
      "  True  True  True  True  True]\n",
      "[ True  True  True  True  True  True  True  True  True  True  True  True\n",
      "  True  True  True  True  True  True  True  True  True  True  True  True\n",
      "  True  True  True  True  True  True  True  True  True  True  True  True\n",
      "  True  True  True  True  True]\n"
     ]
    }
   ],
   "execution_count": 65
  },
  {
   "metadata": {},
   "cell_type": "code",
   "outputs": [],
   "execution_count": null,
   "source": "",
   "id": "67d4e9527a3acc58"
  }
 ],
 "metadata": {
  "kernelspec": {
   "display_name": "Python 3",
   "language": "python",
   "name": "python3"
  },
  "language_info": {
   "codemirror_mode": {
    "name": "ipython",
    "version": 2
   },
   "file_extension": ".py",
   "mimetype": "text/x-python",
   "name": "python",
   "nbconvert_exporter": "python",
   "pygments_lexer": "ipython2",
   "version": "2.7.6"
  }
 },
 "nbformat": 4,
 "nbformat_minor": 5
}
