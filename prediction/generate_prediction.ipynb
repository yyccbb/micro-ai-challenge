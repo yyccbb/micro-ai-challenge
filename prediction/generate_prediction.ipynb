{
 "cells": [
  {
   "cell_type": "code",
   "id": "initial_id",
   "metadata": {
    "collapsed": true,
    "ExecuteTime": {
     "end_time": "2025-06-15T20:04:05.721521Z",
     "start_time": "2025-06-15T20:04:03.472168Z"
    }
   },
   "source": [
    "import os\n",
    "from joblib import dump, load\n",
    "import torch\n",
    "import torch.nn as nn\n",
    "from math import sqrt"
   ],
   "outputs": [],
   "execution_count": 1
  },
  {
   "metadata": {},
   "cell_type": "markdown",
   "source": "### Load `pred_y`",
   "id": "5f3f0fbb89fcfb51"
  },
  {
   "metadata": {
    "ExecuteTime": {
     "end_time": "2025-06-15T20:04:45.131081Z",
     "start_time": "2025-06-15T20:04:45.116772Z"
    }
   },
   "cell_type": "code",
   "source": "pred_y = load('predicted_y.joblib')",
   "id": "d30d2cc04c812f7a",
   "outputs": [],
   "execution_count": 2
  },
  {
   "metadata": {
    "ExecuteTime": {
     "end_time": "2025-06-15T20:04:51.257399Z",
     "start_time": "2025-06-15T20:04:51.252936Z"
    }
   },
   "cell_type": "code",
   "source": "pred_y.shape",
   "id": "2c65a4ba7f24854a",
   "outputs": [
    {
     "data": {
      "text/plain": [
       "torch.Size([860, 49])"
      ]
     },
     "execution_count": 3,
     "metadata": {},
     "output_type": "execute_result"
    }
   ],
   "execution_count": 3
  },
  {
   "metadata": {},
   "cell_type": "code",
   "outputs": [],
   "execution_count": null,
   "source": "",
   "id": "1c9e23c18ec15e9e"
  }
 ],
 "metadata": {
  "kernelspec": {
   "display_name": "Python 3",
   "language": "python",
   "name": "python3"
  },
  "language_info": {
   "codemirror_mode": {
    "name": "ipython",
    "version": 2
   },
   "file_extension": ".py",
   "mimetype": "text/x-python",
   "name": "python",
   "nbconvert_exporter": "python",
   "pygments_lexer": "ipython2",
   "version": "2.7.6"
  }
 },
 "nbformat": 4,
 "nbformat_minor": 5
}
