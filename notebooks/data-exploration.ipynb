{
 "cells": [
  {
   "metadata": {
    "trusted": false,
    "ExecuteTime": {
     "end_time": "2025-06-15T02:52:13.437396Z",
     "start_time": "2025-06-15T02:52:12.943011Z"
    }
   },
   "cell_type": "code",
   "source": "import numpy as np\nimport pandas as pd\nimport os\nimport matplotlib.pyplot as plt\nfrom tqdm import tqdm\n",
   "id": "44b2508692588b02",
   "outputs": [],
   "execution_count": 1
  },
  {
   "metadata": {},
   "cell_type": "markdown",
   "source": "### Data Preparation",
   "id": "bba1a2bde800d33"
  },
  {
   "metadata": {
    "trusted": false,
    "ExecuteTime": {
     "end_time": "2025-06-15T04:21:48.763699Z",
     "start_time": "2025-06-15T04:21:48.755438Z"
    }
   },
   "cell_type": "code",
   "source": [
    "# Find absolute path of ./data/train\n",
    "root_path = os.path.abspath(os.path.dirname(os.getcwd()))\n",
    "train_path = os.path.join(root_path, 'data', 'train')\n",
    "test_path = os.path.join(root_path, 'data', 'test')\n",
    "processed_path = os.path.join(root_path, 'data', 'processed')\n",
    "plots_path = os.path.join(root_path, 'plots')"
   ],
   "id": "2e36e01a746036d5",
   "outputs": [],
   "execution_count": 17
  },
  {
   "metadata": {
    "trusted": false
   },
   "cell_type": "code",
   "outputs": [],
   "execution_count": null,
   "source": "file_ids = ['1', '2', '3', '4', '6', '7', '8', '9', '10', '51', '52', '53', '54', '55', '56', '57', '58', '59', '60']\nfor file_id in file_ids:\n    globals()[f'run_data_{file_id}'] = pd.read_parquet(os.path.join(train_path, f\"run_data_{file_id}.parquet\"))\n    globals()[f'incoming_run_data_{file_id}'] = pd.read_parquet(os.path.join(train_path, f\"incoming_run_data_{file_id}.parquet\"))\n    globals()[f'metrology_data_{file_id}'] = pd.read_parquet(os.path.join(train_path, f\"metrology_data{file_id}.parquet\"))",
   "id": "c91a00cbda3a67a6"
  },
  {
   "metadata": {
    "trusted": false
   },
   "cell_type": "code",
   "outputs": [],
   "execution_count": null,
   "source": "test_run_data = pd.read_parquet(os.path.join(test_path, \"run_data.parquet\"))\ntest_incoming_run_data = pd.read_parquet(os.path.join(test_path, \"incoming_run_data.parquet\"))",
   "id": "ed48ce240338881e"
  },
  {
   "metadata": {
    "trusted": false
   },
   "cell_type": "code",
   "outputs": [],
   "execution_count": null,
   "source": "s = 0\nfor file_id in file_ids:\n    s += len(globals()[f'run_data_{file_id}'])\nprint(f\"Total number of entries in run_data: {s}\")",
   "id": "8e759d8255b30d3e"
  },
  {
   "metadata": {},
   "cell_type": "markdown",
   "source": "## Basic Properties",
   "id": "715030c3596f5eb8"
  },
  {
   "metadata": {},
   "cell_type": "markdown",
   "source": "### Tool ID\n* A single and unique Tool ID for each run/incoming run file\n* Corresponding run/incoming run files share the same Tool ID",
   "id": "3bcb694d10c7a991"
  },
  {
   "metadata": {
    "trusted": false
   },
   "cell_type": "code",
   "outputs": [],
   "execution_count": null,
   "source": "unique_tools = set()\nfor file_id in file_ids:\n    unique_tool_run = globals()[f'run_data_{file_id}']['Tool ID'].unique()\n    unique_tool_incoming_run = globals()[f'incoming_run_data_{file_id}']['Tool ID'].unique()\n    print(unique_tool_run == unique_tool_incoming_run)\n    unique_tools.add(unique_tool_run[0])",
   "id": "107d07909214e8d1"
  },
  {
   "metadata": {},
   "cell_type": "markdown",
   "source": "### Run IDs\n",
   "id": "80cdd16ed203154f"
  },
  {
   "metadata": {
    "trusted": false
   },
   "cell_type": "code",
   "outputs": [],
   "execution_count": null,
   "source": "for file_id in file_ids:\n    run_data = globals()[f'run_data_{file_id}']\n    incoming_run_data = globals()[f'incoming_run_data_{file_id}']\n    run_ids_run = run_data['Run ID']\n    unique_run_ids_run = set(run_ids_run.unique())\n    run_ids_incoming_run = incoming_run_data['Run ID']\n    unique_run_ids_incoming = set(run_ids_incoming_run.unique())\n    metrology_data = globals()[f'metrology_data_{file_id}']\n    run_ids_metrology = metrology_data['Run ID']\n    unique_run_ids_metrology = set(run_ids_metrology.unique())\n\n    print(file_id)\n    print(len(unique_run_ids_run))\n    print(len(run_ids_run))\n    print(len(run_ids_incoming_run))\n    print(len(run_ids_metrology))\n    print(unique_run_ids_run == unique_run_ids_incoming == unique_run_ids_metrology)\n    print()",
   "id": "5390fafbb29fcd2"
  },
  {
   "metadata": {},
   "cell_type": "markdown",
   "source": "### Sensor Names",
   "id": "ec7597c85d16ea5"
  },
  {
   "metadata": {
    "trusted": false
   },
   "cell_type": "code",
   "outputs": [],
   "execution_count": null,
   "source": "print(run_data_1['Sensor Name'].unique())\nfor file_id in file_ids:\n    run_data = globals()[f'run_data_{file_id}']\n    print(run_data['Sensor Name'].unique() == run_data_1['Sensor Name'].unique())",
   "id": "e0bbb081d0efabc"
  },
  {
   "metadata": {
    "trusted": false
   },
   "cell_type": "code",
   "outputs": [],
   "execution_count": null,
   "source": "print(incoming_run_data_1['Sensor Name'].unique())\nfor file_id in file_ids:\n    incoming_run_data = globals()[f'incoming_run_data_{file_id}']\n    print(incoming_run_data['Sensor Name'].unique() == incoming_run_data_1['Sensor Name'].unique())",
   "id": "cc149b36c679dbfb"
  },
  {
   "metadata": {
    "trusted": false
   },
   "cell_type": "code",
   "outputs": [],
   "execution_count": null,
   "source": "print(run_data_1.head(5))",
   "id": "2fb8afa087f4150e"
  },
  {
   "metadata": {
    "trusted": false
   },
   "cell_type": "code",
   "outputs": [],
   "execution_count": null,
   "source": "print(run_data_1['Consumable Life'].nunique())",
   "id": "dcdbb1294f90eabb"
  },
  {
   "metadata": {
    "trusted": false
   },
   "cell_type": "code",
   "outputs": [],
   "execution_count": null,
   "source": "print(incoming_run_data_1.head(5))",
   "id": "5772644e9fbbddd5"
  },
  {
   "metadata": {},
   "cell_type": "markdown",
   "source": "### Process Step",
   "id": "9487187d167c5f93"
  },
  {
   "metadata": {},
   "cell_type": "markdown",
   "source": "* All run_data file entries share the same `Process Step` (intuitively since run_data focuses on the specific current process).\n* All incoming_run_data file entries also share the same `Process Step`.",
   "id": "fab1a329db32a595"
  },
  {
   "metadata": {
    "trusted": false
   },
   "cell_type": "code",
   "outputs": [],
   "execution_count": null,
   "source": "unique_processes = set()\nfor file_id in file_ids:\n    run_data = globals()[f'run_data_{file_id}']\n    unique_processes.add(run_data['Process Step'].nunique())\n    unique_processes.add(run_data['Process Step'].unique()[0])\nprint(unique_processes)",
   "id": "a3448fc2bb7f20c7"
  },
  {
   "metadata": {
    "trusted": false
   },
   "cell_type": "code",
   "outputs": [],
   "execution_count": null,
   "source": "unique_processes = set()\nfor file_id in file_ids:\n    incoming_run_data = globals()[f'incoming_run_data_{file_id}']\n    unique_processes.add(incoming_run_data['Process Step'].nunique())\n    unique_processes.add(incoming_run_data['Process Step'].unique()[0])\nprint(unique_processes)",
   "id": "cdf28026c1410998"
  },
  {
   "metadata": {},
   "cell_type": "markdown",
   "source": "### Time Stamp",
   "id": "974cd02d15f54c71"
  },
  {
   "metadata": {
    "trusted": false
   },
   "cell_type": "code",
   "outputs": [],
   "execution_count": null,
   "source": "for file_id in file_ids:\n    run_data = globals()[f'run_data_{file_id}']\n    incoming_run_data = globals()[f'incoming_run_data_{file_id}']\n    print(run_data['Run Start Time'].nunique())",
   "id": "5f23c0ef9aafa4e5"
  },
  {
   "metadata": {},
   "cell_type": "markdown",
   "source": "* Every run has `no_time_stamps` * 15 entries for `run_data` and `no_time_stamps` * 41 entries for `incoming_run_data` (in two cases `no_time_stamps` are different)",
   "id": "f3df580ffb84f136"
  },
  {
   "metadata": {
    "trusted": false
   },
   "cell_type": "code",
   "outputs": [],
   "execution_count": null,
   "source": "run_1 = run_data_1[run_data_1['Run ID'] == run_data_1['Run ID'].unique()[1]]\nprint(len(run_1))\nprint(run_1['Time Stamp'].value_counts())",
   "id": "28076ecfcbaa1763"
  },
  {
   "metadata": {
    "trusted": false
   },
   "cell_type": "code",
   "outputs": [],
   "execution_count": null,
   "source": "print(run_1['Step ID'].value_counts())",
   "id": "9b17c9548555041f"
  },
  {
   "metadata": {
    "trusted": false
   },
   "cell_type": "code",
   "outputs": [],
   "execution_count": null,
   "source": "incoming_run_1 = incoming_run_data_1[incoming_run_data_1['Run ID'] == run_data_1['Run ID'].unique()[1]]\nprint(len(incoming_run_1))",
   "id": "98665ff0a7463d7c"
  },
  {
   "metadata": {
    "trusted": false
   },
   "cell_type": "code",
   "outputs": [],
   "execution_count": null,
   "source": "from tqdm import tqdm\n\nfor file_id in file_ids:\n    run_data = globals()[f'run_data_{file_id}']\n    unique_runs = run_data['Run ID'].unique()\n    incoming_run_data = globals()[f'incoming_run_data_{file_id}']\n    for run_id in tqdm(unique_runs, desc=f'Checking run data for file {file_id}'):\n        run = run_data[run_data['Run ID'] == run_id]\n        incoming_run = incoming_run_data[incoming_run_data['Run ID'] == run_id]\n        if len(run) != run['Time Stamp'].nunique() * 15:\n            print(\"Mismatch in run data for Run ID:\", run_id)\n        if len(incoming_run) != incoming_run['Time Stamp'].nunique() * 41:\n            print(\"Mismatch in incoming run data for Run ID:\", run_id)\n\n# No mismatches found, all runs have the expected number of time stamps.",
   "id": "dc64ab94a59962b"
  },
  {
   "metadata": {},
   "cell_type": "markdown",
   "source": "* Within each run in `run_data` or `incoming_run_data`, sensors start measuring since the beginning of the run and record data every second. However, they stop recording before the end of the run.",
   "id": "5f7bed31c68bdb7e"
  },
  {
   "metadata": {
    "trusted": false
   },
   "cell_type": "code",
   "outputs": [],
   "execution_count": null,
   "source": "# Taking run_data_1 and incoming_run_data_1 as an example\nfrom tqdm import tqdm\nimport matplotlib.pyplot as plt\n\nrun_durations = []\nrun_ending_early = []\nincoming_run_durations = []\nincoming_run_ending_early = []\nfor run_id in tqdm(run_data_1['Run ID'].unique()):\n    run = run_data_1[run_data_1['Run ID'] == run_id]\n    run_durations.append((run['Run End Time'].iloc[0] - run['Run Start Time'].iloc[0]).total_seconds())\n    run_ending_early.append((run['Run End Time'].iloc[0] - run['Time Stamp'].max()).total_seconds())\n\n    incoming_run = incoming_run_data_1[incoming_run_data_1['Run ID'] == run_id]\n    incoming_run_durations.append((incoming_run['Run End Time'].iloc[0] - incoming_run['Run Start Time'].iloc[0]).total_seconds())\n    incoming_run_ending_early.append((incoming_run['Run End Time'].iloc[0] - incoming_run['Time Stamp'].max()).total_seconds())",
   "id": "f155bc207a9dc6f0"
  },
  {
   "metadata": {
    "trusted": false
   },
   "cell_type": "code",
   "outputs": [],
   "execution_count": null,
   "source": "print((np.array(run_durations) == 755.0).all())\nprint((np.array(incoming_run_durations) == 742.0).all())",
   "id": "ac4a1811929506b2"
  },
  {
   "metadata": {
    "trusted": false
   },
   "cell_type": "code",
   "outputs": [],
   "execution_count": null,
   "source": "print(run_ending_early)",
   "id": "fa892934afff1992"
  },
  {
   "metadata": {
    "trusted": false
   },
   "cell_type": "code",
   "outputs": [],
   "execution_count": null,
   "source": "plt.figure(figsize=(12, 6))\nplt.subplot(1, 2, 1)\nplt.hist(run_ending_early, bins=100)\nplt.subplot(1, 2, 2)\nplt.hist(incoming_run_ending_early, bins=100)\nplt.show()",
   "id": "34c0d4d14761e9e6"
  },
  {
   "metadata": {
    "trusted": false
   },
   "cell_type": "code",
   "outputs": [],
   "execution_count": null,
   "source": "run_1 = run_data_1[run_data_1['Run ID'] == run_data_1['Run ID'].unique()[1]]\n# run_1['Time Stamp'] = (run_1['Time Stamp'] - run_1['Time Stamp'].min()).dt.total_seconds().round().astype(int)\nincoming_run_1 = incoming_run_data_1[incoming_run_data_1['Run ID'] == run_data_1['Run ID'].unique()[1]]\n# incoming_run_1['Time Stamp'] = (incoming_run_1['Time Stamp'] - incoming_run_1['Time Stamp'].min()).dt.total_seconds().round().astype(int)",
   "id": "7c0411b199c9beba"
  },
  {
   "metadata": {
    "trusted": false
   },
   "cell_type": "code",
   "outputs": [],
   "execution_count": null,
   "source": "print(run_data_1['Run ID'].nunique())",
   "id": "75d81e5ba6232217"
  },
  {
   "metadata": {},
   "cell_type": "markdown",
   "source": "### Consumable Life",
   "id": "dd9a3ecb53d14bb4"
  },
  {
   "metadata": {
    "trusted": false
   },
   "cell_type": "code",
   "outputs": [],
   "execution_count": null,
   "source": "start_times = []\nconsumable_lives = []\nfor run_id in run_data_1['Run ID'].unique():\n    run = run_data_1[run_data_1['Run ID'] == run_id]\n    start_times.append(run['Run Start Time'].iloc[0])\n    consumable_lives.append(run['Consumable Life'].iloc[0])",
   "id": "91870435947c695c"
  },
  {
   "metadata": {
    "trusted": false
   },
   "cell_type": "code",
   "outputs": [],
   "execution_count": null,
   "source": "plt.scatter(start_times, consumable_lives)",
   "id": "4fcb5264068baf0d"
  },
  {
   "metadata": {
    "trusted": false
   },
   "cell_type": "code",
   "outputs": [],
   "execution_count": null,
   "source": "for file_id in file_ids:\n    run_data = globals()[f'run_data_{file_id}']\n    run_1 = run_data[run_data['Run ID'] == run_data['Run ID'].unique()[1]]\n    print(run_1['Consumable Life'].unique())",
   "id": "2b941a16dd8eccf8"
  },
  {
   "metadata": {
    "trusted": false
   },
   "cell_type": "code",
   "outputs": [],
   "execution_count": null,
   "source": "print(run_1['Run Start Time'].iloc[0])\nprint((run_1['Run End Time'].iloc[0] - run_1['Run Start Time'].iloc[0]).total_seconds())\nprint(run_1['Run End Time'].iloc[0])\nprint(incoming_run_1['Run Start Time'].iloc[0])\nprint((incoming_run_1['Run End Time'].iloc[0] - incoming_run_1['Run Start Time'].iloc[0]).total_seconds())\nprint(incoming_run_1['Run End Time'].iloc[0])",
   "id": "75fcebaf7d61ca70"
  },
  {
   "metadata": {
    "trusted": false
   },
   "cell_type": "code",
   "outputs": [],
   "execution_count": null,
   "source": "for file_id in file_ids:\n    run_data = globals()[f'run_data_{file_id}']\n    incoming_run_data = globals()[f'incoming_run_data_{file_id}']\n    print(len(run_data) / len(incoming_run_data))",
   "id": "728059e020f6ee45"
  },
  {
   "metadata": {},
   "cell_type": "markdown",
   "source": "## Feature Engineering",
   "id": "27d277e67e883393"
  },
  {
   "metadata": {},
   "cell_type": "markdown",
   "source": "### Initialization",
   "id": "fa8344b099304056"
  },
  {
   "metadata": {
    "trusted": false
   },
   "cell_type": "code",
   "outputs": [],
   "execution_count": null,
   "source": "sample_run_data = run_data_1\nsample_incoming_run_data = incoming_run_data_1",
   "id": "79a5660cb84b4f9d"
  },
  {
   "metadata": {},
   "cell_type": "markdown",
   "source": "### Column Modifications",
   "id": "4358ce2ba1c21ba0"
  },
  {
   "metadata": {},
   "cell_type": "markdown",
   "source": "#### Drop `Process Step`",
   "id": "e445aeda4b1c009a"
  },
  {
   "metadata": {
    "trusted": false
   },
   "cell_type": "code",
   "outputs": [],
   "execution_count": null,
   "source": "sample_run_data = sample_run_data.drop(columns=['Process Step'])\nsample_incoming_run_data = sample_incoming_run_data.drop(columns=['Process Step'])",
   "id": "9439fc58c77db3bf"
  },
  {
   "metadata": {},
   "cell_type": "markdown",
   "source": "#### Replace `Run End Time` with duration of the run and rename it to `Run Duration`",
   "id": "2cae43a69d50ab14"
  },
  {
   "metadata": {
    "trusted": false
   },
   "cell_type": "code",
   "outputs": [],
   "execution_count": null,
   "source": "sample_run_data['Run End Time'] = (sample_run_data['Run End Time'] - sample_run_data['Run Start Time']).dt.total_seconds().astype(int)\nsample_run_data.rename(columns={'Run End Time': 'Run Duration'}, inplace=True)\nprint(sample_run_data.head(5))",
   "id": "1c0b77670e4cfa94"
  },
  {
   "metadata": {},
   "cell_type": "markdown",
   "source": "#### Replace `Run Start Time` with number representing seconds elapsed since the start of the first run",
   "id": "a66f83bc910061a3"
  },
  {
   "metadata": {
    "trusted": false
   },
   "cell_type": "code",
   "outputs": [],
   "execution_count": null,
   "source": "start_time = sample_run_data['Run Start Time'].min()\nsample_run_data['Run Start Time'] = (sample_run_data['Run Start Time'] - start_time).dt.total_seconds().astype(int)\n\nprint(sample_run_data.head(5))",
   "id": "3064370d57a4e1d9"
  },
  {
   "metadata": {},
   "cell_type": "markdown",
   "source": "#### Test if `Time Stamp` is in seconds",
   "id": "1fc14a2b0ae85f6a"
  },
  {
   "metadata": {
    "trusted": false
   },
   "cell_type": "code",
   "outputs": [],
   "execution_count": null,
   "source": "second_threshold = 0.0001\nstart_time = sample_run_data['Time Stamp'].min()\nnearest_second = (sample_run_data['Time Stamp'] - start_time).dt.total_seconds().round() * pd.Timedelta(seconds=1) + start_time\ndeviations = (nearest_second - sample_run_data['Time Stamp']).abs()\nprint(deviations.max() < pd.Timedelta(seconds=second_threshold))",
   "id": "5d88d66290fddc68"
  },
  {
   "metadata": {},
   "cell_type": "markdown",
   "source": "#### Replace `Time Stamp` with seconds elapsed since the start of the first run",
   "id": "e45f0c6ad2d8c93f"
  },
  {
   "metadata": {
    "trusted": false
   },
   "cell_type": "code",
   "outputs": [],
   "execution_count": null,
   "source": "sample_run_data['Time Stamp'] = (sample_run_data['Time Stamp'] - start_time).dt.total_seconds().round().astype(int)",
   "id": "d95bf9766a6517ae"
  },
  {
   "metadata": {},
   "cell_type": "markdown",
   "source": "#### Replace `Tool ID` with a categorical number",
   "id": "d0727dacf992dc54"
  },
  {
   "metadata": {
    "trusted": false
   },
   "cell_type": "code",
   "outputs": [],
   "execution_count": null,
   "source": "sample_run_data['Tool ID'] = sample_run_data['Tool ID'].astype('category').cat.codes\n\nprint(sample_run_data.head(5))",
   "id": "b45c79c5ba2e25b3"
  },
  {
   "metadata": {},
   "cell_type": "markdown",
   "source": "#### Step ID uniqueness",
   "id": "ee5bc17a3958f1e5"
  },
  {
   "metadata": {
    "trusted": false
   },
   "cell_type": "code",
   "outputs": [],
   "execution_count": null,
   "source": "for file_id in file_ids:\n    run_data = globals()[f'run_data_{file_id}']\n    if run_data['Step ID'].nunique() != 13:\n        print('Not all step counts are the same')\n        break\nelse:\n    print('All step counts are the same')\n\nfor file_id in file_ids:\n    incoming_run_data = globals()[f'incoming_run_data_{file_id}']\n    if incoming_run_data['Step ID'].nunique() != 8:\n        print('Not all incoming step counts are the same')\n        break\nelse:\n    print('All incoming step counts are the same')",
   "id": "839cee943cb809d5"
  },
  {
   "metadata": {},
   "cell_type": "markdown",
   "source": "#### Replace `Run ID`, `Step ID` and `Sensor Name` with a categorical number",
   "id": "564c938e330ef233"
  },
  {
   "metadata": {
    "trusted": false
   },
   "cell_type": "code",
   "outputs": [],
   "execution_count": null,
   "source": "sample_run_data['Run ID'] = sample_run_data['Run ID'].astype('category').cat.codes\nsample_run_data['Step ID'] = sample_run_data['Step ID'].astype('category').cat.codes\nsample_run_data['Sensor Name'] = sample_run_data['Sensor Name'].astype('category').cat.codes\n\nprint(sample_run_data.head(5))",
   "id": "52f39fd3f54c1a94"
  },
  {
   "metadata": {},
   "cell_type": "markdown",
   "source": "### Column Collinearity (VIF)",
   "id": "c963408d5ae9243d"
  },
  {
   "metadata": {
    "trusted": false
   },
   "cell_type": "code",
   "outputs": [],
   "execution_count": null,
   "source": "from statsmodels.stats.outliers_influence import variance_inflation_factor\ndef calculate_vif(dataframe):\n    vif_data = pd.DataFrame()\n    vif_data['feature'] = dataframe.columns\n    vif_data['VIF'] = [variance_inflation_factor(dataframe.values, i) for i in range(dataframe.shape[1])]\n    return vif_data\n\nprint(calculate_vif(sample_run_data[['Run Start Time', 'Run Duration', 'Run ID', 'Consumable Life', 'Step ID', 'Time Stamp', 'Sensor Name', 'Sensor Value']]))",
   "id": "c2b52ff68ef07631"
  },
  {
   "metadata": {
    "trusted": false
   },
   "cell_type": "code",
   "outputs": [],
   "execution_count": null,
   "source": "import matplotlib.pyplot as plt\nplt.scatter(sample_run_data['Run Start Time'], sample_run_data['Time Stamp'], alpha=0.1)\n\n# Calculate the correlation coefficient\ncorrelation = sample_run_data['Run Start Time'].corr(sample_run_data['Time Stamp'])\nprint(f\"Correlation between 'Run Start Time' and 'Time Stamp': {correlation:.10f}\")",
   "id": "c6a53624f9f0e31a"
  },
  {
   "metadata": {},
   "cell_type": "markdown",
   "source": "#### Possible to remove `Time Stamp` and `Run Duration`",
   "id": "a6de115d8abc31fc"
  },
  {
   "metadata": {
    "trusted": false
   },
   "cell_type": "code",
   "outputs": [],
   "execution_count": null,
   "source": "print(calculate_vif(sample_run_data[['Run Start Time', 'Run ID', 'Consumable Life', 'Step ID', 'Sensor Name', 'Sensor Value']]))",
   "id": "ddd7bc89006666c7"
  },
  {
   "metadata": {
    "trusted": false
   },
   "cell_type": "code",
   "outputs": [],
   "execution_count": null,
   "source": "# `Time Stamp` is almost y=x\nprint(sample_run_data['Time Stamp'].corr(pd.Series(np.arange(len(sample_run_data['Time Stamp'])))))",
   "id": "3de1bb0416e9386d"
  },
  {
   "metadata": {},
   "cell_type": "markdown",
   "source": "## Test Dataset",
   "id": "8e966ebd6876c0a8"
  },
  {
   "metadata": {},
   "cell_type": "markdown",
   "source": "* Contains data for 20 different tools (1 more than train datasets)\n* Contains the missing runs from the train datasets, so when combined every tool has 250 different runs",
   "id": "8a0e09f3af30e6d5"
  },
  {
   "metadata": {
    "trusted": false
   },
   "cell_type": "code",
   "outputs": [],
   "execution_count": null,
   "source": "set(test_run_data['Tool ID'].unique()) == set(test_incoming_run_data['Tool ID'].unique())",
   "id": "a9987378d6eb931e"
  },
  {
   "metadata": {
    "trusted": false
   },
   "cell_type": "code",
   "outputs": [],
   "execution_count": null,
   "source": "unique_tools.issubset(set(test_run_data['Tool ID'].unique()))",
   "id": "5eed0fa9ba60f17f"
  },
  {
   "metadata": {
    "trusted": false
   },
   "cell_type": "code",
   "outputs": [],
   "execution_count": null,
   "source": "set(test_run_data['Tool ID'].unique()).difference(unique_tools)",
   "id": "97e9908fa1fd3c61"
  },
  {
   "metadata": {
    "trusted": false
   },
   "cell_type": "code",
   "outputs": [],
   "execution_count": null,
   "source": "print(run_data_1['Tool ID'][0])",
   "id": "60bde424644e8859"
  },
  {
   "metadata": {
    "trusted": false
   },
   "cell_type": "code",
   "outputs": [],
   "execution_count": null,
   "source": "test_run_data[test_run_data['Tool ID'] == '8060e8e1-504a-5138-a9f0-e2770bd61ba1'].head()",
   "id": "47c087c03ef597e9"
  },
  {
   "metadata": {
    "trusted": false
   },
   "cell_type": "code",
   "outputs": [],
   "execution_count": null,
   "source": "run_data_1.head()",
   "id": "2e51e004afd04939"
  },
  {
   "metadata": {
    "trusted": false
   },
   "cell_type": "code",
   "outputs": [],
   "execution_count": null,
   "source": "for key, tool in test_run_data.groupby('Tool ID'):\n    print(key)\n    print(tool['Run ID'].nunique())\n    print(len(tool))",
   "id": "37441d93546cbaba"
  },
  {
   "metadata": {},
   "cell_type": "markdown",
   "source": "## Plotting",
   "id": "4a15215fd3b46acc"
  },
  {
   "metadata": {
    "ExecuteTime": {
     "end_time": "2025-06-15T03:05:59.870189Z",
     "start_time": "2025-06-15T03:05:55.269429Z"
    }
   },
   "cell_type": "code",
   "source": [
    "processed_global_run_data = pd.read_parquet(os.path.join(processed_path, 'processed_global_run_data.parquet'))\n",
    "processed_global_incoming_run_data = pd.read_parquet(os.path.join(processed_path, 'processed_global_incoming_run_data.parquet'))\n",
    "processed_global_metrology_data = pd.read_parquet(os.path.join(processed_path, 'processed_global_metrology_data.parquet'))\n",
    "\n",
    "processed_test_run_data = pd.read_parquet(os.path.join(processed_path, 'processed_test_run_data.parquet'))\n",
    "processed_test_incoming_run_data = pd.read_parquet(os.path.join(processed_path, 'processed_test_incoming_run_data.parquet'))"
   ],
   "id": "6761acf4c109ed7b",
   "outputs": [],
   "execution_count": 3
  },
  {
   "metadata": {
    "trusted": false
   },
   "cell_type": "code",
   "source": [
    "# --- Plotting Task 1 ---\n",
    "\n",
    "# 1. Filter for Tool ID == 1\n",
    "tool_1_data = processed_global_run_data[processed_global_run_data['Tool ID'] == 1]\n",
    "\n",
    "# 2. Get unique sensor names\n",
    "sensors = tool_1_data['Sensor Name'].unique()\n",
    "num_runs_to_plot = 50\n",
    "\n",
    "# 3. Loop through each sensor to create a plot\n",
    "for sensor in sensors:\n",
    "    print(f\"Processing sensor: {sensor}\")\n",
    "    plt.figure(figsize=(12, 8))\n",
    "\n",
    "    sensor_data = tool_1_data[tool_1_data['Sensor Name'] == sensor]\n",
    "    unique_runs = sensor_data['Run ID'].unique()\n",
    "\n",
    "    if len(unique_runs) > num_runs_to_plot:\n",
    "        runs_to_plot = np.random.choice(unique_runs, num_runs_to_plot, replace=False)\n",
    "    else:\n",
    "        runs_to_plot = unique_runs\n",
    "\n",
    "    run_data_to_plot = sensor_data[sensor_data['Run ID'].isin(runs_to_plot)]\n",
    "\n",
    "    for run_id in runs_to_plot:\n",
    "        run_data = run_data_to_plot[run_data_to_plot['Run ID'] == run_id]\n",
    "        plt.scatter(run_data['Time Stamp'], run_data['Sensor Value'], label=f'Run {run_id}')\n",
    "\n",
    "    # --- AXIS CONTROLS ---\n",
    "\n",
    "    # 1. Add labels to the x and y axes\n",
    "    plt.xlabel('Time Stamp')  # This shows and labels the x-axis\n",
    "    plt.ylabel('Sensor Value') # This shows and labels the y-axis\n",
    "\n",
    "    # 2. Add a title to the plot\n",
    "    plt.title(f'Sensor Value vs. Time Stamp for Sensor {sensor} (Tool ID 1)')\n",
    "\n",
    "    # 3. Add a grid for better readability\n",
    "    plt.grid(True)\n",
    "\n",
    "    # (Optional) Set custom limits for the axes\n",
    "    # plt.xlim(0, 100)\n",
    "    # plt.ylim(-4, 4)\n",
    "\n",
    "    # --- DISPLAYING THE PLOT ---\n",
    "    # 1. Save the figure first. This saves the plot with all its titles and labels.\n",
    "    output_filename = f'tool_1_sensor_{sensor}_50_runs.png'\n",
    "    plt.savefig(os.path.join(plots_path, output_filename))\n",
    "    print(f\"Plot saved as {output_filename}\")\n",
    "\n",
    "    # 2. Then, display the plot in a pop-up window.\n",
    "    plt.show()\n",
    "\n",
    "    # 3. Finally, close the figure to free up memory.\n",
    "    plt.close()"
   ],
   "id": "f9f6f178e60432ce",
   "outputs": [],
   "execution_count": null
  },
  {
   "metadata": {
    "ExecuteTime": {
     "end_time": "2025-06-15T04:24:17.087372Z",
     "start_time": "2025-06-15T04:23:51.019461Z"
    }
   },
   "cell_type": "code",
   "source": [
    "# --- Plotting Task 2 ---\n",
    "\n",
    "# 1. Calculate 'relative_time'\n",
    "processed_global_run_data['relative_time'] = processed_global_run_data['Time Stamp'] - processed_global_run_data['Run Start Time']\n",
    "\n",
    "# 2. Get unique sensors and tools from the dataset\n",
    "unique_sensors = processed_global_run_data['Sensor Name'].unique()\n",
    "unique_tools = sorted(processed_global_run_data['Tool ID'].unique())\n",
    "\n",
    "# 3. Create a color map for the tools\n",
    "# We'll use a built-in colormap to get distinct colors for each tool\n",
    "colors = plt.cm.get_cmap('viridis', len(unique_tools))\n",
    "tool_color_map = {tool_id: colors(i) for i, tool_id in enumerate(unique_tools)}\n",
    "\n",
    "# 4. Loop through each sensor and create a plot\n",
    "for sensor in unique_sensors:\n",
    "    print(f\"--- Generating plot for Sensor: {sensor} ---\")\n",
    "\n",
    "    # Use the more robust object-oriented style for plotting\n",
    "    fig, ax = plt.subplots(figsize=(14, 9))\n",
    "\n",
    "    # 5. For the current sensor, loop through each tool\n",
    "    for tool_id in unique_tools:\n",
    "        # Filter data for the current sensor and tool\n",
    "        tool_sensor_data = processed_global_run_data[\n",
    "            (processed_global_run_data['Sensor Name'] == sensor) &\n",
    "            (processed_global_run_data['Tool ID'] == tool_id)\n",
    "        ]\n",
    "\n",
    "        if tool_sensor_data.empty:\n",
    "            print(f\"  No data for Tool {tool_id} and Sensor {sensor}. Skipping.\")\n",
    "            continue\n",
    "\n",
    "        # Find the unique runs available for this tool-sensor combination\n",
    "        available_runs = tool_sensor_data['Run ID'].unique()\n",
    "\n",
    "        # 6. Randomly select 2 runs, or fewer if not enough are available\n",
    "        if len(available_runs) >= 2:\n",
    "            runs_to_plot = np.random.choice(available_runs, 2, replace=False)\n",
    "        else:\n",
    "            runs_to_plot = available_runs\n",
    "\n",
    "        if len(runs_to_plot) == 0:\n",
    "            print(f\"  No runs to plot for Tool {tool_id} after filtering. Skipping.\")\n",
    "            continue\n",
    "\n",
    "        print(f\"  Plotting {len(runs_to_plot)} run(s) from Tool {tool_id}. Run IDs: {runs_to_plot}\")\n",
    "\n",
    "        # Filter the data for the selected runs\n",
    "        plot_data = tool_sensor_data[tool_sensor_data['Run ID'].isin(runs_to_plot)]\n",
    "\n",
    "        # 7. Plot the data for this tool\n",
    "        ax.scatter(\n",
    "            plot_data['relative_time'],\n",
    "            plot_data['Sensor Value'],\n",
    "            color=tool_color_map[tool_id],\n",
    "            label=f'Tool ID {tool_id}',\n",
    "            s=10\n",
    "        )\n",
    "\n",
    "    # 8. Finalize and decorate the plot\n",
    "    # To avoid duplicate labels in the legend, we create a custom legend\n",
    "    handles, labels = ax.get_legend_handles_labels()\n",
    "    unique_labels = dict(zip(labels, handles))\n",
    "    ax.legend(unique_labels.values(), unique_labels.keys(), title=\"Tool ID\")\n",
    "\n",
    "    ax.set_title(f'Sensor {sensor}: Value vs. Relative Time (2 Runs per Tool)', fontsize=16)\n",
    "    ax.set_xlabel('Relative Time (Time Stamp - Run Start Time)', fontsize=12)\n",
    "    ax.set_ylabel('Sensor Value', fontsize=12)\n",
    "    ax.grid(True, which='both', linestyle='--', linewidth=0.5)\n",
    "\n",
    "    # 9. Save and show the plot\n",
    "    output_filename = f'task2_sensor_{sensor}_by_tool.png'\n",
    "    fig.savefig(os.path.join(plots_path, output_filename))\n",
    "    print(f\"Plot saved as {output_filename}\\n\")\n",
    "\n",
    "    plt.close(fig)"
   ],
   "id": "10332d7a63742937",
   "outputs": [
    {
     "name": "stdout",
     "output_type": "stream",
     "text": [
      "--- Generating plot for Sensor: 0 ---\n",
      "  Plotting 2 run(s) from Tool 1. Run IDs: [2606 4014]\n",
      "  Plotting 2 run(s) from Tool 2. Run IDs: [ 334 2931]\n",
      "  Plotting 2 run(s) from Tool 3. Run IDs: [2314 2545]\n",
      "  Plotting 2 run(s) from Tool 4. Run IDs: [4007 3260]\n",
      "  Plotting 2 run(s) from Tool 6. Run IDs: [  57 2594]\n",
      "  Plotting 2 run(s) from Tool 7. Run IDs: [ 386 3196]\n",
      "  Plotting 2 run(s) from Tool 8. Run IDs: [  42 1998]\n",
      "  Plotting 2 run(s) from Tool 9. Run IDs: [4177 4627]\n",
      "  Plotting 2 run(s) from Tool 10. Run IDs: [2300 1574]\n",
      "  Plotting 2 run(s) from Tool 51. Run IDs: [3537 2336]\n",
      "  Plotting 2 run(s) from Tool 52. Run IDs: [3358 3029]\n",
      "  Plotting 2 run(s) from Tool 53. Run IDs: [3212 1180]\n",
      "  Plotting 2 run(s) from Tool 54. Run IDs: [  51 3063]\n",
      "  Plotting 2 run(s) from Tool 55. Run IDs: [  14 3243]\n",
      "  Plotting 2 run(s) from Tool 56. Run IDs: [1588 2680]\n",
      "  Plotting 2 run(s) from Tool 57. Run IDs: [3387 4448]\n",
      "  Plotting 2 run(s) from Tool 58. Run IDs: [4211 1825]\n",
      "  Plotting 2 run(s) from Tool 59. Run IDs: [4579 4401]\n",
      "  Plotting 2 run(s) from Tool 60. Run IDs: [1182 2433]\n",
      "Plot saved as task2_sensor_0_by_tool.png\n",
      "\n",
      "--- Generating plot for Sensor: 1 ---\n",
      "  Plotting 2 run(s) from Tool 1. Run IDs: [ 579 3338]\n",
      "  Plotting 2 run(s) from Tool 2. Run IDs: [ 399 2637]\n",
      "  Plotting 2 run(s) from Tool 3. Run IDs: [  65 3689]\n",
      "  Plotting 2 run(s) from Tool 4. Run IDs: [1080 1875]\n",
      "  Plotting 2 run(s) from Tool 6. Run IDs: [1031 3829]\n",
      "  Plotting 2 run(s) from Tool 7. Run IDs: [2406 3420]\n",
      "  Plotting 2 run(s) from Tool 8. Run IDs: [2479 4135]\n",
      "  Plotting 2 run(s) from Tool 9. Run IDs: [3980 4085]\n",
      "  Plotting 2 run(s) from Tool 10. Run IDs: [1574 1575]\n",
      "  Plotting 2 run(s) from Tool 51. Run IDs: [4008 1473]\n",
      "  Plotting 2 run(s) from Tool 52. Run IDs: [2388 2704]\n",
      "  Plotting 2 run(s) from Tool 53. Run IDs: [ 961 4179]\n",
      "  Plotting 2 run(s) from Tool 54. Run IDs: [3935 2765]\n",
      "  Plotting 2 run(s) from Tool 55. Run IDs: [ 126 4037]\n",
      "  Plotting 2 run(s) from Tool 56. Run IDs: [1238 3975]\n",
      "  Plotting 2 run(s) from Tool 57. Run IDs: [2548 2384]\n",
      "  Plotting 2 run(s) from Tool 58. Run IDs: [  67 2075]\n",
      "  Plotting 2 run(s) from Tool 59. Run IDs: [1174 2422]\n",
      "  Plotting 2 run(s) from Tool 60. Run IDs: [1380 2269]\n",
      "Plot saved as task2_sensor_1_by_tool.png\n",
      "\n",
      "--- Generating plot for Sensor: 2 ---\n",
      "  Plotting 2 run(s) from Tool 1. Run IDs: [4058 1939]\n",
      "  Plotting 2 run(s) from Tool 2. Run IDs: [4191 4039]\n",
      "  Plotting 2 run(s) from Tool 3. Run IDs: [ 502 4867]\n",
      "  Plotting 2 run(s) from Tool 4. Run IDs: [2650 2494]\n",
      "  Plotting 2 run(s) from Tool 6. Run IDs: [2594 2172]\n",
      "  Plotting 2 run(s) from Tool 7. Run IDs: [4602 1161]\n",
      "  Plotting 2 run(s) from Tool 8. Run IDs: [1970 1928]\n",
      "  Plotting 2 run(s) from Tool 9. Run IDs: [4300 2399]\n",
      "  Plotting 2 run(s) from Tool 10. Run IDs: [2156  241]\n",
      "  Plotting 2 run(s) from Tool 51. Run IDs: [3043   82]\n",
      "  Plotting 2 run(s) from Tool 52. Run IDs: [4018  822]\n",
      "  Plotting 2 run(s) from Tool 53. Run IDs: [2163 4757]\n",
      "  Plotting 2 run(s) from Tool 54. Run IDs: [4552   51]\n",
      "  Plotting 2 run(s) from Tool 55. Run IDs: [132  68]\n",
      "  Plotting 2 run(s) from Tool 56. Run IDs: [2847  336]\n",
      "  Plotting 2 run(s) from Tool 57. Run IDs: [1858  277]\n",
      "  Plotting 2 run(s) from Tool 58. Run IDs: [875 782]\n",
      "  Plotting 2 run(s) from Tool 59. Run IDs: [2053  849]\n",
      "  Plotting 2 run(s) from Tool 60. Run IDs: [1014  876]\n",
      "Plot saved as task2_sensor_2_by_tool.png\n",
      "\n",
      "--- Generating plot for Sensor: 3 ---\n",
      "  Plotting 2 run(s) from Tool 1. Run IDs: [3836 4764]\n",
      "  Plotting 2 run(s) from Tool 2. Run IDs: [3947 4316]\n",
      "  Plotting 2 run(s) from Tool 3. Run IDs: [4392 4126]\n",
      "  Plotting 2 run(s) from Tool 4. Run IDs: [4258 2151]\n",
      "  Plotting 2 run(s) from Tool 6. Run IDs: [3407  868]\n",
      "  Plotting 2 run(s) from Tool 7. Run IDs: [1898 2165]\n",
      "  Plotting 2 run(s) from Tool 8. Run IDs: [3229  314]\n",
      "  Plotting 2 run(s) from Tool 9. Run IDs: [1006 3400]\n",
      "  Plotting 2 run(s) from Tool 10. Run IDs: [4849 2514]\n",
      "  Plotting 2 run(s) from Tool 51. Run IDs: [3653 1743]\n",
      "  Plotting 2 run(s) from Tool 52. Run IDs: [1804 4353]\n",
      "  Plotting 2 run(s) from Tool 53. Run IDs: [2694  602]\n",
      "  Plotting 2 run(s) from Tool 54. Run IDs: [4025 2470]\n",
      "  Plotting 2 run(s) from Tool 55. Run IDs: [3027 3598]\n",
      "  Plotting 2 run(s) from Tool 56. Run IDs: [ 836 3523]\n",
      "  Plotting 2 run(s) from Tool 57. Run IDs: [1727 3700]\n",
      "  Plotting 2 run(s) from Tool 58. Run IDs: [2372 2231]\n",
      "  Plotting 2 run(s) from Tool 59. Run IDs: [ 883 2927]\n",
      "  Plotting 2 run(s) from Tool 60. Run IDs: [ 156 1400]\n",
      "Plot saved as task2_sensor_3_by_tool.png\n",
      "\n",
      "--- Generating plot for Sensor: 4 ---\n",
      "  Plotting 2 run(s) from Tool 1. Run IDs: [1170 3814]\n",
      "  Plotting 2 run(s) from Tool 2. Run IDs: [1947 3369]\n",
      "  Plotting 2 run(s) from Tool 3. Run IDs: [4400 1674]\n",
      "  Plotting 2 run(s) from Tool 4. Run IDs: [4599 2338]\n",
      "  Plotting 2 run(s) from Tool 6. Run IDs: [3911 2092]\n",
      "  Plotting 2 run(s) from Tool 7. Run IDs: [1881 3923]\n",
      "  Plotting 2 run(s) from Tool 8. Run IDs: [1408 4403]\n",
      "  Plotting 2 run(s) from Tool 9. Run IDs: [1360 4818]\n",
      "  Plotting 2 run(s) from Tool 10. Run IDs: [4269 2917]\n",
      "  Plotting 2 run(s) from Tool 51. Run IDs: [1024 2022]\n",
      "  Plotting 2 run(s) from Tool 52. Run IDs: [3751  585]\n",
      "  Plotting 2 run(s) from Tool 53. Run IDs: [1630 4837]\n",
      "  Plotting 2 run(s) from Tool 54. Run IDs: [2830 3897]\n",
      "  Plotting 2 run(s) from Tool 55. Run IDs: [4219  941]\n",
      "  Plotting 2 run(s) from Tool 56. Run IDs: [ 695 1261]\n",
      "  Plotting 2 run(s) from Tool 57. Run IDs: [4678 4551]\n",
      "  Plotting 2 run(s) from Tool 58. Run IDs: [904 514]\n",
      "  Plotting 2 run(s) from Tool 59. Run IDs: [3460 1820]\n",
      "  Plotting 2 run(s) from Tool 60. Run IDs: [3883  806]\n",
      "Plot saved as task2_sensor_4_by_tool.png\n",
      "\n",
      "--- Generating plot for Sensor: 5 ---\n",
      "  Plotting 2 run(s) from Tool 1. Run IDs: [3792  211]\n",
      "  Plotting 2 run(s) from Tool 2. Run IDs: [2851 4830]\n",
      "  Plotting 2 run(s) from Tool 3. Run IDs: [ 615 3951]\n",
      "  Plotting 2 run(s) from Tool 4. Run IDs: [ 765 2831]\n",
      "  Plotting 2 run(s) from Tool 6. Run IDs: [3189 4464]\n",
      "  Plotting 2 run(s) from Tool 7. Run IDs: [ 697 4070]\n",
      "  Plotting 2 run(s) from Tool 8. Run IDs: [ 963 1970]\n",
      "  Plotting 2 run(s) from Tool 9. Run IDs: [ 518 4187]\n",
      "  Plotting 2 run(s) from Tool 10. Run IDs: [4896 3533]\n",
      "  Plotting 2 run(s) from Tool 51. Run IDs: [2093 1665]\n",
      "  Plotting 2 run(s) from Tool 52. Run IDs: [1358  822]\n",
      "  Plotting 2 run(s) from Tool 53. Run IDs: [1019  552]\n",
      "  Plotting 2 run(s) from Tool 54. Run IDs: [ 990 1146]\n",
      "  Plotting 2 run(s) from Tool 55. Run IDs: [4465  605]\n",
      "  Plotting 2 run(s) from Tool 56. Run IDs: [1588  193]\n",
      "  Plotting 2 run(s) from Tool 57. Run IDs: [4882 2254]\n",
      "  Plotting 2 run(s) from Tool 58. Run IDs: [4287 3287]\n",
      "  Plotting 2 run(s) from Tool 59. Run IDs: [3866 3354]\n",
      "  Plotting 2 run(s) from Tool 60. Run IDs: [3812 3927]\n",
      "Plot saved as task2_sensor_5_by_tool.png\n",
      "\n",
      "--- Generating plot for Sensor: 6 ---\n",
      "  Plotting 2 run(s) from Tool 1. Run IDs: [4893 4321]\n",
      "  Plotting 2 run(s) from Tool 2. Run IDs: [1628 1130]\n",
      "  Plotting 2 run(s) from Tool 3. Run IDs: [4714 4207]\n",
      "  Plotting 2 run(s) from Tool 4. Run IDs: [3483 3054]\n",
      "  Plotting 2 run(s) from Tool 6. Run IDs: [162 868]\n",
      "  Plotting 2 run(s) from Tool 7. Run IDs: [1166  697]\n",
      "  Plotting 2 run(s) from Tool 8. Run IDs: [3562 3217]\n",
      "  Plotting 2 run(s) from Tool 9. Run IDs: [4729  187]\n",
      "  Plotting 2 run(s) from Tool 10. Run IDs: [  71 3463]\n",
      "  Plotting 2 run(s) from Tool 51. Run IDs: [2246 4468]\n",
      "  Plotting 2 run(s) from Tool 52. Run IDs: [3053 2948]\n",
      "  Plotting 2 run(s) from Tool 53. Run IDs: [1127  987]\n",
      "  Plotting 2 run(s) from Tool 54. Run IDs: [2983 2765]\n",
      "  Plotting 2 run(s) from Tool 55. Run IDs: [4586  665]\n",
      "  Plotting 2 run(s) from Tool 56. Run IDs: [4812 2133]\n",
      "  Plotting 2 run(s) from Tool 57. Run IDs: [4882  632]\n",
      "  Plotting 2 run(s) from Tool 58. Run IDs: [2526 2330]\n",
      "  Plotting 2 run(s) from Tool 59. Run IDs: [ 883 1508]\n",
      "  Plotting 2 run(s) from Tool 60. Run IDs: [4422 3543]\n",
      "Plot saved as task2_sensor_6_by_tool.png\n",
      "\n",
      "--- Generating plot for Sensor: 7 ---\n",
      "  Plotting 2 run(s) from Tool 1. Run IDs: [ 731 2423]\n",
      "  Plotting 2 run(s) from Tool 2. Run IDs: [3410 2844]\n",
      "  Plotting 2 run(s) from Tool 3. Run IDs: [3841  648]\n",
      "  Plotting 2 run(s) from Tool 4. Run IDs: [4284   28]\n",
      "  Plotting 2 run(s) from Tool 6. Run IDs: [3911 1005]\n",
      "  Plotting 2 run(s) from Tool 7. Run IDs: [3651 2347]\n",
      "  Plotting 2 run(s) from Tool 8. Run IDs: [2691 1264]\n",
      "  Plotting 2 run(s) from Tool 9. Run IDs: [3550 4625]\n",
      "  Plotting 2 run(s) from Tool 10. Run IDs: [4408 2072]\n",
      "  Plotting 2 run(s) from Tool 51. Run IDs: [ 951 2921]\n",
      "  Plotting 2 run(s) from Tool 52. Run IDs: [1949 3676]\n",
      "  Plotting 2 run(s) from Tool 53. Run IDs: [  12 3956]\n",
      "  Plotting 2 run(s) from Tool 54. Run IDs: [2195 3103]\n",
      "  Plotting 2 run(s) from Tool 55. Run IDs: [4572 2865]\n",
      "  Plotting 2 run(s) from Tool 56. Run IDs: [1549  453]\n",
      "  Plotting 2 run(s) from Tool 57. Run IDs: [1119 1456]\n",
      "  Plotting 2 run(s) from Tool 58. Run IDs: [3659 2330]\n",
      "  Plotting 2 run(s) from Tool 59. Run IDs: [2021  801]\n",
      "  Plotting 2 run(s) from Tool 60. Run IDs: [4707 3812]\n",
      "Plot saved as task2_sensor_7_by_tool.png\n",
      "\n",
      "--- Generating plot for Sensor: 8 ---\n",
      "  Plotting 2 run(s) from Tool 1. Run IDs: [2745  633]\n",
      "  Plotting 2 run(s) from Tool 2. Run IDs: [ 461 3625]\n",
      "  Plotting 2 run(s) from Tool 3. Run IDs: [3096 1165]\n",
      "  Plotting 2 run(s) from Tool 4. Run IDs: [2395 1419]\n",
      "  Plotting 2 run(s) from Tool 6. Run IDs: [4391 2191]\n",
      "  Plotting 2 run(s) from Tool 7. Run IDs: [3323 1885]\n",
      "  Plotting 2 run(s) from Tool 8. Run IDs: [  49 1540]\n",
      "  Plotting 2 run(s) from Tool 9. Run IDs: [559 266]\n",
      "  Plotting 2 run(s) from Tool 10. Run IDs: [2508  241]\n",
      "  Plotting 2 run(s) from Tool 51. Run IDs: [2084 2397]\n",
      "  Plotting 2 run(s) from Tool 52. Run IDs: [288 787]\n",
      "  Plotting 2 run(s) from Tool 53. Run IDs: [1845 2146]\n",
      "  Plotting 2 run(s) from Tool 54. Run IDs: [ 809 2867]\n",
      "  Plotting 2 run(s) from Tool 55. Run IDs: [4732  123]\n",
      "  Plotting 2 run(s) from Tool 56. Run IDs: [1448 3671]\n",
      "  Plotting 2 run(s) from Tool 57. Run IDs: [4523 4423]\n",
      "  Plotting 2 run(s) from Tool 58. Run IDs: [3643   37]\n",
      "  Plotting 2 run(s) from Tool 59. Run IDs: [1840 3697]\n",
      "  Plotting 2 run(s) from Tool 60. Run IDs: [3233 1911]\n",
      "Plot saved as task2_sensor_8_by_tool.png\n",
      "\n",
      "--- Generating plot for Sensor: 9 ---\n",
      "  Plotting 2 run(s) from Tool 1. Run IDs: [1562  579]\n",
      "  Plotting 2 run(s) from Tool 2. Run IDs: [ 669 4827]\n",
      "  Plotting 2 run(s) from Tool 3. Run IDs: [2402 3065]\n",
      "  Plotting 2 run(s) from Tool 4. Run IDs: [2044  969]\n",
      "  Plotting 2 run(s) from Tool 6. Run IDs: [1411 3084]\n",
      "  Plotting 2 run(s) from Tool 7. Run IDs: [3394 3799]\n",
      "  Plotting 2 run(s) from Tool 8. Run IDs: [2822 4183]\n",
      "  Plotting 2 run(s) from Tool 9. Run IDs: [ 331 4810]\n",
      "  Plotting 2 run(s) from Tool 10. Run IDs: [ 384 2317]\n",
      "  Plotting 2 run(s) from Tool 51. Run IDs: [2728 3508]\n",
      "  Plotting 2 run(s) from Tool 52. Run IDs: [3132 3234]\n",
      "  Plotting 2 run(s) from Tool 53. Run IDs: [ 78 723]\n",
      "  Plotting 2 run(s) from Tool 54. Run IDs: [1001 1312]\n",
      "  Plotting 2 run(s) from Tool 55. Run IDs: [2674  425]\n",
      "  Plotting 2 run(s) from Tool 56. Run IDs: [1745 1549]\n",
      "  Plotting 2 run(s) from Tool 57. Run IDs: [3605 1451]\n",
      "  Plotting 2 run(s) from Tool 58. Run IDs: [ 191 2975]\n",
      "  Plotting 2 run(s) from Tool 59. Run IDs: [4401 3247]\n",
      "  Plotting 2 run(s) from Tool 60. Run IDs: [3795 2292]\n",
      "Plot saved as task2_sensor_9_by_tool.png\n",
      "\n",
      "--- Generating plot for Sensor: 10 ---\n",
      "  Plotting 2 run(s) from Tool 1. Run IDs: [2794 1424]\n",
      "  Plotting 2 run(s) from Tool 2. Run IDs: [ 130 2997]\n",
      "  Plotting 2 run(s) from Tool 3. Run IDs: [4513 4904]\n",
      "  Plotting 2 run(s) from Tool 4. Run IDs: [3516  353]\n",
      "  Plotting 2 run(s) from Tool 6. Run IDs: [  53 4233]\n",
      "  Plotting 2 run(s) from Tool 7. Run IDs: [ 386 2347]\n",
      "  Plotting 2 run(s) from Tool 8. Run IDs: [2074 2132]\n",
      "  Plotting 2 run(s) from Tool 9. Run IDs: [4905 1250]\n",
      "  Plotting 2 run(s) from Tool 10. Run IDs: [3463 1037]\n",
      "  Plotting 2 run(s) from Tool 51. Run IDs: [1268 1728]\n",
      "  Plotting 2 run(s) from Tool 52. Run IDs: [3332 2811]\n",
      "  Plotting 2 run(s) from Tool 53. Run IDs: [1118 4065]\n",
      "  Plotting 2 run(s) from Tool 54. Run IDs: [ 728 1502]\n",
      "  Plotting 2 run(s) from Tool 55. Run IDs: [2865 1827]\n",
      "  Plotting 2 run(s) from Tool 56. Run IDs: [1364  957]\n",
      "  Plotting 2 run(s) from Tool 57. Run IDs: [1847 3428]\n",
      "  Plotting 2 run(s) from Tool 58. Run IDs: [ 437 4384]\n",
      "  Plotting 2 run(s) from Tool 59. Run IDs: [1565 3513]\n",
      "  Plotting 2 run(s) from Tool 60. Run IDs: [1304 3134]\n",
      "Plot saved as task2_sensor_10_by_tool.png\n",
      "\n",
      "--- Generating plot for Sensor: 11 ---\n",
      "  Plotting 2 run(s) from Tool 1. Run IDs: [2589 2471]\n",
      "  Plotting 2 run(s) from Tool 2. Run IDs: [ 761 2008]\n",
      "  Plotting 2 run(s) from Tool 3. Run IDs: [2567 2036]\n",
      "  Plotting 2 run(s) from Tool 4. Run IDs: [4689 1433]\n",
      "  Plotting 2 run(s) from Tool 6. Run IDs: [2819 4583]\n",
      "  Plotting 2 run(s) from Tool 7. Run IDs: [4032  717]\n",
      "  Plotting 2 run(s) from Tool 8. Run IDs: [1546 2230]\n",
      "  Plotting 2 run(s) from Tool 9. Run IDs: [ 294 2981]\n",
      "  Plotting 2 run(s) from Tool 10. Run IDs: [3030 2714]\n",
      "  Plotting 2 run(s) from Tool 51. Run IDs: [2618 1383]\n",
      "  Plotting 2 run(s) from Tool 52. Run IDs: [1636 1635]\n",
      "  Plotting 2 run(s) from Tool 53. Run IDs: [ 664 3304]\n",
      "  Plotting 2 run(s) from Tool 54. Run IDs: [ 968 3767]\n",
      "  Plotting 2 run(s) from Tool 55. Run IDs: [1476 2898]\n",
      "  Plotting 2 run(s) from Tool 56. Run IDs: [3206 4466]\n",
      "  Plotting 2 run(s) from Tool 57. Run IDs: [2344 1965]\n",
      "  Plotting 2 run(s) from Tool 58. Run IDs: [1423  424]\n",
      "  Plotting 2 run(s) from Tool 59. Run IDs: [4685 3162]\n",
      "  Plotting 2 run(s) from Tool 60. Run IDs: [3555 2722]\n",
      "Plot saved as task2_sensor_11_by_tool.png\n",
      "\n",
      "--- Generating plot for Sensor: 12 ---\n",
      "  Plotting 2 run(s) from Tool 1. Run IDs: [4893 2471]\n",
      "  Plotting 2 run(s) from Tool 2. Run IDs: [1438   16]\n",
      "  Plotting 2 run(s) from Tool 3. Run IDs: [3689 2302]\n",
      "  Plotting 2 run(s) from Tool 4. Run IDs: [4784 3205]\n",
      "  Plotting 2 run(s) from Tool 6. Run IDs: [763 696]\n",
      "  Plotting 2 run(s) from Tool 7. Run IDs: [2347 1163]\n",
      "  Plotting 2 run(s) from Tool 8. Run IDs: [ 668 4821]\n",
      "  Plotting 2 run(s) from Tool 9. Run IDs: [3701 1055]\n",
      "  Plotting 2 run(s) from Tool 10. Run IDs: [2648 1751]\n",
      "  Plotting 2 run(s) from Tool 51. Run IDs: [4405 1190]\n",
      "  Plotting 2 run(s) from Tool 52. Run IDs: [2242 4072]\n",
      "  Plotting 2 run(s) from Tool 53. Run IDs: [1993   90]\n",
      "  Plotting 2 run(s) from Tool 54. Run IDs: [2110 1500]\n",
      "  Plotting 2 run(s) from Tool 55. Run IDs: [4609  752]\n",
      "  Plotting 2 run(s) from Tool 56. Run IDs: [3656 2761]\n",
      "  Plotting 2 run(s) from Tool 57. Run IDs: [4448 2548]\n",
      "  Plotting 2 run(s) from Tool 58. Run IDs: [826  37]\n",
      "  Plotting 2 run(s) from Tool 59. Run IDs: [3584 2453]\n",
      "  Plotting 2 run(s) from Tool 60. Run IDs: [3806 1465]\n",
      "Plot saved as task2_sensor_12_by_tool.png\n",
      "\n",
      "--- Generating plot for Sensor: 13 ---\n",
      "  Plotting 2 run(s) from Tool 1. Run IDs: [3001 4836]\n",
      "  Plotting 2 run(s) from Tool 2. Run IDs: [ 800 4366]\n",
      "  Plotting 2 run(s) from Tool 3. Run IDs: [4392 3636]\n",
      "  Plotting 2 run(s) from Tool 4. Run IDs: [2028 3456]\n",
      "  Plotting 2 run(s) from Tool 6. Run IDs: [4341 1442]\n",
      "  Plotting 2 run(s) from Tool 7. Run IDs: [2379 4297]\n",
      "  Plotting 2 run(s) from Tool 8. Run IDs: [4752  652]\n",
      "  Plotting 2 run(s) from Tool 9. Run IDs: [3701  184]\n",
      "  Plotting 2 run(s) from Tool 10. Run IDs: [684 151]\n",
      "  Plotting 2 run(s) from Tool 51. Run IDs: [1116 1534]\n",
      "  Plotting 2 run(s) from Tool 52. Run IDs: [3972 3874]\n",
      "  Plotting 2 run(s) from Tool 53. Run IDs: [1845 2598]\n",
      "  Plotting 2 run(s) from Tool 54. Run IDs: [3521 3411]\n",
      "  Plotting 2 run(s) from Tool 55. Run IDs: [ 132 1297]\n",
      "  Plotting 2 run(s) from Tool 56. Run IDs: [1996  535]\n",
      "  Plotting 2 run(s) from Tool 57. Run IDs: [4588  884]\n",
      "  Plotting 2 run(s) from Tool 58. Run IDs: [4019  514]\n",
      "  Plotting 2 run(s) from Tool 59. Run IDs: [4112 4474]\n",
      "  Plotting 2 run(s) from Tool 60. Run IDs: [3360 4033]\n",
      "Plot saved as task2_sensor_13_by_tool.png\n",
      "\n",
      "--- Generating plot for Sensor: 14 ---\n",
      "  Plotting 2 run(s) from Tool 1. Run IDs: [1202 3579]\n",
      "  Plotting 2 run(s) from Tool 2. Run IDs: [4217  334]\n",
      "  Plotting 2 run(s) from Tool 3. Run IDs: [3289 3622]\n",
      "  Plotting 2 run(s) from Tool 4. Run IDs: [ 154 4213]\n",
      "  Plotting 2 run(s) from Tool 6. Run IDs: [2009 2131]\n",
      "  Plotting 2 run(s) from Tool 7. Run IDs: [4245 1266]\n",
      "  Plotting 2 run(s) from Tool 8. Run IDs: [3823 2074]\n",
      "  Plotting 2 run(s) from Tool 9. Run IDs: [1006  899]\n",
      "  Plotting 2 run(s) from Tool 10. Run IDs: [2072 4613]\n",
      "  Plotting 2 run(s) from Tool 51. Run IDs: [1473 2031]\n",
      "  Plotting 2 run(s) from Tool 52. Run IDs: [3143 4241]\n",
      "  Plotting 2 run(s) from Tool 53. Run IDs: [2622 4481]\n",
      "  Plotting 2 run(s) from Tool 54. Run IDs: [4838 3705]\n",
      "  Plotting 2 run(s) from Tool 55. Run IDs: [1893 4073]\n",
      "  Plotting 2 run(s) from Tool 56. Run IDs: [1709 2697]\n",
      "  Plotting 2 run(s) from Tool 57. Run IDs: [2798  641]\n",
      "  Plotting 2 run(s) from Tool 58. Run IDs: [3352  131]\n",
      "  Plotting 2 run(s) from Tool 59. Run IDs: [2324 2210]\n",
      "  Plotting 2 run(s) from Tool 60. Run IDs: [1400  156]\n",
      "Plot saved as task2_sensor_14_by_tool.png\n",
      "\n"
     ]
    }
   ],
   "execution_count": 19
  },
  {
   "metadata": {},
   "cell_type": "code",
   "source": [
    "# --- Plotting Task 3 ---\n",
    "\n",
    "# 1. Calculate 'relative_time' for both dataframes\n",
    "processed_global_run_data['relative_time'] = (processed_global_run_data['Time Stamp'] - processed_global_run_data['Run Start Time'])\n",
    "processed_test_run_data['relative_time'] = (processed_test_run_data['Time Stamp'] - processed_test_run_data['Run Start Time'])\n",
    "\n",
    "# 2. Get unique sensors and tools from the GLOBAL dataset to establish a base\n",
    "unique_sensors = processed_global_run_data['Sensor Name'].unique()\n",
    "unique_tools_global = sorted(processed_global_run_data['Tool ID'].unique())\n",
    "\n",
    "# 3. Create a base color map for the globally known tools (for the left plot)\n",
    "colors = plt.cm.get_cmap('viridis', len(unique_tools_global))\n",
    "tool_color_map = {tool_id: colors(i) for i, tool_id in enumerate(unique_tools_global)}\n",
    "\n",
    "# 4. Loop through each sensor and create a plot\n",
    "for sensor in unique_sensors:\n",
    "    print(f\"--- Generating plot for Sensor: {sensor} ---\")\n",
    "\n",
    "    fig, axes = plt.subplots(1, 2, figsize=(28, 9), sharey=True)\n",
    "\n",
    "    # --- Left Subplot: processed_global_run_data (Multi-color) ---\n",
    "    ax_left = axes[0]\n",
    "    for tool_id in unique_tools_global:\n",
    "        # (Logic for the left plot is unchanged)\n",
    "        tool_sensor_data = processed_global_run_data[\n",
    "            (processed_global_run_data['Sensor Name'] == sensor) &\n",
    "            (processed_global_run_data['Tool ID'] == tool_id)\n",
    "        ]\n",
    "        if not tool_sensor_data.empty:\n",
    "            available_runs = tool_sensor_data['Run ID'].unique()\n",
    "            runs_to_plot = np.random.choice(available_runs, min(len(available_runs), 2), replace=False)\n",
    "            if len(runs_to_plot) > 0:\n",
    "                plot_data = tool_sensor_data[tool_sensor_data['Run ID'].isin(runs_to_plot)]\n",
    "                ax_left.scatter(plot_data['relative_time'], plot_data['Sensor Value'], color=tool_color_map[tool_id], label=f'Tool ID {tool_id}', s=10)\n",
    "\n",
    "    handles, labels = ax_left.get_legend_handles_labels()\n",
    "    unique_labels = dict(zip(labels, handles))\n",
    "    ax_left.legend(unique_labels.values(), unique_labels.keys(), title=\"Tool ID\")\n",
    "    ax_left.set_title('Global Run Data', fontsize=16)\n",
    "    ax_left.set_xlabel('Relative Time (seconds)', fontsize=12)\n",
    "    ax_left.set_ylabel('Sensor Value', fontsize=12)\n",
    "    ax_left.grid(True, which='both', linestyle='--', linewidth=0.5)\n",
    "\n",
    "    # --- Right Subplot: processed_test_run_data (Two-color highlight) ---\n",
    "    ax_right = axes[1]\n",
    "    highlight_tool = 5\n",
    "    other_tools_color = 'blue'\n",
    "    highlight_color = 'red'\n",
    "\n",
    "    unique_tools_test = sorted(processed_test_run_data[processed_test_run_data['Sensor Name'] == sensor]['Tool ID'].unique())\n",
    "\n",
    "    for tool_id in unique_tools_test:\n",
    "        tool_sensor_data = processed_test_run_data[\n",
    "            (processed_test_run_data['Sensor Name'] == sensor) &\n",
    "            (processed_test_run_data['Tool ID'] == tool_id)\n",
    "        ]\n",
    "        if not tool_sensor_data.empty:\n",
    "            available_runs = tool_sensor_data['Run ID'].unique()\n",
    "            runs_to_plot = np.random.choice(available_runs, min(len(available_runs), 5), replace=False)\n",
    "            if tool_id == highlight_tool:\n",
    "                runs_to_plot = np.random.choice(available_runs, min(len(available_runs), 15), replace=False)\n",
    "            if len(runs_to_plot) > 0:\n",
    "                plot_data = tool_sensor_data[tool_sensor_data['Run ID'].isin(runs_to_plot)]\n",
    "\n",
    "                # *** NEW: Simplified two-color logic ***\n",
    "                if tool_id == highlight_tool:\n",
    "                    color_to_use = highlight_color\n",
    "                    label_to_use = f'Tool ID {tool_id}'\n",
    "                else:\n",
    "                    color_to_use = other_tools_color\n",
    "                    label_to_use = 'Other Tools' # Same label for all others\n",
    "\n",
    "                ax_right.scatter(plot_data['relative_time'], plot_data['Sensor Value'], color=color_to_use, label=label_to_use, s=10)\n",
    "\n",
    "    handles, labels = ax_right.get_legend_handles_labels()\n",
    "    if handles:\n",
    "        unique_labels = dict(zip(labels, handles)) # This groups the 'Other Tools' label automatically\n",
    "        ax_right.legend(unique_labels.values(), unique_labels.keys(), title=\"Tool ID\")\n",
    "\n",
    "    ax_right.set_title(f'Test Run Data (Highlighting {highlight_tool})', fontsize=16)\n",
    "    ax_right.set_xlabel('Relative Time (seconds)', fontsize=12)\n",
    "    ax_right.grid(True, which='both', linestyle='--', linewidth=0.5)\n",
    "\n",
    "    # 8. Finalize and decorate the overall plot\n",
    "    fig.suptitle(f'Sensor {sensor}: Value vs. Relative Time Comparison', fontsize=20)\n",
    "    fig.tight_layout(rect=[0, 0.03, 1, 0.95])\n",
    "\n",
    "    # 9. Save the combined plot\n",
    "    output_filename = f'task3_sensor_{sensor}_comparison.png'\n",
    "    fig.savefig(os.path.join(plots_path, output_filename))\n",
    "    print(f\"Plot saved as {output_filename}\\n\")\n",
    "\n",
    "    plt.show()\n",
    "    plt.close(fig)"
   ],
   "id": "7eea6659673228f6",
   "outputs": [],
   "execution_count": null
  },
  {
   "metadata": {},
   "cell_type": "code",
   "source": [
    "# --- Plotting Task 4 ---\n",
    "\n",
    "# 1. Calculate 'relative_time' for both dataframes\n",
    "processed_global_incoming_run_data['relative_time'] = (processed_global_incoming_run_data['Time Stamp'] - processed_global_incoming_run_data['Run Start Time'])\n",
    "processed_test_incoming_run_data['relative_time'] = (processed_test_incoming_run_data['Time Stamp'] - processed_test_incoming_run_data['Run Start Time'])\n",
    "\n",
    "# 2. Get unique sensors and tools from the GLOBAL dataset to establish a base\n",
    "unique_sensors = processed_global_incoming_run_data['Sensor Name'].unique()[:20]\n",
    "unique_tools_global = sorted(processed_global_incoming_run_data['Tool ID'].unique())\n",
    "\n",
    "# 3. Create a base color map for the globally known tools (for the left plot)\n",
    "colors = plt.cm.get_cmap('viridis', len(unique_tools_global))\n",
    "tool_color_map = {tool_id: colors(i) for i, tool_id in enumerate(unique_tools_global)}\n",
    "\n",
    "# 4. Loop through each sensor and create a plot\n",
    "for sensor in unique_sensors:\n",
    "    print(f\"--- Generating plot for Sensor: {sensor} ---\")\n",
    "\n",
    "    fig, axes = plt.subplots(1, 2, figsize=(28, 9), sharey=True)\n",
    "\n",
    "    # --- Left Subplot: processed_global_run_data (Multi-color) ---\n",
    "    ax_left = axes[0]\n",
    "    for tool_id in unique_tools_global:\n",
    "        # (Logic for the left plot is unchanged)\n",
    "        tool_sensor_data = processed_global_incoming_run_data[\n",
    "            (processed_global_incoming_run_data['Sensor Name'] == sensor) &\n",
    "            (processed_global_incoming_run_data['Tool ID'] == tool_id)\n",
    "        ]\n",
    "        if not tool_sensor_data.empty:\n",
    "            available_runs = tool_sensor_data['Run ID'].unique()\n",
    "            runs_to_plot = np.random.choice(available_runs, min(len(available_runs), 2), replace=False)\n",
    "            if len(runs_to_plot) > 0:\n",
    "                plot_data = tool_sensor_data[tool_sensor_data['Run ID'].isin(runs_to_plot)]\n",
    "                ax_left.scatter(plot_data['relative_time'], plot_data['Sensor Value'], color=tool_color_map[tool_id], label=f'Tool ID {tool_id}', s=10)\n",
    "\n",
    "    handles, labels = ax_left.get_legend_handles_labels()\n",
    "    unique_labels = dict(zip(labels, handles))\n",
    "    ax_left.legend(unique_labels.values(), unique_labels.keys(), title=\"Tool ID\")\n",
    "    ax_left.set_title('Global Incoming Run Data', fontsize=16)\n",
    "    ax_left.set_xlabel('Relative Time (seconds)', fontsize=12)\n",
    "    ax_left.set_ylabel('Sensor Value', fontsize=12)\n",
    "    ax_left.grid(True, which='both', linestyle='--', linewidth=0.5)\n",
    "\n",
    "    # --- Right Subplot: processed_test_run_data (Two-color highlight) ---\n",
    "    ax_right = axes[1]\n",
    "    highlight_tool = 5\n",
    "    other_tools_color = 'blue'\n",
    "    highlight_color = 'red'\n",
    "\n",
    "    unique_tools_test = sorted(processed_test_incoming_run_data[processed_test_incoming_run_data['Sensor Name'] == sensor]['Tool ID'].unique())\n",
    "\n",
    "    for tool_id in unique_tools_test:\n",
    "        tool_sensor_data = processed_test_incoming_run_data[\n",
    "            (processed_test_incoming_run_data['Sensor Name'] == sensor) &\n",
    "            (processed_test_incoming_run_data['Tool ID'] == tool_id)\n",
    "        ]\n",
    "        if not tool_sensor_data.empty:\n",
    "            available_runs = tool_sensor_data['Run ID'].unique()\n",
    "            runs_to_plot = np.random.choice(available_runs, min(len(available_runs), 5), replace=False)\n",
    "            if tool_id == highlight_tool:\n",
    "                runs_to_plot = np.random.choice(available_runs, min(len(available_runs), 15), replace=False)\n",
    "            if len(runs_to_plot) > 0:\n",
    "                plot_data = tool_sensor_data[tool_sensor_data['Run ID'].isin(runs_to_plot)]\n",
    "\n",
    "                # *** NEW: Simplified two-color logic ***\n",
    "                if tool_id == highlight_tool:\n",
    "                    color_to_use = highlight_color\n",
    "                    label_to_use = f'Tool ID {tool_id}'\n",
    "                else:\n",
    "                    color_to_use = other_tools_color\n",
    "                    label_to_use = 'Other Tools' # Same label for all others\n",
    "\n",
    "                ax_right.scatter(plot_data['relative_time'], plot_data['Sensor Value'], color=color_to_use, label=label_to_use, s=10)\n",
    "\n",
    "    handles, labels = ax_right.get_legend_handles_labels()\n",
    "    if handles:\n",
    "        unique_labels = dict(zip(labels, handles)) # This groups the 'Other Tools' label automatically\n",
    "        ax_right.legend(unique_labels.values(), unique_labels.keys(), title=\"Tool ID\")\n",
    "\n",
    "    ax_right.set_title(f'Test Run Data (Highlighting {highlight_tool})', fontsize=16)\n",
    "    ax_right.set_xlabel('Relative Time (seconds)', fontsize=12)\n",
    "    ax_right.grid(True, which='both', linestyle='--', linewidth=0.5)\n",
    "\n",
    "    # 8. Finalize and decorate the overall plot\n",
    "    fig.suptitle(f'Sensor {sensor}: Value vs. Relative Time Comparison', fontsize=20)\n",
    "    fig.tight_layout(rect=[0, 0.03, 1, 0.95])\n",
    "\n",
    "    # 9. Save the combined plot\n",
    "    output_filename = f'task4_sensor_{sensor}_comparison_incoming_run.png'\n",
    "    fig.savefig(os.path.join(plots_path, output_filename))\n",
    "    print(f\"Plot saved as {output_filename}\\n\")\n",
    "\n",
    "    plt.show()\n",
    "    plt.close(fig)"
   ],
   "id": "7dbb98e75d6fbdf3",
   "outputs": [],
   "execution_count": null
  },
  {
   "metadata": {
    "ExecuteTime": {
     "end_time": "2025-06-15T10:14:17.622962Z",
     "start_time": "2025-06-15T10:14:15.868077Z"
    }
   },
   "cell_type": "code",
   "source": [
    "# --- Corrected Plotting Task 5 ---\n",
    "\n",
    "# 1. Prepare the data by merging to get Tool IDs\n",
    "run_to_tool_map = processed_global_run_data[['Run ID', 'Tool ID']].drop_duplicates().reset_index(drop=True)\n",
    "merged_metrology_data = pd.merge(\n",
    "    processed_global_metrology_data,\n",
    "    run_to_tool_map,\n",
    "    on='Run ID',\n",
    "    how='left'\n",
    ")\n",
    "merged_metrology_data.dropna(subset=['Tool ID'], inplace=True) # Ensure we only plot data with a known tool\n",
    "\n",
    "# Get unique tools and create a color map\n",
    "unique_tools = sorted(merged_metrology_data['Tool ID'].unique())\n",
    "colors = plt.cm.get_cmap('viridis', len(unique_tools))\n",
    "tool_color_map = {tool_id: colors(i) for i, tool_id in enumerate(unique_tools)}\n",
    "\n",
    "# Create the plot\n",
    "fig, ax = plt.subplots(figsize=(14, 9))\n",
    "\n",
    "print(\"--- Plotting Runs per Tool as Line Plots ---\")\n",
    "# 2. For each tool, plot lines for 10 randomly selected runs\n",
    "for tool_id in unique_tools:\n",
    "    tool_data = merged_metrology_data[merged_metrology_data['Tool ID'] == tool_id]\n",
    "    available_runs = tool_data['Run ID'].unique()\n",
    "\n",
    "    if len(available_runs) > 10:\n",
    "        runs_to_plot = np.random.choice(available_runs, 10, replace=False)\n",
    "    else:\n",
    "        runs_to_plot = available_runs\n",
    "\n",
    "    print(f\"  Tool {tool_id}: Plotting {len(runs_to_plot)} runs.\")\n",
    "\n",
    "    label_plotted_for_tool = False # Flag to handle the legend correctly\n",
    "\n",
    "    # --- CORE CORRECTION: Loop through each run to plot a separate line ---\n",
    "    for run_id in runs_to_plot:\n",
    "        # Filter data for this one specific run\n",
    "        run_data = tool_data[tool_data['Run ID'] == run_id]\n",
    "\n",
    "        # Sort by Point Index to draw the line correctly\n",
    "        run_data_sorted = run_data.sort_values(by='Point Index')\n",
    "\n",
    "        # Use a label only for the first run of a tool to avoid duplicate legend entries\n",
    "        if not label_plotted_for_tool:\n",
    "            label_to_use = f'{tool_id}'\n",
    "            label_plotted_for_tool = True\n",
    "        else:\n",
    "            label_to_use = None\n",
    "\n",
    "        ax.plot(\n",
    "            run_data_sorted['Point Index'],\n",
    "            run_data_sorted['Measurement'],\n",
    "            color=tool_color_map[tool_id],\n",
    "            label=label_to_use,\n",
    "            alpha=0.6,\n",
    "            marker='o',       # Add markers to show the actual points\n",
    "            markersize=1,     # Make markers small\n",
    "            linestyle='-'     # Explicitly specify a solid line\n",
    "        )\n",
    "\n",
    "# Finalize and decorate the plot\n",
    "ax.set_title('Measurement Profile vs. Point Index (10 Random Runs per Tool)', fontsize=16)\n",
    "ax.set_xlabel('Point Index', fontsize=12)\n",
    "ax.set_ylabel('Measurement', fontsize=12)\n",
    "ax.legend(title=\"Tool ID\")\n",
    "ax.grid(True, which='both', linestyle='--', linewidth=0.5)\n",
    "\n",
    "# Save and show the plot\n",
    "output_filename = 'task5_metrology_by_tool.png'\n",
    "fig.savefig(os.path.join(plots_path, output_filename))\n",
    "print(f\"\\nPlot saved as {output_filename}\")\n",
    "\n",
    "plt.close(fig)"
   ],
   "id": "39bf863cadebb1cc",
   "outputs": [
    {
     "name": "stdout",
     "output_type": "stream",
     "text": [
      "--- Plotting Runs per Tool as Line Plots ---\n",
      "  Tool 1: Plotting 10 runs.\n",
      "  Tool 2: Plotting 10 runs.\n",
      "  Tool 3: Plotting 10 runs.\n",
      "  Tool 4: Plotting 10 runs.\n",
      "  Tool 6: Plotting 10 runs.\n",
      "  Tool 7: Plotting 10 runs.\n",
      "  Tool 8: Plotting 10 runs.\n",
      "  Tool 9: Plotting 10 runs.\n",
      "  Tool 10: Plotting 10 runs.\n",
      "  Tool 51: Plotting 10 runs.\n",
      "  Tool 52: Plotting 10 runs.\n",
      "  Tool 53: Plotting 10 runs.\n",
      "  Tool 54: Plotting 10 runs.\n",
      "  Tool 55: Plotting 10 runs.\n",
      "  Tool 56: Plotting 10 runs.\n",
      "  Tool 57: Plotting 10 runs.\n",
      "  Tool 58: Plotting 10 runs.\n",
      "  Tool 59: Plotting 10 runs.\n",
      "  Tool 60: Plotting 10 runs.\n",
      "\n",
      "Plot saved as task5_metrology_by_tool.png\n"
     ]
    }
   ],
   "execution_count": 30
  },
  {
   "metadata": {},
   "cell_type": "code",
   "outputs": [],
   "execution_count": null,
   "source": "",
   "id": "da0e6be7d5b58c2a"
  }
 ],
 "metadata": {
  "kernelspec": {
   "display_name": "Python 3",
   "language": "python",
   "name": "python3"
  },
  "language_info": {
   "codemirror_mode": {
    "name": "ipython",
    "version": 2
   },
   "file_extension": ".py",
   "mimetype": "text/x-python",
   "name": "python",
   "nbconvert_exporter": "python",
   "pygments_lexer": "ipython2",
   "version": "2.7.6"
  }
 },
 "nbformat": 4,
 "nbformat_minor": 5
}
