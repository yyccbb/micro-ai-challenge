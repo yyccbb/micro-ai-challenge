{
 "cells": [
  {
   "cell_type": "code",
   "id": "initial_id",
   "metadata": {
    "collapsed": true,
    "ExecuteTime": {
     "end_time": "2025-05-28T07:05:38.286275Z",
     "start_time": "2025-05-28T07:05:37.818522Z"
    }
   },
   "source": [
    "import numpy as np\n",
    "import pandas as pd\n",
    "import os\n",
    "import matplotlib.pyplot as plt\n",
    "from tqdm import tqdm\n"
   ],
   "outputs": [],
   "execution_count": 7
  },
  {
   "metadata": {},
   "cell_type": "markdown",
   "source": "### Data Preparation",
   "id": "27e7d378a346aee2"
  },
  {
   "metadata": {
    "ExecuteTime": {
     "end_time": "2025-05-28T06:44:07.745793Z",
     "start_time": "2025-05-28T06:44:07.743445Z"
    }
   },
   "cell_type": "code",
   "source": [
    "# Find absolute path of ./data/train\n",
    "# root_path = os.path.abspath(os.path.dirname(__file__))\n",
    "root_path = os.path.abspath(os.getcwd())\n",
    "train_path = os.path.join(root_path, \"data/train\")"
   ],
   "id": "f6a206ada56f4586",
   "outputs": [],
   "execution_count": 2
  },
  {
   "metadata": {
    "ExecuteTime": {
     "end_time": "2025-05-28T06:44:17.106820Z",
     "start_time": "2025-05-28T06:44:08.093013Z"
    }
   },
   "cell_type": "code",
   "source": [
    "file_ids = ['1', '2', '3', '4', '6', '7', '8', '9', '10', '51', '52', '53', '54', '55', '56', '57', '58', '59', '60']\n",
    "for file_id in file_ids:\n",
    "    globals()[f'run_data_{file_id}'] = pd.read_parquet(os.path.join(train_path, f\"run_data_{file_id}.parquet\"))\n",
    "    globals()[f'incoming_run_data_{file_id}'] = pd.read_parquet(os.path.join(train_path, f\"incoming_run_data_{file_id}.parquet\"))\n",
    "    globals()[f'metrology_data_{file_id}'] = pd.read_parquet(os.path.join(train_path, f\"metrology_data{file_id}.parquet\"))"
   ],
   "id": "e006cecf2ccc774d",
   "outputs": [],
   "execution_count": 3
  },
  {
   "metadata": {
    "ExecuteTime": {
     "end_time": "2025-05-27T14:36:43.315303Z",
     "start_time": "2025-05-27T14:36:43.309087Z"
    }
   },
   "cell_type": "code",
   "source": [
    "s = 0\n",
    "for file_id in file_ids:\n",
    "    s += len(globals()[f'run_data_{file_id}'])\n",
    "print(f\"Total number of entries in run_data: {s}\")"
   ],
   "id": "f1cec74bb3f7595c",
   "outputs": [
    {
     "name": "stdout",
     "output_type": "stream",
     "text": [
      "Total number of entries in run_data: 41220750\n"
     ]
    }
   ],
   "execution_count": 74
  },
  {
   "metadata": {},
   "cell_type": "markdown",
   "source": "## Basic Properties",
   "id": "e5e1eaf673f0a10d"
  },
  {
   "metadata": {},
   "cell_type": "markdown",
   "source": [
    "### Tool ID\n",
    "* A single and unique Tool ID for each run/incoming run file\n",
    "* Corresponding run/incoming run files share the same Tool ID"
   ],
   "id": "830eab8eb7635e79"
  },
  {
   "metadata": {
    "ExecuteTime": {
     "end_time": "2025-05-19T12:09:34.896835Z",
     "start_time": "2025-05-19T12:09:30.552739Z"
    }
   },
   "cell_type": "code",
   "source": [
    "unique_tools = set()\n",
    "for file_id in file_ids:\n",
    "    unique_tool_run = globals()[f'run_data_{file_id}']['Tool ID'].unique()\n",
    "    unique_tool_incoming_run = globals()[f'incoming_run_data_{file_id}']['Tool ID'].unique()\n",
    "    print(unique_tool_run == unique_tool_incoming_run)"
   ],
   "id": "1c9554bc9a0e9083",
   "outputs": [
    {
     "name": "stdout",
     "output_type": "stream",
     "text": [
      "[ True]\n",
      "[ True]\n",
      "[ True]\n",
      "[ True]\n",
      "[ True]\n",
      "[ True]\n",
      "[ True]\n",
      "[ True]\n",
      "[ True]\n",
      "[ True]\n",
      "[ True]\n",
      "[ True]\n",
      "[ True]\n",
      "[ True]\n",
      "[ True]\n",
      "[ True]\n",
      "[ True]\n",
      "[ True]\n",
      "[ True]\n"
     ]
    }
   ],
   "execution_count": 45
  },
  {
   "metadata": {},
   "cell_type": "markdown",
   "source": "### Run IDs\n",
   "id": "ee38dafa7f39d7c4"
  },
  {
   "metadata": {
    "ExecuteTime": {
     "end_time": "2025-05-19T13:01:08.488448Z",
     "start_time": "2025-05-19T13:01:03.979476Z"
    }
   },
   "cell_type": "code",
   "source": [
    "for file_id in file_ids:\n",
    "    run_data = globals()[f'run_data_{file_id}']\n",
    "    incoming_run_data = globals()[f'incoming_run_data_{file_id}']\n",
    "    run_ids_run = run_data['Run ID']\n",
    "    unique_run_ids_run = set(run_ids_run.unique())\n",
    "    run_ids_incoming_run = incoming_run_data['Run ID']\n",
    "    unique_run_ids_incoming = set(run_ids_incoming_run.unique())\n",
    "    metrology_data = globals()[f'metrology_data_{file_id}']\n",
    "    run_ids_metrology = metrology_data['Run ID']\n",
    "    unique_run_ids_metrology = set(run_ids_metrology.unique())\n",
    "\n",
    "    print(file_id)\n",
    "    print(len(unique_run_ids_run))\n",
    "    print(len(run_ids_run))\n",
    "    print(len(run_ids_incoming_run))\n",
    "    print(len(run_ids_metrology))\n",
    "    print(unique_run_ids_run == unique_run_ids_incoming == unique_run_ids_metrology)\n",
    "    print()"
   ],
   "id": "444606a34e58695",
   "outputs": [
    {
     "name": "stdout",
     "output_type": "stream",
     "text": [
      "1\n",
      "225\n",
      "2235645\n",
      "4469164\n",
      "11025\n",
      "True\n",
      "\n",
      "2\n",
      "225\n",
      "2231955\n",
      "4402908\n",
      "11025\n",
      "True\n",
      "\n",
      "3\n",
      "225\n",
      "2235450\n",
      "4616887\n",
      "11025\n",
      "True\n",
      "\n",
      "4\n",
      "225\n",
      "2241630\n",
      "4477282\n",
      "11025\n",
      "True\n",
      "\n",
      "6\n",
      "225\n",
      "2224380\n",
      "4663135\n",
      "11025\n",
      "True\n",
      "\n",
      "7\n",
      "225\n",
      "2248140\n",
      "4440628\n",
      "11025\n",
      "True\n",
      "\n",
      "8\n",
      "225\n",
      "2244840\n",
      "4557355\n",
      "11025\n",
      "True\n",
      "\n",
      "9\n",
      "225\n",
      "2253105\n",
      "4500365\n",
      "11025\n",
      "True\n",
      "\n",
      "10\n",
      "180\n",
      "1798890\n",
      "3664211\n",
      "8820\n",
      "True\n",
      "\n",
      "51\n",
      "225\n",
      "2233815\n",
      "4565186\n",
      "11025\n",
      "True\n",
      "\n",
      "52\n",
      "225\n",
      "2251365\n",
      "4599790\n",
      "11025\n",
      "True\n",
      "\n",
      "53\n",
      "225\n",
      "2241630\n",
      "4456946\n",
      "11025\n",
      "True\n",
      "\n",
      "54\n",
      "225\n",
      "2232780\n",
      "4528655\n",
      "11025\n",
      "True\n",
      "\n",
      "55\n",
      "180\n",
      "1795215\n",
      "3607508\n",
      "8820\n",
      "True\n",
      "\n",
      "56\n",
      "225\n",
      "2219490\n",
      "4528286\n",
      "11025\n",
      "True\n",
      "\n",
      "57\n",
      "225\n",
      "2244480\n",
      "4318858\n",
      "11025\n",
      "True\n",
      "\n",
      "58\n",
      "225\n",
      "2246790\n",
      "4489500\n",
      "11025\n",
      "True\n",
      "\n",
      "59\n",
      "225\n",
      "2249430\n",
      "4422014\n",
      "11025\n",
      "True\n",
      "\n",
      "60\n",
      "180\n",
      "1791720\n",
      "3587828\n",
      "8820\n",
      "True\n",
      "\n"
     ]
    }
   ],
   "execution_count": 57
  },
  {
   "metadata": {},
   "cell_type": "markdown",
   "source": "### Sensor Names",
   "id": "1882b5373010e504"
  },
  {
   "metadata": {
    "ExecuteTime": {
     "end_time": "2025-05-23T09:03:46.808413Z",
     "start_time": "2025-05-23T09:03:45.223667Z"
    }
   },
   "cell_type": "code",
   "source": [
    "print(run_data_1['Sensor Name'].unique())\n",
    "for file_id in file_ids:\n",
    "    run_data = globals()[f'run_data_{file_id}']\n",
    "    print(run_data['Sensor Name'].unique() == run_data_1['Sensor Name'].unique())"
   ],
   "id": "e4235567d9dd0349",
   "outputs": [
    {
     "name": "stdout",
     "output_type": "stream",
     "text": [
      "['Sensor_A' 'Sensor_B' 'Sensor_C' 'Sensor_D' 'Sensor_E' 'Sensor_F'\n",
      " 'Sensor_G' 'Sensor_H' 'Sensor_I' 'Sensor_J' 'Sensor_K' 'Sensor_L'\n",
      " 'Sensor_M' 'Sensor_N' 'Sensor_O']\n",
      "[ True  True  True  True  True  True  True  True  True  True  True  True\n",
      "  True  True  True]\n",
      "[ True  True  True  True  True  True  True  True  True  True  True  True\n",
      "  True  True  True]\n",
      "[ True  True  True  True  True  True  True  True  True  True  True  True\n",
      "  True  True  True]\n",
      "[ True  True  True  True  True  True  True  True  True  True  True  True\n",
      "  True  True  True]\n",
      "[ True  True  True  True  True  True  True  True  True  True  True  True\n",
      "  True  True  True]\n",
      "[ True  True  True  True  True  True  True  True  True  True  True  True\n",
      "  True  True  True]\n",
      "[ True  True  True  True  True  True  True  True  True  True  True  True\n",
      "  True  True  True]\n",
      "[ True  True  True  True  True  True  True  True  True  True  True  True\n",
      "  True  True  True]\n",
      "[ True  True  True  True  True  True  True  True  True  True  True  True\n",
      "  True  True  True]\n",
      "[ True  True  True  True  True  True  True  True  True  True  True  True\n",
      "  True  True  True]\n",
      "[ True  True  True  True  True  True  True  True  True  True  True  True\n",
      "  True  True  True]\n",
      "[ True  True  True  True  True  True  True  True  True  True  True  True\n",
      "  True  True  True]\n",
      "[ True  True  True  True  True  True  True  True  True  True  True  True\n",
      "  True  True  True]\n",
      "[ True  True  True  True  True  True  True  True  True  True  True  True\n",
      "  True  True  True]\n",
      "[ True  True  True  True  True  True  True  True  True  True  True  True\n",
      "  True  True  True]\n",
      "[ True  True  True  True  True  True  True  True  True  True  True  True\n",
      "  True  True  True]\n",
      "[ True  True  True  True  True  True  True  True  True  True  True  True\n",
      "  True  True  True]\n",
      "[ True  True  True  True  True  True  True  True  True  True  True  True\n",
      "  True  True  True]\n",
      "[ True  True  True  True  True  True  True  True  True  True  True  True\n",
      "  True  True  True]\n"
     ]
    }
   ],
   "execution_count": 4
  },
  {
   "metadata": {
    "ExecuteTime": {
     "end_time": "2025-05-19T13:13:25.637181Z",
     "start_time": "2025-05-19T13:13:22.360592Z"
    }
   },
   "cell_type": "code",
   "source": [
    "print(incoming_run_data_1['Sensor Name'].unique())\n",
    "for file_id in file_ids:\n",
    "    incoming_run_data = globals()[f'incoming_run_data_{file_id}']\n",
    "    print(incoming_run_data['Sensor Name'].unique() == incoming_run_data_1['Sensor Name'].unique())"
   ],
   "id": "3435d360fe4757d4",
   "outputs": [
    {
     "name": "stdout",
     "output_type": "stream",
     "text": [
      "['Sensor_1' 'Sensor_10' 'Sensor_11' 'Sensor_12' 'Sensor_13' 'Sensor_14'\n",
      " 'Sensor_15' 'Sensor_16' 'Sensor_17' 'Sensor_18' 'Sensor_19' 'Sensor_2'\n",
      " 'Sensor_20' 'Sensor_21' 'Sensor_22' 'Sensor_23' 'Sensor_24' 'Sensor_25'\n",
      " 'Sensor_26' 'Sensor_27' 'Sensor_28' 'Sensor_29' 'Sensor_3' 'Sensor_30'\n",
      " 'Sensor_31' 'Sensor_32' 'Sensor_33' 'Sensor_34' 'Sensor_35' 'Sensor_36'\n",
      " 'Sensor_37' 'Sensor_38' 'Sensor_39' 'Sensor_4' 'Sensor_40' 'Sensor_41'\n",
      " 'Sensor_5' 'Sensor_6' 'Sensor_7' 'Sensor_8' 'Sensor_9']\n",
      "[ True  True  True  True  True  True  True  True  True  True  True  True\n",
      "  True  True  True  True  True  True  True  True  True  True  True  True\n",
      "  True  True  True  True  True  True  True  True  True  True  True  True\n",
      "  True  True  True  True  True]\n",
      "[ True  True  True  True  True  True  True  True  True  True  True  True\n",
      "  True  True  True  True  True  True  True  True  True  True  True  True\n",
      "  True  True  True  True  True  True  True  True  True  True  True  True\n",
      "  True  True  True  True  True]\n",
      "[ True  True  True  True  True  True  True  True  True  True  True  True\n",
      "  True  True  True  True  True  True  True  True  True  True  True  True\n",
      "  True  True  True  True  True  True  True  True  True  True  True  True\n",
      "  True  True  True  True  True]\n",
      "[ True  True  True  True  True  True  True  True  True  True  True  True\n",
      "  True  True  True  True  True  True  True  True  True  True  True  True\n",
      "  True  True  True  True  True  True  True  True  True  True  True  True\n",
      "  True  True  True  True  True]\n",
      "[ True  True  True  True  True  True  True  True  True  True  True  True\n",
      "  True  True  True  True  True  True  True  True  True  True  True  True\n",
      "  True  True  True  True  True  True  True  True  True  True  True  True\n",
      "  True  True  True  True  True]\n",
      "[ True  True  True  True  True  True  True  True  True  True  True  True\n",
      "  True  True  True  True  True  True  True  True  True  True  True  True\n",
      "  True  True  True  True  True  True  True  True  True  True  True  True\n",
      "  True  True  True  True  True]\n",
      "[ True  True  True  True  True  True  True  True  True  True  True  True\n",
      "  True  True  True  True  True  True  True  True  True  True  True  True\n",
      "  True  True  True  True  True  True  True  True  True  True  True  True\n",
      "  True  True  True  True  True]\n",
      "[ True  True  True  True  True  True  True  True  True  True  True  True\n",
      "  True  True  True  True  True  True  True  True  True  True  True  True\n",
      "  True  True  True  True  True  True  True  True  True  True  True  True\n",
      "  True  True  True  True  True]\n",
      "[ True  True  True  True  True  True  True  True  True  True  True  True\n",
      "  True  True  True  True  True  True  True  True  True  True  True  True\n",
      "  True  True  True  True  True  True  True  True  True  True  True  True\n",
      "  True  True  True  True  True]\n",
      "[ True  True  True  True  True  True  True  True  True  True  True  True\n",
      "  True  True  True  True  True  True  True  True  True  True  True  True\n",
      "  True  True  True  True  True  True  True  True  True  True  True  True\n",
      "  True  True  True  True  True]\n",
      "[ True  True  True  True  True  True  True  True  True  True  True  True\n",
      "  True  True  True  True  True  True  True  True  True  True  True  True\n",
      "  True  True  True  True  True  True  True  True  True  True  True  True\n",
      "  True  True  True  True  True]\n",
      "[ True  True  True  True  True  True  True  True  True  True  True  True\n",
      "  True  True  True  True  True  True  True  True  True  True  True  True\n",
      "  True  True  True  True  True  True  True  True  True  True  True  True\n",
      "  True  True  True  True  True]\n",
      "[ True  True  True  True  True  True  True  True  True  True  True  True\n",
      "  True  True  True  True  True  True  True  True  True  True  True  True\n",
      "  True  True  True  True  True  True  True  True  True  True  True  True\n",
      "  True  True  True  True  True]\n",
      "[ True  True  True  True  True  True  True  True  True  True  True  True\n",
      "  True  True  True  True  True  True  True  True  True  True  True  True\n",
      "  True  True  True  True  True  True  True  True  True  True  True  True\n",
      "  True  True  True  True  True]\n",
      "[ True  True  True  True  True  True  True  True  True  True  True  True\n",
      "  True  True  True  True  True  True  True  True  True  True  True  True\n",
      "  True  True  True  True  True  True  True  True  True  True  True  True\n",
      "  True  True  True  True  True]\n",
      "[ True  True  True  True  True  True  True  True  True  True  True  True\n",
      "  True  True  True  True  True  True  True  True  True  True  True  True\n",
      "  True  True  True  True  True  True  True  True  True  True  True  True\n",
      "  True  True  True  True  True]\n",
      "[ True  True  True  True  True  True  True  True  True  True  True  True\n",
      "  True  True  True  True  True  True  True  True  True  True  True  True\n",
      "  True  True  True  True  True  True  True  True  True  True  True  True\n",
      "  True  True  True  True  True]\n",
      "[ True  True  True  True  True  True  True  True  True  True  True  True\n",
      "  True  True  True  True  True  True  True  True  True  True  True  True\n",
      "  True  True  True  True  True  True  True  True  True  True  True  True\n",
      "  True  True  True  True  True]\n",
      "[ True  True  True  True  True  True  True  True  True  True  True  True\n",
      "  True  True  True  True  True  True  True  True  True  True  True  True\n",
      "  True  True  True  True  True  True  True  True  True  True  True  True\n",
      "  True  True  True  True  True]\n"
     ]
    }
   ],
   "execution_count": 65
  },
  {
   "metadata": {
    "ExecuteTime": {
     "end_time": "2025-05-19T13:36:15.799459Z",
     "start_time": "2025-05-19T13:36:15.787318Z"
    }
   },
   "cell_type": "code",
   "source": "print(run_data_1.head(5))",
   "id": "67d4e9527a3acc58",
   "outputs": [
    {
     "name": "stdout",
     "output_type": "stream",
     "text": [
      "                                Tool ID Run Start Time        Run End Time  \\\n",
      "0  8060e8e1-504a-5138-a9f0-e2770bd61ba1     2024-01-01 2024-01-01 00:12:35   \n",
      "1  8060e8e1-504a-5138-a9f0-e2770bd61ba1     2024-01-01 2024-01-01 00:12:35   \n",
      "2  8060e8e1-504a-5138-a9f0-e2770bd61ba1     2024-01-01 2024-01-01 00:12:35   \n",
      "3  8060e8e1-504a-5138-a9f0-e2770bd61ba1     2024-01-01 2024-01-01 00:12:35   \n",
      "4  8060e8e1-504a-5138-a9f0-e2770bd61ba1     2024-01-01 2024-01-01 00:12:35   \n",
      "\n",
      "                                 Run ID                          Process Step  \\\n",
      "0  6515456b-05d4-5e6d-b42a-7652a8d671a4  22c8716b-1c14-525a-8c0a-0473ec7aa99e   \n",
      "1  6515456b-05d4-5e6d-b42a-7652a8d671a4  22c8716b-1c14-525a-8c0a-0473ec7aa99e   \n",
      "2  6515456b-05d4-5e6d-b42a-7652a8d671a4  22c8716b-1c14-525a-8c0a-0473ec7aa99e   \n",
      "3  6515456b-05d4-5e6d-b42a-7652a8d671a4  22c8716b-1c14-525a-8c0a-0473ec7aa99e   \n",
      "4  6515456b-05d4-5e6d-b42a-7652a8d671a4  22c8716b-1c14-525a-8c0a-0473ec7aa99e   \n",
      "\n",
      "   Consumable Life Step ID                    Time Stamp Sensor Name  \\\n",
      "0         370.7229  Step_0 2024-01-01 00:00:00.000000000    Sensor_A   \n",
      "1         370.7229  Step_0 2024-01-01 00:00:01.000000002    Sensor_A   \n",
      "2         370.7229  Step_0 2024-01-01 00:00:01.999999997    Sensor_A   \n",
      "3         370.7229  Step_1 2024-01-01 00:00:03.000000000    Sensor_A   \n",
      "4         370.7229  Step_1 2024-01-01 00:00:04.000000002    Sensor_A   \n",
      "\n",
      "   Sensor Value  \n",
      "0     -0.061105  \n",
      "1     -0.040894  \n",
      "2      0.005357  \n",
      "3     -0.029941  \n",
      "4     -0.098098  \n"
     ]
    }
   ],
   "execution_count": 66
  },
  {
   "metadata": {
    "ExecuteTime": {
     "end_time": "2025-05-21T12:06:23.113746Z",
     "start_time": "2025-05-21T12:06:23.100535Z"
    }
   },
   "cell_type": "code",
   "source": "print(run_data_1['Consumable Life'].nunique())",
   "id": "28390161bf4c017",
   "outputs": [
    {
     "name": "stdout",
     "output_type": "stream",
     "text": [
      "225\n"
     ]
    }
   ],
   "execution_count": 68
  },
  {
   "metadata": {
    "ExecuteTime": {
     "end_time": "2025-05-21T12:09:05.794412Z",
     "start_time": "2025-05-21T12:09:05.790243Z"
    }
   },
   "cell_type": "code",
   "source": "print(incoming_run_data_1.head(5))",
   "id": "66393d4c8b8cb9d2",
   "outputs": [
    {
     "name": "stdout",
     "output_type": "stream",
     "text": [
      "                                Tool ID Run Start Time        Run End Time  \\\n",
      "0  8060e8e1-504a-5138-a9f0-e2770bd61ba1     2023-12-31 2023-12-31 00:12:22   \n",
      "1  8060e8e1-504a-5138-a9f0-e2770bd61ba1     2023-12-31 2023-12-31 00:12:22   \n",
      "2  8060e8e1-504a-5138-a9f0-e2770bd61ba1     2023-12-31 2023-12-31 00:12:22   \n",
      "3  8060e8e1-504a-5138-a9f0-e2770bd61ba1     2023-12-31 2023-12-31 00:12:22   \n",
      "4  8060e8e1-504a-5138-a9f0-e2770bd61ba1     2023-12-31 2023-12-31 00:12:22   \n",
      "\n",
      "                                 Run ID                          Process Step  \\\n",
      "0  6515456b-05d4-5e6d-b42a-7652a8d671a4  22c8716b-1c14-525a-8c0a-0473ec7aa99e   \n",
      "1  6515456b-05d4-5e6d-b42a-7652a8d671a4  22c8716b-1c14-525a-8c0a-0473ec7aa99e   \n",
      "2  6515456b-05d4-5e6d-b42a-7652a8d671a4  22c8716b-1c14-525a-8c0a-0473ec7aa99e   \n",
      "3  6515456b-05d4-5e6d-b42a-7652a8d671a4  22c8716b-1c14-525a-8c0a-0473ec7aa99e   \n",
      "4  6515456b-05d4-5e6d-b42a-7652a8d671a4  22c8716b-1c14-525a-8c0a-0473ec7aa99e   \n",
      "\n",
      "  Step ID                    Time Stamp Sensor Name  Sensor Value  \n",
      "0  Step_0 2023-12-31 00:00:00.000000000    Sensor_1    202.660553  \n",
      "1  Step_0 2023-12-31 00:00:01.000000002    Sensor_1    202.660553  \n",
      "2  Step_0 2023-12-31 00:00:01.999999997    Sensor_1    202.660553  \n",
      "3  Step_1 2023-12-31 00:00:03.000000000    Sensor_1    202.660553  \n",
      "4  Step_1 2023-12-31 00:00:04.000000002    Sensor_1    202.660553  \n"
     ]
    }
   ],
   "execution_count": 69
  },
  {
   "metadata": {},
   "cell_type": "markdown",
   "source": "### Process Step",
   "id": "74981f8c08fc36b7"
  },
  {
   "metadata": {},
   "cell_type": "markdown",
   "source": [
    "* All run_data file entries share the same `Process Step` (intuitively since run_data focuses on the specific current process).\n",
    "* All incoming_run_data file entries also share the same `Process Step`."
   ],
   "id": "177754e614d62288"
  },
  {
   "metadata": {
    "ExecuteTime": {
     "end_time": "2025-05-23T09:10:02.180503Z",
     "start_time": "2025-05-23T09:09:59.466390Z"
    }
   },
   "cell_type": "code",
   "source": [
    "unique_processes = set()\n",
    "for file_id in file_ids:\n",
    "    run_data = globals()[f'run_data_{file_id}']\n",
    "    unique_processes.add(run_data['Process Step'].nunique())\n",
    "    unique_processes.add(run_data['Process Step'].unique()[0])\n",
    "print(unique_processes)"
   ],
   "id": "1cfdaaaa08e1f8f6",
   "outputs": [
    {
     "name": "stdout",
     "output_type": "stream",
     "text": [
      "{1, '22c8716b-1c14-525a-8c0a-0473ec7aa99e'}\n"
     ]
    }
   ],
   "execution_count": 10
  },
  {
   "metadata": {
    "ExecuteTime": {
     "end_time": "2025-05-23T09:39:40.041755Z",
     "start_time": "2025-05-23T09:39:34.552234Z"
    }
   },
   "cell_type": "code",
   "source": [
    "unique_processes = set()\n",
    "for file_id in file_ids:\n",
    "    incoming_run_data = globals()[f'incoming_run_data_{file_id}']\n",
    "    unique_processes.add(incoming_run_data['Process Step'].nunique())\n",
    "    unique_processes.add(incoming_run_data['Process Step'].unique()[0])\n",
    "print(unique_processes)"
   ],
   "id": "844dc17ed61cbe4a",
   "outputs": [
    {
     "name": "stdout",
     "output_type": "stream",
     "text": [
      "{1, '22c8716b-1c14-525a-8c0a-0473ec7aa99e'}\n"
     ]
    }
   ],
   "execution_count": 13
  },
  {
   "metadata": {},
   "cell_type": "markdown",
   "source": "### Time Stamp",
   "id": "f1cd5ba2412d2cc3"
  },
  {
   "metadata": {
    "ExecuteTime": {
     "end_time": "2025-05-23T09:42:20.631447Z",
     "start_time": "2025-05-23T09:42:20.456598Z"
    }
   },
   "cell_type": "code",
   "source": [
    "for file_id in file_ids:\n",
    "    run_data = globals()[f'run_data_{file_id}']\n",
    "    incoming_run_data = globals()[f'incoming_run_data_{file_id}']\n",
    "    print(run_data['Run Start Time'].nunique())"
   ],
   "id": "96c7022f050beb38",
   "outputs": [
    {
     "name": "stdout",
     "output_type": "stream",
     "text": [
      "225\n",
      "225\n",
      "225\n",
      "225\n",
      "225\n",
      "225\n",
      "225\n",
      "225\n",
      "180\n",
      "225\n",
      "225\n",
      "225\n",
      "225\n",
      "180\n",
      "225\n",
      "225\n",
      "225\n",
      "225\n",
      "180\n"
     ]
    }
   ],
   "execution_count": 15
  },
  {
   "metadata": {},
   "cell_type": "markdown",
   "source": "* Every run has `no_time_stamps` * 15 entries for `run_data` and `no_time_stamps` * 41 entries for `incoming_run_data` (in two cases `no_time_stamps` are different)",
   "id": "688d34e64d71fe75"
  },
  {
   "metadata": {
    "ExecuteTime": {
     "end_time": "2025-05-27T08:02:09.055784Z",
     "start_time": "2025-05-27T08:02:08.906078Z"
    }
   },
   "cell_type": "code",
   "source": [
    "run_1 = run_data_1[run_data_1['Run ID'] == run_data_1['Run ID'].unique()[1]]\n",
    "print(len(run_1))\n",
    "print(run_1['Time Stamp'].value_counts())"
   ],
   "id": "9d79373e3ac0859f",
   "outputs": [
    {
     "name": "stdout",
     "output_type": "stream",
     "text": [
      "8940\n",
      "Time Stamp\n",
      "2024-01-01 00:17:35.000000000    15\n",
      "2024-01-01 00:24:06.999999998    15\n",
      "2024-01-01 00:24:09.000000002    15\n",
      "2024-01-01 00:24:09.999999998    15\n",
      "2024-01-01 00:24:11.000000000    15\n",
      "                                 ..\n",
      "2024-01-01 00:20:53.000000000    15\n",
      "2024-01-01 00:20:54.000000002    15\n",
      "2024-01-01 00:20:54.999999998    15\n",
      "2024-01-01 00:20:56.000000000    15\n",
      "2024-01-01 00:27:30.000000002    15\n",
      "Name: count, Length: 596, dtype: int64\n"
     ]
    }
   ],
   "execution_count": 186
  },
  {
   "metadata": {
    "ExecuteTime": {
     "end_time": "2025-05-28T15:53:19.639781Z",
     "start_time": "2025-05-28T15:53:19.614963Z"
    }
   },
   "cell_type": "code",
   "source": "print(run_1['Step ID'].value_counts())",
   "id": "3630faa078884324",
   "outputs": [
    {
     "name": "stdout",
     "output_type": "stream",
     "text": [
      "Step ID\n",
      "Step_5     4185\n",
      "Step_1      840\n",
      "Step_8      840\n",
      "Step_9      840\n",
      "Step_3      630\n",
      "Step_6      630\n",
      "Step_7      585\n",
      "Step_4      465\n",
      "Step_2      420\n",
      "Step_11     420\n",
      "Step_12     375\n",
      "Step_10     210\n",
      "Step_0       45\n",
      "Name: count, dtype: int64\n"
     ]
    }
   ],
   "execution_count": 25
  },
  {
   "metadata": {
    "ExecuteTime": {
     "end_time": "2025-05-28T08:15:40.737783Z",
     "start_time": "2025-05-28T08:15:40.544576Z"
    }
   },
   "cell_type": "code",
   "source": [
    "incoming_run_1 = incoming_run_data_1[incoming_run_data_1['Run ID'] == run_data_1['Run ID'].unique()[1]]\n",
    "print(len(incoming_run_1))"
   ],
   "id": "cbfdf17e8aa26ad7",
   "outputs": [
    {
     "name": "stdout",
     "output_type": "stream",
     "text": [
      "22263\n"
     ]
    }
   ],
   "execution_count": 13
  },
  {
   "metadata": {
    "ExecuteTime": {
     "end_time": "2025-05-27T08:24:12.961559Z",
     "start_time": "2025-05-27T08:13:04.940446Z"
    }
   },
   "cell_type": "code",
   "source": [
    "from tqdm import tqdm\n",
    "\n",
    "for file_id in file_ids:\n",
    "    run_data = globals()[f'run_data_{file_id}']\n",
    "    unique_runs = run_data['Run ID'].unique()\n",
    "    incoming_run_data = globals()[f'incoming_run_data_{file_id}']\n",
    "    for run_id in tqdm(unique_runs, desc=f'Checking run data for file {file_id}'):\n",
    "        run = run_data[run_data['Run ID'] == run_id]\n",
    "        incoming_run = incoming_run_data[incoming_run_data['Run ID'] == run_id]\n",
    "        if len(run) != run['Time Stamp'].nunique() * 15:\n",
    "            print(\"Mismatch in run data for Run ID:\", run_id)\n",
    "        if len(incoming_run) != incoming_run['Time Stamp'].nunique() * 41:\n",
    "            print(\"Mismatch in incoming run data for Run ID:\", run_id)\n",
    "\n",
    "# No mismatches found, all runs have the expected number of time stamps."
   ],
   "id": "d175fc1dee914776",
   "outputs": [
    {
     "name": "stderr",
     "output_type": "stream",
     "text": [
      "100%|██████████| 225/225 [00:36<00:00,  6.20it/s]\n",
      "100%|██████████| 225/225 [00:35<00:00,  6.27it/s]\n",
      "100%|██████████| 225/225 [00:36<00:00,  6.11it/s]\n",
      "100%|██████████| 225/225 [00:36<00:00,  6.24it/s]\n",
      "100%|██████████| 225/225 [00:37<00:00,  6.06it/s]\n",
      "100%|██████████| 225/225 [00:36<00:00,  6.14it/s]\n",
      "100%|██████████| 225/225 [00:38<00:00,  5.89it/s]\n",
      "100%|██████████| 225/225 [00:37<00:00,  6.06it/s]\n",
      "100%|██████████| 180/180 [00:24<00:00,  7.27it/s]\n",
      "100%|██████████| 225/225 [00:37<00:00,  5.96it/s]\n",
      "100%|██████████| 225/225 [00:38<00:00,  5.92it/s]\n",
      "100%|██████████| 225/225 [00:37<00:00,  6.01it/s]\n",
      "100%|██████████| 225/225 [00:37<00:00,  6.03it/s]\n",
      "100%|██████████| 180/180 [00:23<00:00,  7.54it/s]\n",
      "100%|██████████| 225/225 [00:37<00:00,  6.00it/s]\n",
      "100%|██████████| 225/225 [00:36<00:00,  6.15it/s]\n",
      "100%|██████████| 225/225 [00:37<00:00,  5.98it/s]\n",
      "100%|██████████| 225/225 [00:37<00:00,  6.06it/s]\n",
      "100%|██████████| 180/180 [00:24<00:00,  7.48it/s]\n"
     ]
    }
   ],
   "execution_count": 190
  },
  {
   "metadata": {},
   "cell_type": "markdown",
   "source": "* Within each run in `run_data` or `incoming_run_data`, sensors start measuring since the beginning of the run and record data every second. However, they stop recording before the end of the run.",
   "id": "9e56a138b197d893"
  },
  {
   "metadata": {},
   "cell_type": "code",
   "source": [
    "# Taking run_data_1 and incoming_run_data_1 as an example\n",
    "from tqdm import tqdm\n",
    "import matplotlib.pyplot as plt\n",
    "\n",
    "run_durations = []\n",
    "run_ending_early = []\n",
    "incoming_run_durations = []\n",
    "incoming_run_ending_early = []\n",
    "for run_id in tqdm(run_data_1['Run ID'].unique()):\n",
    "    run = run_data_1[run_data_1['Run ID'] == run_id]\n",
    "    run_durations.append((run['Run End Time'].iloc[0] - run['Run Start Time'].iloc[0]).total_seconds())\n",
    "    run_ending_early.append((run['Run End Time'].iloc[0] - run['Time Stamp'].max()).total_seconds())\n",
    "\n",
    "    incoming_run = incoming_run_data_1[incoming_run_data_1['Run ID'] == run_id]\n",
    "    incoming_run_durations.append((incoming_run['Run End Time'].iloc[0] - incoming_run['Run Start Time'].iloc[0]).total_seconds())\n",
    "    incoming_run_ending_early.append((incoming_run['Run End Time'].iloc[0] - incoming_run['Time Stamp'].max()).total_seconds())"
   ],
   "id": "9424fb428a41e4d3",
   "outputs": [],
   "execution_count": null
  },
  {
   "metadata": {
    "ExecuteTime": {
     "end_time": "2025-05-27T14:09:15.778689Z",
     "start_time": "2025-05-27T14:09:15.776538Z"
    }
   },
   "cell_type": "code",
   "source": [
    "print((np.array(run_durations) == 755.0).all())\n",
    "print((np.array(incoming_run_durations) == 742.0).all())"
   ],
   "id": "3eaabad2c731d29a",
   "outputs": [
    {
     "name": "stdout",
     "output_type": "stream",
     "text": [
      "True\n",
      "True\n"
     ]
    }
   ],
   "execution_count": 62
  },
  {
   "metadata": {},
   "cell_type": "code",
   "outputs": [],
   "execution_count": null,
   "source": "print(run_ending_early)",
   "id": "9aa665e8b67b47bb"
  },
  {
   "metadata": {
    "ExecuteTime": {
     "end_time": "2025-05-27T14:17:32.919512Z",
     "start_time": "2025-05-27T14:17:32.801254Z"
    }
   },
   "cell_type": "code",
   "source": [
    "plt.figure(figsize=(12, 6))\n",
    "plt.subplot(1, 2, 1)\n",
    "plt.hist(run_ending_early, bins=100)\n",
    "plt.subplot(1, 2, 2)\n",
    "plt.hist(incoming_run_ending_early, bins=100)\n",
    "plt.show()"
   ],
   "id": "7141cf738b782f19",
   "outputs": [
    {
     "data": {
      "text/plain": [
       "<Figure size 1200x600 with 2 Axes>"
      ],
      "image/png": "[encoded data removed]"
     },
     "metadata": {},
     "output_type": "display_data"
    }
   ],
   "execution_count": 73
  },
  {
   "metadata": {
    "ExecuteTime": {
     "end_time": "2025-05-28T06:58:12.741038Z",
     "start_time": "2025-05-28T06:58:12.381676Z"
    }
   },
   "cell_type": "code",
   "source": [
    "run_1 = run_data_1[run_data_1['Run ID'] == run_data_1['Run ID'].unique()[1]]\n",
    "# run_1['Time Stamp'] = (run_1['Time Stamp'] - run_1['Time Stamp'].min()).dt.total_seconds().round().astype(int)\n",
    "incoming_run_1 = incoming_run_data_1[incoming_run_data_1['Run ID'] == run_data_1['Run ID'].unique()[1]]\n",
    "# incoming_run_1['Time Stamp'] = (incoming_run_1['Time Stamp'] - incoming_run_1['Time Stamp'].min()).dt.total_seconds().round().astype(int)"
   ],
   "id": "c722c5c8db899e74",
   "outputs": [],
   "execution_count": 4
  },
  {
   "metadata": {
    "ExecuteTime": {
     "end_time": "2025-05-28T06:59:09.766367Z",
     "start_time": "2025-05-28T06:59:09.681761Z"
    }
   },
   "cell_type": "code",
   "source": "print(run_data_1['Run ID'].nunique())",
   "id": "a680373cf9c46f22",
   "outputs": [
    {
     "name": "stdout",
     "output_type": "stream",
     "text": [
      "225\n"
     ]
    }
   ],
   "execution_count": 5
  },
  {
   "metadata": {},
   "cell_type": "markdown",
   "source": "### Consumable Life",
   "id": "bf5fc9a6c4af3bb4"
  },
  {
   "metadata": {},
   "cell_type": "code",
   "source": [
    "start_times = []\n",
    "consumable_lives = []\n",
    "for run_id in run_data_1['Run ID'].unique():\n",
    "    run = run_data_1[run_data_1['Run ID'] == run_id]\n",
    "    start_times.append(run['Run Start Time'].iloc[0])\n",
    "    consumable_lives.append(run['Consumable Life'].iloc[0])"
   ],
   "id": "c315a95dac19b69c",
   "outputs": [],
   "execution_count": null
  },
  {
   "metadata": {
    "ExecuteTime": {
     "end_time": "2025-05-28T07:16:53.229986Z",
     "start_time": "2025-05-28T07:16:53.119295Z"
    }
   },
   "cell_type": "code",
   "source": "plt.scatter(start_times, consumable_lives)",
   "id": "2f7216e27100c532",
   "outputs": [
    {
     "data": {
      "text/plain": [
       "<matplotlib.collections.PathCollection at 0x16a5cbcd0>"
      ]
     },
     "execution_count": 11,
     "metadata": {},
     "output_type": "execute_result"
    },
    {
     "data": {
      "text/plain": [
       "<Figure size 640x480 with 1 Axes>"
      ],
      "image/png": "[encoded data removed]"
     },
     "metadata": {},
     "output_type": "display_data"
    }
   ],
   "execution_count": 11
  },
  {
   "metadata": {
    "ExecuteTime": {
     "end_time": "2025-05-28T07:19:32.516707Z",
     "start_time": "2025-05-28T07:19:30.054754Z"
    }
   },
   "cell_type": "code",
   "source": [
    "for file_id in file_ids:\n",
    "    run_data = globals()[f'run_data_{file_id}']\n",
    "    run_1 = run_data[run_data['Run ID'] == run_data['Run ID'].unique()[1]]\n",
    "    print(run_1['Consumable Life'].unique())"
   ],
   "id": "d32805e7cffd09f7",
   "outputs": [
    {
     "name": "stdout",
     "output_type": "stream",
     "text": [
      "[154.22838]\n",
      "[262.638]\n",
      "[98.38322]\n",
      "[396.99667]\n",
      "[281.7413]\n",
      "[126.4707]\n",
      "[143.99867]\n",
      "[182.6695]\n",
      "[404.7126]\n",
      "[364.27295]\n",
      "[439.9176]\n",
      "[81.46912]\n",
      "[125.90316]\n",
      "[145.72571]\n",
      "[380.49118]\n",
      "[399.10016]\n",
      "[234.18092]\n",
      "[294.93002]\n",
      "[395.69153]\n"
     ]
    }
   ],
   "execution_count": 12
  },
  {
   "metadata": {
    "ExecuteTime": {
     "end_time": "2025-05-27T13:41:42.660532Z",
     "start_time": "2025-05-27T13:41:42.658334Z"
    }
   },
   "cell_type": "code",
   "source": [
    "print(run_1['Run Start Time'].iloc[0])\n",
    "print((run_1['Run End Time'].iloc[0] - run_1['Run Start Time'].iloc[0]).total_seconds())\n",
    "print(run_1['Run End Time'].iloc[0])\n",
    "print(incoming_run_1['Run Start Time'].iloc[0])\n",
    "print((incoming_run_1['Run End Time'].iloc[0] - incoming_run_1['Run Start Time'].iloc[0]).total_seconds())\n",
    "print(incoming_run_1['Run End Time'].iloc[0])"
   ],
   "id": "6d50478e3163737c",
   "outputs": [
    {
     "name": "stdout",
     "output_type": "stream",
     "text": [
      "2024-01-01 00:17:35\n",
      "755.0\n",
      "2024-01-01 00:30:10\n",
      "2023-12-31 00:22:22\n",
      "742.0\n",
      "2023-12-31 00:34:44\n"
     ]
    }
   ],
   "execution_count": 44
  },
  {
   "metadata": {
    "ExecuteTime": {
     "end_time": "2025-05-27T07:51:35.772151Z",
     "start_time": "2025-05-27T07:51:35.766566Z"
    }
   },
   "cell_type": "code",
   "source": [
    "for file_id in file_ids:\n",
    "    run_data = globals()[f'run_data_{file_id}']\n",
    "    incoming_run_data = globals()[f'incoming_run_data_{file_id}']\n",
    "    print(len(run_data) / len(incoming_run_data))"
   ],
   "id": "bd0e751d305841d6",
   "outputs": [
    {
     "name": "stdout",
     "output_type": "stream",
     "text": [
      "0.5002378520904581\n",
      "0.5069274670286092\n",
      "0.484189888121585\n",
      "0.5006675925260012\n",
      "0.47701385441339356\n",
      "0.5062662308123986\n",
      "0.49257518889794627\n",
      "0.5006493917715563\n",
      "0.49093515629967815\n",
      "0.4893152217675249\n",
      "0.4894495183475767\n",
      "0.5029520214065865\n",
      "0.49303380363485405\n",
      "0.49763299208206885\n",
      "0.49013909457132343\n",
      "0.5196929373459372\n",
      "0.5004543935850317\n",
      "0.5086890272170101\n",
      "0.49938848796542085\n"
     ]
    }
   ],
   "execution_count": 180
  },
  {
   "metadata": {},
   "cell_type": "markdown",
   "source": "## Feature Engineering",
   "id": "bfd6b3dc58cd35aa"
  },
  {
   "metadata": {},
   "cell_type": "markdown",
   "source": "### Initialization",
   "id": "467ce2c3b4455231"
  },
  {
   "metadata": {
    "ExecuteTime": {
     "end_time": "2025-05-27T13:29:44.273770Z",
     "start_time": "2025-05-27T13:29:44.268380Z"
    }
   },
   "cell_type": "code",
   "source": [
    "sample_run_data = run_data_1\n",
    "sample_incoming_run_data = incoming_run_data_1"
   ],
   "id": "8779d0902df24fce",
   "outputs": [],
   "execution_count": 22
  },
  {
   "metadata": {},
   "cell_type": "markdown",
   "source": "### Column Modifications",
   "id": "375b48670c98f50e"
  },
  {
   "metadata": {},
   "cell_type": "markdown",
   "source": "#### Drop `Process Step`",
   "id": "62abed77e68da6"
  },
  {
   "metadata": {
    "ExecuteTime": {
     "end_time": "2025-05-27T13:29:51.408602Z",
     "start_time": "2025-05-27T13:29:51.061355Z"
    }
   },
   "cell_type": "code",
   "source": [
    "sample_run_data = sample_run_data.drop(columns=['Process Step'])\n",
    "sample_incoming_run_data = sample_incoming_run_data.drop(columns=['Process Step'])"
   ],
   "id": "97d6bcde21870218",
   "outputs": [],
   "execution_count": 23
  },
  {
   "metadata": {},
   "cell_type": "markdown",
   "source": "#### Replace `Run End Time` with duration of the run and rename it to `Run Duration`",
   "id": "51559d44bc2ba174"
  },
  {
   "metadata": {
    "ExecuteTime": {
     "end_time": "2025-05-27T13:29:53.031129Z",
     "start_time": "2025-05-27T13:29:52.982141Z"
    }
   },
   "cell_type": "code",
   "source": [
    "sample_run_data['Run End Time'] = (sample_run_data['Run End Time'] - sample_run_data['Run Start Time']).dt.total_seconds().astype(int)\n",
    "sample_run_data.rename(columns={'Run End Time': 'Run Duration'}, inplace=True)\n",
    "print(sample_run_data.head(5))"
   ],
   "id": "f44480c5511393b0",
   "outputs": [
    {
     "name": "stdout",
     "output_type": "stream",
     "text": [
      "                                Tool ID Run Start Time  Run Duration  \\\n",
      "0  8060e8e1-504a-5138-a9f0-e2770bd61ba1     2024-01-01           755   \n",
      "1  8060e8e1-504a-5138-a9f0-e2770bd61ba1     2024-01-01           755   \n",
      "2  8060e8e1-504a-5138-a9f0-e2770bd61ba1     2024-01-01           755   \n",
      "3  8060e8e1-504a-5138-a9f0-e2770bd61ba1     2024-01-01           755   \n",
      "4  8060e8e1-504a-5138-a9f0-e2770bd61ba1     2024-01-01           755   \n",
      "\n",
      "                                 Run ID  Consumable Life Step ID  \\\n",
      "0  6515456b-05d4-5e6d-b42a-7652a8d671a4         370.7229  Step_0   \n",
      "1  6515456b-05d4-5e6d-b42a-7652a8d671a4         370.7229  Step_0   \n",
      "2  6515456b-05d4-5e6d-b42a-7652a8d671a4         370.7229  Step_0   \n",
      "3  6515456b-05d4-5e6d-b42a-7652a8d671a4         370.7229  Step_1   \n",
      "4  6515456b-05d4-5e6d-b42a-7652a8d671a4         370.7229  Step_1   \n",
      "\n",
      "                     Time Stamp Sensor Name  Sensor Value  \n",
      "0 2024-01-01 00:00:00.000000000    Sensor_A     -0.061105  \n",
      "1 2024-01-01 00:00:01.000000002    Sensor_A     -0.040894  \n",
      "2 2024-01-01 00:00:01.999999997    Sensor_A      0.005357  \n",
      "3 2024-01-01 00:00:03.000000000    Sensor_A     -0.029941  \n",
      "4 2024-01-01 00:00:04.000000002    Sensor_A     -0.098098  \n"
     ]
    }
   ],
   "execution_count": 24
  },
  {
   "metadata": {},
   "cell_type": "markdown",
   "source": "#### Replace `Run Start Time` with number representing seconds elapsed since the start of the first run",
   "id": "4d103db1810def12"
  },
  {
   "metadata": {
    "ExecuteTime": {
     "end_time": "2025-05-27T13:29:55.153284Z",
     "start_time": "2025-05-27T13:29:55.119422Z"
    }
   },
   "cell_type": "code",
   "source": [
    "start_time = sample_run_data['Run Start Time'].min()\n",
    "sample_run_data['Run Start Time'] = (sample_run_data['Run Start Time'] - start_time).dt.total_seconds().astype(int)\n",
    "\n",
    "print(sample_run_data.head(5))"
   ],
   "id": "c68e304017b806eb",
   "outputs": [
    {
     "name": "stdout",
     "output_type": "stream",
     "text": [
      "                                Tool ID  Run Start Time  Run Duration  \\\n",
      "0  8060e8e1-504a-5138-a9f0-e2770bd61ba1               0           755   \n",
      "1  8060e8e1-504a-5138-a9f0-e2770bd61ba1               0           755   \n",
      "2  8060e8e1-504a-5138-a9f0-e2770bd61ba1               0           755   \n",
      "3  8060e8e1-504a-5138-a9f0-e2770bd61ba1               0           755   \n",
      "4  8060e8e1-504a-5138-a9f0-e2770bd61ba1               0           755   \n",
      "\n",
      "                                 Run ID  Consumable Life Step ID  \\\n",
      "0  6515456b-05d4-5e6d-b42a-7652a8d671a4         370.7229  Step_0   \n",
      "1  6515456b-05d4-5e6d-b42a-7652a8d671a4         370.7229  Step_0   \n",
      "2  6515456b-05d4-5e6d-b42a-7652a8d671a4         370.7229  Step_0   \n",
      "3  6515456b-05d4-5e6d-b42a-7652a8d671a4         370.7229  Step_1   \n",
      "4  6515456b-05d4-5e6d-b42a-7652a8d671a4         370.7229  Step_1   \n",
      "\n",
      "                     Time Stamp Sensor Name  Sensor Value  \n",
      "0 2024-01-01 00:00:00.000000000    Sensor_A     -0.061105  \n",
      "1 2024-01-01 00:00:01.000000002    Sensor_A     -0.040894  \n",
      "2 2024-01-01 00:00:01.999999997    Sensor_A      0.005357  \n",
      "3 2024-01-01 00:00:03.000000000    Sensor_A     -0.029941  \n",
      "4 2024-01-01 00:00:04.000000002    Sensor_A     -0.098098  \n"
     ]
    }
   ],
   "execution_count": 25
  },
  {
   "metadata": {},
   "cell_type": "markdown",
   "source": "#### Test if `Time Stamp` is in seconds",
   "id": "3fa94d1e60e3f702"
  },
  {
   "metadata": {
    "ExecuteTime": {
     "end_time": "2025-05-27T13:29:56.817254Z",
     "start_time": "2025-05-27T13:29:56.734998Z"
    }
   },
   "cell_type": "code",
   "source": [
    "second_threshold = 0.0001\n",
    "start_time = sample_run_data['Time Stamp'].min()\n",
    "nearest_second = (sample_run_data['Time Stamp'] - start_time).dt.total_seconds().round() * pd.Timedelta(seconds=1) + start_time\n",
    "deviations = (nearest_second - sample_run_data['Time Stamp']).abs()\n",
    "print(deviations.max() < pd.Timedelta(seconds=second_threshold))"
   ],
   "id": "4cfbf15c018db68d",
   "outputs": [
    {
     "name": "stdout",
     "output_type": "stream",
     "text": [
      "True\n"
     ]
    }
   ],
   "execution_count": 26
  },
  {
   "metadata": {},
   "cell_type": "markdown",
   "source": "#### Replace `Time Stamp` with seconds elapsed since the start of the first run",
   "id": "4af780150fdf9326"
  },
  {
   "metadata": {
    "ExecuteTime": {
     "end_time": "2025-05-27T13:29:58.395471Z",
     "start_time": "2025-05-27T13:29:58.359020Z"
    }
   },
   "cell_type": "code",
   "source": "sample_run_data['Time Stamp'] = (sample_run_data['Time Stamp'] - start_time).dt.total_seconds().round().astype(int)",
   "id": "d9b65013233eedbf",
   "outputs": [],
   "execution_count": 27
  },
  {
   "metadata": {},
   "cell_type": "markdown",
   "source": "#### Replace `Tool ID` with a categorical number",
   "id": "c637ec1e7718d973"
  },
  {
   "metadata": {
    "ExecuteTime": {
     "end_time": "2025-05-27T13:30:01.147276Z",
     "start_time": "2025-05-27T13:30:01.047966Z"
    }
   },
   "cell_type": "code",
   "source": [
    "sample_run_data['Tool ID'] = sample_run_data['Tool ID'].astype('category').cat.codes\n",
    "\n",
    "print(sample_run_data.head(5))"
   ],
   "id": "884da8797857e376",
   "outputs": [
    {
     "name": "stdout",
     "output_type": "stream",
     "text": [
      "   Tool ID  Run Start Time  Run Duration  \\\n",
      "0        0               0           755   \n",
      "1        0               0           755   \n",
      "2        0               0           755   \n",
      "3        0               0           755   \n",
      "4        0               0           755   \n",
      "\n",
      "                                 Run ID  Consumable Life Step ID  Time Stamp  \\\n",
      "0  6515456b-05d4-5e6d-b42a-7652a8d671a4         370.7229  Step_0           0   \n",
      "1  6515456b-05d4-5e6d-b42a-7652a8d671a4         370.7229  Step_0           1   \n",
      "2  6515456b-05d4-5e6d-b42a-7652a8d671a4         370.7229  Step_0           2   \n",
      "3  6515456b-05d4-5e6d-b42a-7652a8d671a4         370.7229  Step_1           3   \n",
      "4  6515456b-05d4-5e6d-b42a-7652a8d671a4         370.7229  Step_1           4   \n",
      "\n",
      "  Sensor Name  Sensor Value  \n",
      "0    Sensor_A     -0.061105  \n",
      "1    Sensor_A     -0.040894  \n",
      "2    Sensor_A      0.005357  \n",
      "3    Sensor_A     -0.029941  \n",
      "4    Sensor_A     -0.098098  \n"
     ]
    }
   ],
   "execution_count": 28
  },
  {
   "metadata": {},
   "cell_type": "markdown",
   "source": "#### Step ID uniqueness",
   "id": "c3d27f3571d4afc8"
  },
  {
   "metadata": {
    "ExecuteTime": {
     "end_time": "2025-05-28T13:13:19.961496Z",
     "start_time": "2025-05-28T13:13:17.318336Z"
    }
   },
   "cell_type": "code",
   "source": [
    "for file_id in file_ids:\n",
    "    run_data = globals()[f'run_data_{file_id}']\n",
    "    if run_data['Step ID'].nunique() != 13:\n",
    "        print('Not all step counts are the same')\n",
    "        break\n",
    "else:\n",
    "    print('All step counts are the same')\n",
    "\n",
    "for file_id in file_ids:\n",
    "    incoming_run_data = globals()[f'incoming_run_data_{file_id}']\n",
    "    if incoming_run_data['Step ID'].nunique() != 8:\n",
    "        print('Not all incoming step counts are the same')\n",
    "        break\n",
    "else:\n",
    "    print('All incoming step counts are the same')"
   ],
   "id": "970025893af6dc00",
   "outputs": [
    {
     "name": "stdout",
     "output_type": "stream",
     "text": [
      "All step counts are the same\n",
      "All incoming step counts are the same\n"
     ]
    }
   ],
   "execution_count": 24
  },
  {
   "metadata": {},
   "cell_type": "markdown",
   "source": "#### Replace `Run ID`, `Step ID` and `Sensor Name` with a categorical number",
   "id": "a9fdd7d9af2cf8d4"
  },
  {
   "metadata": {
    "ExecuteTime": {
     "end_time": "2025-05-27T13:30:03.040649Z",
     "start_time": "2025-05-27T13:30:02.837642Z"
    }
   },
   "cell_type": "code",
   "source": [
    "sample_run_data['Run ID'] = sample_run_data['Run ID'].astype('category').cat.codes\n",
    "sample_run_data['Step ID'] = sample_run_data['Step ID'].astype('category').cat.codes\n",
    "sample_run_data['Sensor Name'] = sample_run_data['Sensor Name'].astype('category').cat.codes\n",
    "\n",
    "print(sample_run_data.head(5))"
   ],
   "id": "a749adf4b0a0f91f",
   "outputs": [
    {
     "name": "stdout",
     "output_type": "stream",
     "text": [
      "   Tool ID  Run Start Time  Run Duration  Run ID  Consumable Life  Step ID  \\\n",
      "0        0               0           755     100         370.7229        0   \n",
      "1        0               0           755     100         370.7229        0   \n",
      "2        0               0           755     100         370.7229        0   \n",
      "3        0               0           755     100         370.7229        1   \n",
      "4        0               0           755     100         370.7229        1   \n",
      "\n",
      "   Time Stamp  Sensor Name  Sensor Value  \n",
      "0           0            0     -0.061105  \n",
      "1           1            0     -0.040894  \n",
      "2           2            0      0.005357  \n",
      "3           3            0     -0.029941  \n",
      "4           4            0     -0.098098  \n"
     ]
    }
   ],
   "execution_count": 29
  },
  {
   "metadata": {},
   "cell_type": "markdown",
   "source": "### Column Collinearity (VIF)",
   "id": "5203a5988a7e8d37"
  },
  {
   "metadata": {
    "ExecuteTime": {
     "end_time": "2025-05-26T13:02:49.324222Z",
     "start_time": "2025-05-26T13:02:47.225250Z"
    }
   },
   "cell_type": "code",
   "source": [
    "from statsmodels.stats.outliers_influence import variance_inflation_factor\n",
    "def calculate_vif(dataframe):\n",
    "    vif_data = pd.DataFrame()\n",
    "    vif_data['feature'] = dataframe.columns\n",
    "    vif_data['VIF'] = [variance_inflation_factor(dataframe.values, i) for i in range(dataframe.shape[1])]\n",
    "    return vif_data\n",
    "\n",
    "print(calculate_vif(sample_run_data[['Run Start Time', 'Run Duration', 'Run ID', 'Consumable Life', 'Step ID', 'Time Stamp', 'Sensor Name', 'Sensor Value']]))"
   ],
   "id": "3d1ebcf2d6fedd49",
   "outputs": [
    {
     "name": "stdout",
     "output_type": "stream",
     "text": [
      "           feature            VIF\n",
      "0   Run Start Time  213500.062435\n",
      "1     Run Duration      20.534374\n",
      "2           Run ID       1.008930\n",
      "3  Consumable Life       1.001604\n",
      "4          Step ID       1.238203\n",
      "5       Time Stamp  213500.924212\n",
      "6      Sensor Name       1.000002\n",
      "7     Sensor Value       1.000005\n"
     ]
    }
   ],
   "execution_count": 162
  },
  {
   "metadata": {
    "ExecuteTime": {
     "end_time": "2025-05-26T12:51:50.043498Z",
     "start_time": "2025-05-26T12:51:48.082991Z"
    }
   },
   "cell_type": "code",
   "source": [
    "import matplotlib.pyplot as plt\n",
    "plt.scatter(sample_run_data['Run Start Time'], sample_run_data['Time Stamp'], alpha=0.1)\n",
    "\n",
    "# Calculate the correlation coefficient\n",
    "correlation = sample_run_data['Run Start Time'].corr(sample_run_data['Time Stamp'])\n",
    "print(f\"Correlation between 'Run Start Time' and 'Time Stamp': {correlation:.10f}\")"
   ],
   "id": "3dd78917f05a1420",
   "outputs": [
    {
     "name": "stdout",
     "output_type": "stream",
     "text": [
      "Correlation between 'Run Start Time' and 'Time Stamp': 0.9999970999\n"
     ]
    },
    {
     "data": {
      "text/plain": [
       "<Figure size 640x480 with 1 Axes>"
      ],
      "image/png": "[encoded data removed]"
     },
     "metadata": {},
     "output_type": "display_data"
    }
   ],
   "execution_count": 146
  },
  {
   "metadata": {},
   "cell_type": "markdown",
   "source": "#### Possible to remove `Time Stamp` and `Run Duration`",
   "id": "967d61eaa0013285"
  },
  {
   "metadata": {},
   "cell_type": "code",
   "outputs": [
    {
     "name": "stdout",
     "output_type": "stream",
     "text": [
      "           feature       VIF\n",
      "0   Run Start Time  3.267035\n",
      "1           Run ID  3.298534\n",
      "2  Consumable Life  4.159949\n",
      "3          Step ID  4.919090\n",
      "4      Sensor Name  3.150238\n",
      "5     Sensor Value  1.000046\n"
     ]
    }
   ],
   "execution_count": 164,
   "source": "print(calculate_vif(sample_run_data[['Run Start Time', 'Run ID', 'Consumable Life', 'Step ID', 'Sensor Name', 'Sensor Value']]))",
   "id": "a9fed4c9e1aa7473"
  },
  {
   "metadata": {
    "ExecuteTime": {
     "end_time": "2025-05-26T13:04:15.222528Z",
     "start_time": "2025-05-26T13:04:15.168209Z"
    }
   },
   "cell_type": "code",
   "source": [
    "# `Time Stamp` is almost y=x\n",
    "print(sample_run_data['Time Stamp'].corr(pd.Series(np.arange(len(sample_run_data['Time Stamp'])))))"
   ],
   "id": "8b36f0c45e843edd",
   "outputs": [
    {
     "name": "stdout",
     "output_type": "stream",
     "text": [
      "0.9998895347821206\n"
     ]
    }
   ],
   "execution_count": 165
  },
  {
   "metadata": {},
   "cell_type": "markdown",
   "source": "##",
   "id": "ea8b8424643d2aee"
  },
  {
   "metadata": {},
   "cell_type": "code",
   "outputs": [],
   "execution_count": null,
   "source": "",
   "id": "e05e14d3632e037"
  }
 ],
 "metadata": {
  "kernelspec": {
   "display_name": "Python 3",
   "language": "python",
   "name": "python3"
  },
  "language_info": {
   "codemirror_mode": {
    "name": "ipython",
    "version": 2
   },
   "file_extension": ".py",
   "mimetype": "text/x-python",
   "name": "python",
   "nbconvert_exporter": "python",
   "pygments_lexer": "ipython2",
   "version": "2.7.6"
  }
 },
 "nbformat": 4,
 "nbformat_minor": 5
}
