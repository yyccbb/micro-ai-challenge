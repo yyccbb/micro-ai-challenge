{
 "cells": [
  {
   "metadata": {},
   "cell_type": "code",
   "outputs": [],
   "execution_count": null,
   "source": [
    "import numpy as np\n",
    "import pandas as pd\n",
    "import os\n",
    "import matplotlib.pyplot as plt\n",
    "from tqdm import tqdm\n"
   ],
   "id": "44b2508692588b02"
  },
  {
   "metadata": {},
   "cell_type": "markdown",
   "source": "### Data Preparation",
   "id": "bba1a2bde800d33"
  },
  {
   "metadata": {},
   "cell_type": "code",
   "outputs": [],
   "execution_count": null,
   "source": [
    "# Find absolute path of ./data/train\n",
    "root_path = os.path.abspath(os.path.dirname(os.getcwd()))\n",
    "train_path = os.path.join(root_path, 'data', 'train')\n",
    "test_path = os.path.join(root_path, 'data', 'test')"
   ],
   "id": "2e36e01a746036d5"
  },
  {
   "metadata": {},
   "cell_type": "code",
   "outputs": [],
   "execution_count": null,
   "source": [
    "file_ids = ['1', '2', '3', '4', '6', '7', '8', '9', '10', '51', '52', '53', '54', '55', '56', '57', '58', '59', '60']\n",
    "for file_id in file_ids:\n",
    "    globals()[f'run_data_{file_id}'] = pd.read_parquet(os.path.join(train_path, f\"run_data_{file_id}.parquet\"))\n",
    "    globals()[f'incoming_run_data_{file_id}'] = pd.read_parquet(os.path.join(train_path, f\"incoming_run_data_{file_id}.parquet\"))\n",
    "    globals()[f'metrology_data_{file_id}'] = pd.read_parquet(os.path.join(train_path, f\"metrology_data{file_id}.parquet\"))"
   ],
   "id": "c91a00cbda3a67a6"
  },
  {
   "metadata": {},
   "cell_type": "code",
   "outputs": [],
   "execution_count": null,
   "source": [
    "test_run_data = pd.read_parquet(os.path.join(test_path, \"run_data.parquet\"))\n",
    "test_incoming_run_data = pd.read_parquet(os.path.join(test_path, \"incoming_run_data.parquet\"))"
   ],
   "id": "ed48ce240338881e"
  },
  {
   "metadata": {},
   "cell_type": "code",
   "outputs": [],
   "execution_count": null,
   "source": [
    "s = 0\n",
    "for file_id in file_ids:\n",
    "    s += len(globals()[f'run_data_{file_id}'])\n",
    "print(f\"Total number of entries in run_data: {s}\")"
   ],
   "id": "8e759d8255b30d3e"
  },
  {
   "metadata": {},
   "cell_type": "markdown",
   "source": "## Basic Properties",
   "id": "715030c3596f5eb8"
  },
  {
   "metadata": {},
   "cell_type": "markdown",
   "source": [
    "### Tool ID\n",
    "* A single and unique Tool ID for each run/incoming run file\n",
    "* Corresponding run/incoming run files share the same Tool ID"
   ],
   "id": "3bcb694d10c7a991"
  },
  {
   "metadata": {},
   "cell_type": "code",
   "outputs": [],
   "execution_count": null,
   "source": [
    "unique_tools = set()\n",
    "for file_id in file_ids:\n",
    "    unique_tool_run = globals()[f'run_data_{file_id}']['Tool ID'].unique()\n",
    "    unique_tool_incoming_run = globals()[f'incoming_run_data_{file_id}']['Tool ID'].unique()\n",
    "    print(unique_tool_run == unique_tool_incoming_run)\n",
    "    unique_tools.add(unique_tool_run[0])"
   ],
   "id": "107d07909214e8d1"
  },
  {
   "metadata": {},
   "cell_type": "markdown",
   "source": "### Run IDs\n",
   "id": "80cdd16ed203154f"
  },
  {
   "metadata": {},
   "cell_type": "code",
   "outputs": [],
   "execution_count": null,
   "source": [
    "for file_id in file_ids:\n",
    "    run_data = globals()[f'run_data_{file_id}']\n",
    "    incoming_run_data = globals()[f'incoming_run_data_{file_id}']\n",
    "    run_ids_run = run_data['Run ID']\n",
    "    unique_run_ids_run = set(run_ids_run.unique())\n",
    "    run_ids_incoming_run = incoming_run_data['Run ID']\n",
    "    unique_run_ids_incoming = set(run_ids_incoming_run.unique())\n",
    "    metrology_data = globals()[f'metrology_data_{file_id}']\n",
    "    run_ids_metrology = metrology_data['Run ID']\n",
    "    unique_run_ids_metrology = set(run_ids_metrology.unique())\n",
    "\n",
    "    print(file_id)\n",
    "    print(len(unique_run_ids_run))\n",
    "    print(len(run_ids_run))\n",
    "    print(len(run_ids_incoming_run))\n",
    "    print(len(run_ids_metrology))\n",
    "    print(unique_run_ids_run == unique_run_ids_incoming == unique_run_ids_metrology)\n",
    "    print()"
   ],
   "id": "5390fafbb29fcd2"
  },
  {
   "metadata": {},
   "cell_type": "markdown",
   "source": "### Sensor Names",
   "id": "ec7597c85d16ea5"
  },
  {
   "metadata": {},
   "cell_type": "code",
   "outputs": [],
   "execution_count": null,
   "source": [
    "print(run_data_1['Sensor Name'].unique())\n",
    "for file_id in file_ids:\n",
    "    run_data = globals()[f'run_data_{file_id}']\n",
    "    print(run_data['Sensor Name'].unique() == run_data_1['Sensor Name'].unique())"
   ],
   "id": "e0bbb081d0efabc"
  },
  {
   "metadata": {},
   "cell_type": "code",
   "outputs": [],
   "execution_count": null,
   "source": [
    "print(incoming_run_data_1['Sensor Name'].unique())\n",
    "for file_id in file_ids:\n",
    "    incoming_run_data = globals()[f'incoming_run_data_{file_id}']\n",
    "    print(incoming_run_data['Sensor Name'].unique() == incoming_run_data_1['Sensor Name'].unique())"
   ],
   "id": "cc149b36c679dbfb"
  },
  {
   "metadata": {},
   "cell_type": "code",
   "outputs": [],
   "execution_count": null,
   "source": "print(run_data_1.head(5))",
   "id": "2fb8afa087f4150e"
  },
  {
   "metadata": {},
   "cell_type": "code",
   "outputs": [],
   "execution_count": null,
   "source": "print(run_data_1['Consumable Life'].nunique())",
   "id": "dcdbb1294f90eabb"
  },
  {
   "metadata": {},
   "cell_type": "code",
   "outputs": [],
   "execution_count": null,
   "source": "print(incoming_run_data_1.head(5))",
   "id": "5772644e9fbbddd5"
  },
  {
   "metadata": {},
   "cell_type": "markdown",
   "source": "### Process Step",
   "id": "9487187d167c5f93"
  },
  {
   "metadata": {},
   "cell_type": "markdown",
   "source": [
    "* All run_data file entries share the same `Process Step` (intuitively since run_data focuses on the specific current process).\n",
    "* All incoming_run_data file entries also share the same `Process Step`."
   ],
   "id": "fab1a329db32a595"
  },
  {
   "metadata": {},
   "cell_type": "code",
   "outputs": [],
   "execution_count": null,
   "source": [
    "unique_processes = set()\n",
    "for file_id in file_ids:\n",
    "    run_data = globals()[f'run_data_{file_id}']\n",
    "    unique_processes.add(run_data['Process Step'].nunique())\n",
    "    unique_processes.add(run_data['Process Step'].unique()[0])\n",
    "print(unique_processes)"
   ],
   "id": "a3448fc2bb7f20c7"
  },
  {
   "metadata": {},
   "cell_type": "code",
   "outputs": [],
   "execution_count": null,
   "source": [
    "unique_processes = set()\n",
    "for file_id in file_ids:\n",
    "    incoming_run_data = globals()[f'incoming_run_data_{file_id}']\n",
    "    unique_processes.add(incoming_run_data['Process Step'].nunique())\n",
    "    unique_processes.add(incoming_run_data['Process Step'].unique()[0])\n",
    "print(unique_processes)"
   ],
   "id": "cdf28026c1410998"
  },
  {
   "metadata": {},
   "cell_type": "markdown",
   "source": "### Time Stamp",
   "id": "974cd02d15f54c71"
  },
  {
   "metadata": {},
   "cell_type": "code",
   "outputs": [],
   "execution_count": null,
   "source": [
    "for file_id in file_ids:\n",
    "    run_data = globals()[f'run_data_{file_id}']\n",
    "    incoming_run_data = globals()[f'incoming_run_data_{file_id}']\n",
    "    print(run_data['Run Start Time'].nunique())"
   ],
   "id": "5f23c0ef9aafa4e5"
  },
  {
   "metadata": {},
   "cell_type": "markdown",
   "source": "* Every run has `no_time_stamps` * 15 entries for `run_data` and `no_time_stamps` * 41 entries for `incoming_run_data` (in two cases `no_time_stamps` are different)",
   "id": "f3df580ffb84f136"
  },
  {
   "metadata": {},
   "cell_type": "code",
   "outputs": [],
   "execution_count": null,
   "source": [
    "run_1 = run_data_1[run_data_1['Run ID'] == run_data_1['Run ID'].unique()[1]]\n",
    "print(len(run_1))\n",
    "print(run_1['Time Stamp'].value_counts())"
   ],
   "id": "28076ecfcbaa1763"
  },
  {
   "metadata": {},
   "cell_type": "code",
   "outputs": [],
   "execution_count": null,
   "source": "print(run_1['Step ID'].value_counts())",
   "id": "9b17c9548555041f"
  },
  {
   "metadata": {},
   "cell_type": "code",
   "outputs": [],
   "execution_count": null,
   "source": [
    "incoming_run_1 = incoming_run_data_1[incoming_run_data_1['Run ID'] == run_data_1['Run ID'].unique()[1]]\n",
    "print(len(incoming_run_1))"
   ],
   "id": "98665ff0a7463d7c"
  },
  {
   "metadata": {},
   "cell_type": "code",
   "outputs": [],
   "execution_count": null,
   "source": [
    "from tqdm import tqdm\n",
    "\n",
    "for file_id in file_ids:\n",
    "    run_data = globals()[f'run_data_{file_id}']\n",
    "    unique_runs = run_data['Run ID'].unique()\n",
    "    incoming_run_data = globals()[f'incoming_run_data_{file_id}']\n",
    "    for run_id in tqdm(unique_runs, desc=f'Checking run data for file {file_id}'):\n",
    "        run = run_data[run_data['Run ID'] == run_id]\n",
    "        incoming_run = incoming_run_data[incoming_run_data['Run ID'] == run_id]\n",
    "        if len(run) != run['Time Stamp'].nunique() * 15:\n",
    "            print(\"Mismatch in run data for Run ID:\", run_id)\n",
    "        if len(incoming_run) != incoming_run['Time Stamp'].nunique() * 41:\n",
    "            print(\"Mismatch in incoming run data for Run ID:\", run_id)\n",
    "\n",
    "# No mismatches found, all runs have the expected number of time stamps."
   ],
   "id": "dc64ab94a59962b"
  },
  {
   "metadata": {},
   "cell_type": "markdown",
   "source": "* Within each run in `run_data` or `incoming_run_data`, sensors start measuring since the beginning of the run and record data every second. However, they stop recording before the end of the run.",
   "id": "5f7bed31c68bdb7e"
  },
  {
   "metadata": {},
   "cell_type": "code",
   "outputs": [],
   "execution_count": null,
   "source": [
    "# Taking run_data_1 and incoming_run_data_1 as an example\n",
    "from tqdm import tqdm\n",
    "import matplotlib.pyplot as plt\n",
    "\n",
    "run_durations = []\n",
    "run_ending_early = []\n",
    "incoming_run_durations = []\n",
    "incoming_run_ending_early = []\n",
    "for run_id in tqdm(run_data_1['Run ID'].unique()):\n",
    "    run = run_data_1[run_data_1['Run ID'] == run_id]\n",
    "    run_durations.append((run['Run End Time'].iloc[0] - run['Run Start Time'].iloc[0]).total_seconds())\n",
    "    run_ending_early.append((run['Run End Time'].iloc[0] - run['Time Stamp'].max()).total_seconds())\n",
    "\n",
    "    incoming_run = incoming_run_data_1[incoming_run_data_1['Run ID'] == run_id]\n",
    "    incoming_run_durations.append((incoming_run['Run End Time'].iloc[0] - incoming_run['Run Start Time'].iloc[0]).total_seconds())\n",
    "    incoming_run_ending_early.append((incoming_run['Run End Time'].iloc[0] - incoming_run['Time Stamp'].max()).total_seconds())"
   ],
   "id": "f155bc207a9dc6f0"
  },
  {
   "metadata": {},
   "cell_type": "code",
   "outputs": [],
   "execution_count": null,
   "source": [
    "print((np.array(run_durations) == 755.0).all())\n",
    "print((np.array(incoming_run_durations) == 742.0).all())"
   ],
   "id": "ac4a1811929506b2"
  },
  {
   "metadata": {},
   "cell_type": "code",
   "outputs": [],
   "execution_count": null,
   "source": "print(run_ending_early)",
   "id": "fa892934afff1992"
  },
  {
   "metadata": {},
   "cell_type": "code",
   "outputs": [],
   "execution_count": null,
   "source": [
    "plt.figure(figsize=(12, 6))\n",
    "plt.subplot(1, 2, 1)\n",
    "plt.hist(run_ending_early, bins=100)\n",
    "plt.subplot(1, 2, 2)\n",
    "plt.hist(incoming_run_ending_early, bins=100)\n",
    "plt.show()"
   ],
   "id": "34c0d4d14761e9e6"
  },
  {
   "metadata": {},
   "cell_type": "code",
   "outputs": [],
   "execution_count": null,
   "source": [
    "run_1 = run_data_1[run_data_1['Run ID'] == run_data_1['Run ID'].unique()[1]]\n",
    "# run_1['Time Stamp'] = (run_1['Time Stamp'] - run_1['Time Stamp'].min()).dt.total_seconds().round().astype(int)\n",
    "incoming_run_1 = incoming_run_data_1[incoming_run_data_1['Run ID'] == run_data_1['Run ID'].unique()[1]]\n",
    "# incoming_run_1['Time Stamp'] = (incoming_run_1['Time Stamp'] - incoming_run_1['Time Stamp'].min()).dt.total_seconds().round().astype(int)"
   ],
   "id": "7c0411b199c9beba"
  },
  {
   "metadata": {},
   "cell_type": "code",
   "outputs": [],
   "execution_count": null,
   "source": "print(run_data_1['Run ID'].nunique())",
   "id": "75d81e5ba6232217"
  },
  {
   "metadata": {},
   "cell_type": "markdown",
   "source": "### Consumable Life",
   "id": "dd9a3ecb53d14bb4"
  },
  {
   "metadata": {},
   "cell_type": "code",
   "outputs": [],
   "execution_count": null,
   "source": [
    "start_times = []\n",
    "consumable_lives = []\n",
    "for run_id in run_data_1['Run ID'].unique():\n",
    "    run = run_data_1[run_data_1['Run ID'] == run_id]\n",
    "    start_times.append(run['Run Start Time'].iloc[0])\n",
    "    consumable_lives.append(run['Consumable Life'].iloc[0])"
   ],
   "id": "91870435947c695c"
  },
  {
   "metadata": {},
   "cell_type": "code",
   "outputs": [],
   "execution_count": null,
   "source": "plt.scatter(start_times, consumable_lives)",
   "id": "4fcb5264068baf0d"
  },
  {
   "metadata": {},
   "cell_type": "code",
   "outputs": [],
   "execution_count": null,
   "source": [
    "for file_id in file_ids:\n",
    "    run_data = globals()[f'run_data_{file_id}']\n",
    "    run_1 = run_data[run_data['Run ID'] == run_data['Run ID'].unique()[1]]\n",
    "    print(run_1['Consumable Life'].unique())"
   ],
   "id": "2b941a16dd8eccf8"
  },
  {
   "metadata": {},
   "cell_type": "code",
   "outputs": [],
   "execution_count": null,
   "source": [
    "print(run_1['Run Start Time'].iloc[0])\n",
    "print((run_1['Run End Time'].iloc[0] - run_1['Run Start Time'].iloc[0]).total_seconds())\n",
    "print(run_1['Run End Time'].iloc[0])\n",
    "print(incoming_run_1['Run Start Time'].iloc[0])\n",
    "print((incoming_run_1['Run End Time'].iloc[0] - incoming_run_1['Run Start Time'].iloc[0]).total_seconds())\n",
    "print(incoming_run_1['Run End Time'].iloc[0])"
   ],
   "id": "75fcebaf7d61ca70"
  },
  {
   "metadata": {},
   "cell_type": "code",
   "outputs": [],
   "execution_count": null,
   "source": [
    "for file_id in file_ids:\n",
    "    run_data = globals()[f'run_data_{file_id}']\n",
    "    incoming_run_data = globals()[f'incoming_run_data_{file_id}']\n",
    "    print(len(run_data) / len(incoming_run_data))"
   ],
   "id": "728059e020f6ee45"
  },
  {
   "metadata": {},
   "cell_type": "markdown",
   "source": "## Feature Engineering",
   "id": "27d277e67e883393"
  },
  {
   "metadata": {},
   "cell_type": "markdown",
   "source": "### Initialization",
   "id": "fa8344b099304056"
  },
  {
   "metadata": {},
   "cell_type": "code",
   "outputs": [],
   "execution_count": null,
   "source": [
    "sample_run_data = run_data_1\n",
    "sample_incoming_run_data = incoming_run_data_1"
   ],
   "id": "79a5660cb84b4f9d"
  },
  {
   "metadata": {},
   "cell_type": "markdown",
   "source": "### Column Modifications",
   "id": "4358ce2ba1c21ba0"
  },
  {
   "metadata": {},
   "cell_type": "markdown",
   "source": "#### Drop `Process Step`",
   "id": "e445aeda4b1c009a"
  },
  {
   "metadata": {},
   "cell_type": "code",
   "outputs": [],
   "execution_count": null,
   "source": [
    "sample_run_data = sample_run_data.drop(columns=['Process Step'])\n",
    "sample_incoming_run_data = sample_incoming_run_data.drop(columns=['Process Step'])"
   ],
   "id": "9439fc58c77db3bf"
  },
  {
   "metadata": {},
   "cell_type": "markdown",
   "source": "#### Replace `Run End Time` with duration of the run and rename it to `Run Duration`",
   "id": "2cae43a69d50ab14"
  },
  {
   "metadata": {},
   "cell_type": "code",
   "outputs": [],
   "execution_count": null,
   "source": [
    "sample_run_data['Run End Time'] = (sample_run_data['Run End Time'] - sample_run_data['Run Start Time']).dt.total_seconds().astype(int)\n",
    "sample_run_data.rename(columns={'Run End Time': 'Run Duration'}, inplace=True)\n",
    "print(sample_run_data.head(5))"
   ],
   "id": "1c0b77670e4cfa94"
  },
  {
   "metadata": {},
   "cell_type": "markdown",
   "source": "#### Replace `Run Start Time` with number representing seconds elapsed since the start of the first run",
   "id": "a66f83bc910061a3"
  },
  {
   "metadata": {},
   "cell_type": "code",
   "outputs": [],
   "execution_count": null,
   "source": [
    "start_time = sample_run_data['Run Start Time'].min()\n",
    "sample_run_data['Run Start Time'] = (sample_run_data['Run Start Time'] - start_time).dt.total_seconds().astype(int)\n",
    "\n",
    "print(sample_run_data.head(5))"
   ],
   "id": "3064370d57a4e1d9"
  },
  {
   "metadata": {},
   "cell_type": "markdown",
   "source": "#### Test if `Time Stamp` is in seconds",
   "id": "1fc14a2b0ae85f6a"
  },
  {
   "metadata": {},
   "cell_type": "code",
   "outputs": [],
   "execution_count": null,
   "source": [
    "second_threshold = 0.0001\n",
    "start_time = sample_run_data['Time Stamp'].min()\n",
    "nearest_second = (sample_run_data['Time Stamp'] - start_time).dt.total_seconds().round() * pd.Timedelta(seconds=1) + start_time\n",
    "deviations = (nearest_second - sample_run_data['Time Stamp']).abs()\n",
    "print(deviations.max() < pd.Timedelta(seconds=second_threshold))"
   ],
   "id": "5d88d66290fddc68"
  },
  {
   "metadata": {},
   "cell_type": "markdown",
   "source": "#### Replace `Time Stamp` with seconds elapsed since the start of the first run",
   "id": "e45f0c6ad2d8c93f"
  },
  {
   "metadata": {},
   "cell_type": "code",
   "outputs": [],
   "execution_count": null,
   "source": "sample_run_data['Time Stamp'] = (sample_run_data['Time Stamp'] - start_time).dt.total_seconds().round().astype(int)",
   "id": "d95bf9766a6517ae"
  },
  {
   "metadata": {},
   "cell_type": "markdown",
   "source": "#### Replace `Tool ID` with a categorical number",
   "id": "d0727dacf992dc54"
  },
  {
   "metadata": {},
   "cell_type": "code",
   "outputs": [],
   "execution_count": null,
   "source": [
    "sample_run_data['Tool ID'] = sample_run_data['Tool ID'].astype('category').cat.codes\n",
    "\n",
    "print(sample_run_data.head(5))"
   ],
   "id": "b45c79c5ba2e25b3"
  },
  {
   "metadata": {},
   "cell_type": "markdown",
   "source": "#### Step ID uniqueness",
   "id": "ee5bc17a3958f1e5"
  },
  {
   "metadata": {},
   "cell_type": "code",
   "outputs": [],
   "execution_count": null,
   "source": [
    "for file_id in file_ids:\n",
    "    run_data = globals()[f'run_data_{file_id}']\n",
    "    if run_data['Step ID'].nunique() != 13:\n",
    "        print('Not all step counts are the same')\n",
    "        break\n",
    "else:\n",
    "    print('All step counts are the same')\n",
    "\n",
    "for file_id in file_ids:\n",
    "    incoming_run_data = globals()[f'incoming_run_data_{file_id}']\n",
    "    if incoming_run_data['Step ID'].nunique() != 8:\n",
    "        print('Not all incoming step counts are the same')\n",
    "        break\n",
    "else:\n",
    "    print('All incoming step counts are the same')"
   ],
   "id": "839cee943cb809d5"
  },
  {
   "metadata": {},
   "cell_type": "markdown",
   "source": "#### Replace `Run ID`, `Step ID` and `Sensor Name` with a categorical number",
   "id": "564c938e330ef233"
  },
  {
   "metadata": {},
   "cell_type": "code",
   "outputs": [],
   "execution_count": null,
   "source": [
    "sample_run_data['Run ID'] = sample_run_data['Run ID'].astype('category').cat.codes\n",
    "sample_run_data['Step ID'] = sample_run_data['Step ID'].astype('category').cat.codes\n",
    "sample_run_data['Sensor Name'] = sample_run_data['Sensor Name'].astype('category').cat.codes\n",
    "\n",
    "print(sample_run_data.head(5))"
   ],
   "id": "52f39fd3f54c1a94"
  },
  {
   "metadata": {},
   "cell_type": "markdown",
   "source": "### Column Collinearity (VIF)",
   "id": "c963408d5ae9243d"
  },
  {
   "metadata": {},
   "cell_type": "code",
   "outputs": [],
   "execution_count": null,
   "source": [
    "from statsmodels.stats.outliers_influence import variance_inflation_factor\n",
    "def calculate_vif(dataframe):\n",
    "    vif_data = pd.DataFrame()\n",
    "    vif_data['feature'] = dataframe.columns\n",
    "    vif_data['VIF'] = [variance_inflation_factor(dataframe.values, i) for i in range(dataframe.shape[1])]\n",
    "    return vif_data\n",
    "\n",
    "print(calculate_vif(sample_run_data[['Run Start Time', 'Run Duration', 'Run ID', 'Consumable Life', 'Step ID', 'Time Stamp', 'Sensor Name', 'Sensor Value']]))"
   ],
   "id": "c2b52ff68ef07631"
  },
  {
   "metadata": {},
   "cell_type": "code",
   "outputs": [],
   "execution_count": null,
   "source": [
    "import matplotlib.pyplot as plt\n",
    "plt.scatter(sample_run_data['Run Start Time'], sample_run_data['Time Stamp'], alpha=0.1)\n",
    "\n",
    "# Calculate the correlation coefficient\n",
    "correlation = sample_run_data['Run Start Time'].corr(sample_run_data['Time Stamp'])\n",
    "print(f\"Correlation between 'Run Start Time' and 'Time Stamp': {correlation:.10f}\")"
   ],
   "id": "c6a53624f9f0e31a"
  },
  {
   "metadata": {},
   "cell_type": "markdown",
   "source": "#### Possible to remove `Time Stamp` and `Run Duration`",
   "id": "a6de115d8abc31fc"
  },
  {
   "metadata": {},
   "cell_type": "code",
   "outputs": [],
   "execution_count": null,
   "source": "print(calculate_vif(sample_run_data[['Run Start Time', 'Run ID', 'Consumable Life', 'Step ID', 'Sensor Name', 'Sensor Value']]))",
   "id": "ddd7bc89006666c7"
  },
  {
   "metadata": {},
   "cell_type": "code",
   "outputs": [],
   "execution_count": null,
   "source": [
    "# `Time Stamp` is almost y=x\n",
    "print(sample_run_data['Time Stamp'].corr(pd.Series(np.arange(len(sample_run_data['Time Stamp'])))))"
   ],
   "id": "3de1bb0416e9386d"
  },
  {
   "metadata": {},
   "cell_type": "markdown",
   "source": "## Test Dataset",
   "id": "8e966ebd6876c0a8"
  },
  {
   "metadata": {},
   "cell_type": "markdown",
   "source": [
    "* Contains data for 20 different tools (1 more than train datasets)\n",
    "* Contains the missing runs from the train datasets, so when combined every tool has 250 different runs"
   ],
   "id": "8a0e09f3af30e6d5"
  },
  {
   "metadata": {},
   "cell_type": "code",
   "outputs": [],
   "execution_count": null,
   "source": "set(test_run_data['Tool ID'].unique()) == set(test_incoming_run_data['Tool ID'].unique())",
   "id": "a9987378d6eb931e"
  },
  {
   "metadata": {},
   "cell_type": "code",
   "outputs": [],
   "execution_count": null,
   "source": "unique_tools.issubset(set(test_run_data['Tool ID'].unique()))",
   "id": "5eed0fa9ba60f17f"
  },
  {
   "metadata": {},
   "cell_type": "code",
   "outputs": [],
   "execution_count": null,
   "source": "set(test_run_data['Tool ID'].unique()).difference(unique_tools)",
   "id": "97e9908fa1fd3c61"
  },
  {
   "metadata": {},
   "cell_type": "code",
   "outputs": [],
   "execution_count": null,
   "source": "print(run_data_1['Tool ID'][0])",
   "id": "60bde424644e8859"
  },
  {
   "metadata": {},
   "cell_type": "code",
   "outputs": [],
   "execution_count": null,
   "source": "test_run_data[test_run_data['Tool ID'] == '8060e8e1-504a-5138-a9f0-e2770bd61ba1'].head()",
   "id": "47c087c03ef597e9"
  },
  {
   "metadata": {},
   "cell_type": "code",
   "outputs": [],
   "execution_count": null,
   "source": "run_data_1.head()",
   "id": "2e51e004afd04939"
  },
  {
   "metadata": {},
   "cell_type": "code",
   "outputs": [],
   "execution_count": null,
   "source": [
    "for key, tool in test_run_data.groupby('Tool ID'):\n",
    "    print(key)\n",
    "    print(tool['Run ID'].nunique())\n",
    "    print(len(tool))"
   ],
   "id": "37441d93546cbaba"
  },
  {
   "metadata": {},
   "cell_type": "code",
   "outputs": [],
   "execution_count": null,
   "source": "",
   "id": "f9f6f178e60432ce"
  }
 ],
 "metadata": {
  "kernelspec": {
   "display_name": "Python 3",
   "language": "python",
   "name": "python3"
  },
  "language_info": {
   "codemirror_mode": {
    "name": "ipython",
    "version": 2
   },
   "file_extension": ".py",
   "mimetype": "text/x-python",
   "name": "python",
   "nbconvert_exporter": "python",
   "pygments_lexer": "ipython2",
   "version": "2.7.6"
  }
 },
 "nbformat": 4,
 "nbformat_minor": 5
}
