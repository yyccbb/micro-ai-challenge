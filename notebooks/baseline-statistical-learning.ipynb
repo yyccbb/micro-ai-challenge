{
 "cells": [
  {
   "cell_type": "code",
   "id": "initial_id",
   "metadata": {
    "collapsed": true,
    "ExecuteTime": {
     "end_time": "2025-06-12T09:55:43.650796Z",
     "start_time": "2025-06-12T09:55:40.293713Z"
    }
   },
   "source": [
    "import numpy as np\n",
    "import pandas as pd\n",
    "import os\n",
    "import matplotlib.pyplot as plt\n",
    "\n",
    "import torch\n",
    "import torch.nn as nn\n",
    "\n",
    "from joblib import load\n",
    "from sklearn.model_selection import train_test_split\n",
    "from sklearn.preprocessing import StandardScaler\n",
    "from sklearn.pipeline import Pipeline\n",
    "from sklearn.linear_model import (\n",
    "    LinearRegression, Ridge, Lasso, ElasticNet, HuberRegressor,\n",
    "    RANSACRegressor, TheilSenRegressor, BayesianRidge, SGDRegressor\n",
    ")\n",
    "from sklearn.svm import SVR\n",
    "from sklearn.ensemble import RandomForestRegressor\n",
    "from sklearn.metrics import r2_score, mean_squared_error\n",
    "from sklearn.multioutput import MultiOutputRegressor\n",
    "from tqdm import tqdm\n",
    "\n",
    "from utils import create_data_loaders, train_model, test_model"
   ],
   "outputs": [],
   "execution_count": 1
  },
  {
   "metadata": {},
   "cell_type": "markdown",
   "source": "#### Hyperparameters",
   "id": "5f490c2a2ea1698e"
  },
  {
   "metadata": {
    "ExecuteTime": {
     "end_time": "2025-06-12T09:55:43.673702Z",
     "start_time": "2025-06-12T09:55:43.670592Z"
    }
   },
   "cell_type": "code",
   "source": [
    "RANDOM_STATE = 42\n",
    "BATCH_SIZE = 32\n",
    "NUM_EPOCHS = 40\n",
    "LEARNING_RATE = 1e-3\n",
    "PATIENCE = 10\n",
    "MIN_DELTA = 1e-4"
   ],
   "id": "8cd1749c7315c835",
   "outputs": [],
   "execution_count": 2
  },
  {
   "metadata": {
    "ExecuteTime": {
     "end_time": "2025-06-12T09:55:44.570864Z",
     "start_time": "2025-06-12T09:55:43.795942Z"
    }
   },
   "cell_type": "code",
   "source": [
    "root_path = os.path.abspath(os.path.dirname(os.getcwd()))\n",
    "processed_path = os.path.join(root_path, \"data\", \"processed\")\n",
    "os.makedirs(processed_path, exist_ok=True)\n",
    "\n",
    "run_matrices = load(os.path.join(processed_path, 'run_matrices.joblib'))\n",
    "incoming_run_matrices = load(os.path.join(processed_path, 'incoming_run_matrices.joblib'))\n",
    "metrology_matrix = load(os.path.join(processed_path, 'metrology_matrix.joblib'))"
   ],
   "id": "e8c74880e8937843",
   "outputs": [],
   "execution_count": 3
  },
  {
   "metadata": {
    "ExecuteTime": {
     "end_time": "2025-06-12T09:55:44.599949Z",
     "start_time": "2025-06-12T09:55:44.597491Z"
    }
   },
   "cell_type": "code",
   "source": [
    "print(run_matrices.shape, incoming_run_matrices.shape, metrology_matrix.shape)\n",
    "print(type(run_matrices), type(incoming_run_matrices), type(metrology_matrix))"
   ],
   "id": "1cf8b8b4c3ba7f14",
   "outputs": [
    {
     "name": "stdout",
     "output_type": "stream",
     "text": [
      "(4140, 755, 20) (4140, 755, 45) (4140, 49)\n",
      "<class 'numpy.ndarray'> <class 'numpy.ndarray'> <class 'numpy.ndarray'>\n"
     ]
    }
   ],
   "execution_count": 4
  },
  {
   "metadata": {},
   "cell_type": "markdown",
   "source": "### Train, val, test split",
   "id": "bb404a1dcaa8b76f"
  },
  {
   "metadata": {
    "ExecuteTime": {
     "end_time": "2025-06-12T09:57:40.609566Z",
     "start_time": "2025-06-12T09:57:38.866405Z"
    }
   },
   "cell_type": "code",
   "source": [
    "X = np.concatenate([run_matrices, incoming_run_matrices], axis=2)\n",
    "y = metrology_matrix\n",
    "\n",
    "# Convert to torch tensors\n",
    "X = torch.FloatTensor(X)\n",
    "y = torch.FloatTensor(y)\n",
    "\n",
    "# Define dataset sizes\n",
    "total_size = len(X)\n",
    "train_size = int(0.7 * total_size)\n",
    "val_size = int(0.1 * total_size)\n",
    "test_size = total_size - train_size - val_size\n",
    "\n",
    "# Create TensorDataset to keep X and y aligned\n",
    "dataset = torch.utils.data.TensorDataset(X, y)\n",
    "\n",
    "# Split dataset\n",
    "train_dataset, val_dataset, test_dataset = torch.utils.data.random_split(\n",
    "    dataset,\n",
    "    [train_size, val_size, test_size],\n",
    "    generator=torch.Generator().manual_seed(RANDOM_STATE)\n",
    ")\n",
    "\n",
    "# Extract X and y from datasets\n",
    "X_train, y_train = next(iter(torch.utils.data.DataLoader(train_dataset, batch_size=len(train_dataset))))\n",
    "X_val, y_val = next(iter(torch.utils.data.DataLoader(val_dataset, batch_size=len(val_dataset))))\n",
    "X_test, y_test = next(iter(torch.utils.data.DataLoader(test_dataset, batch_size=len(test_dataset))))\n"
   ],
   "id": "954147f5561a641",
   "outputs": [],
   "execution_count": 9
  },
  {
   "metadata": {},
   "cell_type": "markdown",
   "source": "### Flattening",
   "id": "fe64c0b8c6cef9f1"
  },
  {
   "metadata": {
    "ExecuteTime": {
     "end_time": "2025-06-12T09:57:41.337285Z",
     "start_time": "2025-06-12T09:57:41.325845Z"
    }
   },
   "cell_type": "code",
   "source": [
    "X_train_flattened = X_train.reshape(X_train.shape[0], -1)\n",
    "X_val_flattened = X_val.reshape(X_val.shape[0], -1)\n",
    "X_test_flattened = X_test.reshape(X_test.shape[0], -1)\n",
    "print(X_train_flattened.shape)"
   ],
   "id": "dedb4ac8dc76d666",
   "outputs": [
    {
     "name": "stdout",
     "output_type": "stream",
     "text": [
      "torch.Size([2898, 49075])\n"
     ]
    }
   ],
   "execution_count": 10
  },
  {
   "metadata": {},
   "cell_type": "markdown",
   "source": "### Models",
   "id": "7587aa853e4d7958"
  },
  {
   "metadata": {
    "ExecuteTime": {
     "end_time": "2025-06-12T09:57:43.632127Z",
     "start_time": "2025-06-12T09:57:43.625880Z"
    }
   },
   "cell_type": "code",
   "source": [
    "models = {\n",
    "    \"LinearRegression\": Pipeline([\n",
    "        (\"scaler\", StandardScaler()),\n",
    "        (\"model\", LinearRegression())\n",
    "    ]),\n",
    "    \"Ridge\": Pipeline([\n",
    "        (\"scaler\", StandardScaler()),\n",
    "        (\"model\", Ridge(alpha=1.0))\n",
    "    ]),\n",
    "    # \"SGDRegressor\": Pipeline([\n",
    "    #     (\"scaler\", StandardScaler()),\n",
    "    #     (\"model\", MultiOutputRegressor(SGDRegressor(max_iter=1000, tol=1e-3)))\n",
    "    # ]),\n",
    "    \"RandomForest\": Pipeline([\n",
    "        (\"scaler\", StandardScaler()),  # RF doesn't need scaling but keeping for consistency\n",
    "        (\"model\", MultiOutputRegressor(RandomForestRegressor(\n",
    "            n_estimators=100,\n",
    "            random_state=RANDOM_STATE,\n",
    "            n_jobs=-1\n",
    "        )))\n",
    "    ]),\n",
    "    \"SVM\": Pipeline([\n",
    "        (\"scaler\", StandardScaler()),  # SVM definitely needs scaling\n",
    "        (\"model\", MultiOutputRegressor(SVR(\n",
    "            kernel='rbf',\n",
    "            C=1.0,\n",
    "            gamma='scale'\n",
    "        )))\n",
    "    ])\n",
    "}"
   ],
   "id": "25428550c2fa8501",
   "outputs": [],
   "execution_count": 11
  },
  {
   "metadata": {
    "jupyter": {
     "is_executing": true
    },
    "ExecuteTime": {
     "end_time": "2025-06-12T11:41:40.916876Z",
     "start_time": "2025-06-12T09:57:45.523129Z"
    }
   },
   "cell_type": "code",
   "source": [
    "for model_name, pipeline in models.items():\n",
    "    pipeline.fit(X_train_flattened, y_train)\n",
    "    # scaled_sample = pipeline.named_steps['scaler'].transform(X_test_flattened)[0]\n",
    "    # print(\"First scaled sample:\", scaled_sample)\n",
    "    y_test_pred = pipeline.predict(X_test_flattened)\n",
    "    print(f\"{model_name}:\")\n",
    "    print(f\"mse: {mean_squared_error(y_test_pred, y_test)}\")\n",
    "    print(f\"r2_score: {r2_score(y_test_pred, y_test)}\")\n"
   ],
   "id": "fc89e795dad1eea1",
   "outputs": [
    {
     "name": "stdout",
     "output_type": "stream",
     "text": [
      "LinearRegression:\n",
      "mse: 0.03473641509168667\n",
      "r2_score: 0.4411796792147032\n",
      "Ridge:\n",
      "mse: 0.0349472531031829\n",
      "r2_score: 0.4398745211241576\n"
     ]
    }
   ],
   "execution_count": null
  },
  {
   "metadata": {},
   "cell_type": "code",
   "outputs": [],
   "execution_count": null,
   "source": "",
   "id": "a634e52905ea5cc7"
  }
 ],
 "metadata": {
  "kernelspec": {
   "display_name": "Python 3",
   "language": "python",
   "name": "python3"
  },
  "language_info": {
   "codemirror_mode": {
    "name": "ipython",
    "version": 2
   },
   "file_extension": ".py",
   "mimetype": "text/x-python",
   "name": "python",
   "nbconvert_exporter": "python",
   "pygments_lexer": "ipython2",
   "version": "2.7.6"
  }
 },
 "nbformat": 4,
 "nbformat_minor": 5
}
